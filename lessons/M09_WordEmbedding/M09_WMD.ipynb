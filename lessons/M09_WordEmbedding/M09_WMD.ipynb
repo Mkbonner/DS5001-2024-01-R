{
 "cells": [
  {
   "cell_type": "markdown",
   "metadata": {},
   "source": [
    "# WMD\n",
    "\n",
    "See https://radimrehurek.com/gensim/auto_examples/tutorials/run_wmd.html#sphx-glr-auto-examples-tutorials-run-wmd-py \n",
    "\n",
    "Also:\n",
    "* https://vene.ro/blog/word-movers-distance-in-python.html\n",
    "* https://proceedings.mlr.press/v37/kusnerb15.html "
   ]
  },
  {
   "cell_type": "markdown",
   "metadata": {},
   "source": []
  }
 ],
 "metadata": {
  "language_info": {
   "name": "python"
  }
 },
 "nbformat": 4,
 "nbformat_minor": 2
}
