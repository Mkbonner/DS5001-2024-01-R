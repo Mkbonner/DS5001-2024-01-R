{
 "cells": [
  {
   "cell_type": "markdown",
   "id": "0f281cf0-d2d8-406b-84d9-7eac555c26cf",
   "metadata": {},
   "source": [
    "# Recipe\n",
    "\n",
    "## Create TOKEN table\n",
    "\n",
    "1. Inspect source text, taking note of where it begins and ends and the header patterns.\n",
    "2. Import the source text into a dataframe of line strings.\n",
    "3. Extract the title.\n",
    "4. Clip the cruft by using regexs for the beginning and end of the actual text.\n",
    "5. Chunk by using a regex for chapter headings, assign lines, and group.\n",
    "6. Split into paragraphs using new lines.\n",
    "7. Split into sentences using regex.\n",
    "8. Split into tokens using regex.\n",
    "\n",
    "# Create VOBAB table\n",
    "\n",
    "1. Get token value counts and save as data frame."
   ]
  },
  {
   "cell_type": "code",
   "execution_count": null,
   "id": "6b990edd-c8d9-4624-8e36-5faeb38f564c",
   "metadata": {},
   "outputs": [],
   "source": []
  }
 ],
 "metadata": {
  "kernelspec": {
   "display_name": "Python [conda env:ds5001]",
   "language": "python",
   "name": "conda-env-ds5001-py"
  },
  "language_info": {
   "codemirror_mode": {
    "name": "ipython",
    "version": 3
   },
   "file_extension": ".py",
   "mimetype": "text/x-python",
   "name": "python",
   "nbconvert_exporter": "python",
   "pygments_lexer": "ipython3",
   "version": "3.11.5"
  }
 },
 "nbformat": 4,
 "nbformat_minor": 5
}
