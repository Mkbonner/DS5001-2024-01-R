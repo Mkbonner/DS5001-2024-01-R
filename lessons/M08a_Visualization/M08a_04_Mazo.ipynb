{
 "cells": [
  {
   "cell_type": "markdown",
   "id": "30ea2b5b-1fcb-4280-bbb7-3559a787bfc8",
   "metadata": {},
   "source": [
    "# Using Mazo\n",
    "\n",
    "```yaml\n",
    "Course:   DS 5001\n",
    "Module:   08a Lab\n",
    "Topic:    Using Mazo\n",
    "Author:   R.C. Alvarado\n",
    "Date:     23 March 2023\n",
    "```\n",
    "\n",
    "## Purpose\n",
    "\n",
    "Demonstrate utility of Mazo output.\n",
    "\n",
    "We run mazo on a demo corpus, then we convert the results to dataframes and store them in a SQLite database."
   ]
  },
  {
   "cell_type": "markdown",
   "id": "c7d127bd-4966-42f0-9ca1-83b7069f1356",
   "metadata": {},
   "source": [
    "## Before Using This Notebook\n",
    "\n",
    "1. Download and install Mazo from https://github.com/ontoligent-design/mazo. Or you can use the source code that exists in the course repo's `local_lib` under `lessons`.\n",
    "2. Set up a project directory, e.g. `mazo-demo`, and create the appropriate files and diretories as described in `README.md` in the source code directory. This notebook assumes that this directory is in the course `output` directory, i.e. as `output/mazo-demo`. \n",
    "3. Copy the demo data files into the `corpus` subdirectory of your project directory. You can get these files from the `corpus` subdirectory in the source code directory you used to install Mazo.\n",
    "4. Run `mazo` from commandline to generate topic models.\n",
    "5. Once this is done, run the code in this notebook. Be sure to first set the variable `demo_dir` to the location of the directory you created."
   ]
  },
  {
   "cell_type": "markdown",
   "id": "45b841cf-de6c-4fe7-8e30-065bfd8c59ea",
   "metadata": {},
   "source": [
    "## Set Up"
   ]
  },
  {
   "cell_type": "markdown",
   "id": "3626b441-dd29-44f4-8282-d3a0e6ce5f7f",
   "metadata": {},
   "source": [
    "### Config"
   ]
  },
  {
   "cell_type": "code",
   "execution_count": 1,
   "id": "7273a258",
   "metadata": {
    "tags": []
   },
   "outputs": [],
   "source": [
    "import configparser\n",
    "config = configparser.ConfigParser()\n",
    "config.read(\"../../../env.ini\")\n",
    "data_home = config['DEFAULT']['data_home']\n",
    "output_dir = config['DEFAULT']['output_dir']\n",
    "local_lib = config['DEFAULT']['local_lib']"
   ]
  },
  {
   "cell_type": "code",
   "execution_count": 2,
   "id": "e1484429-0459-4761-a44c-abf2758d8271",
   "metadata": {},
   "outputs": [],
   "source": [
    "demo_dir = f\"{output_dir}/mazo-demo\""
   ]
  },
  {
   "cell_type": "markdown",
   "id": "65f0acbb",
   "metadata": {},
   "source": [
    "Get the list of mazo outputs you created. \n",
    "\n",
    "Use this to cut and paste a value to `model_id`."
   ]
  },
  {
   "cell_type": "code",
   "execution_count": 3,
   "id": "cd15403f",
   "metadata": {},
   "outputs": [
    {
     "name": "stdout",
     "output_type": "stream",
     "text": [
      "\u001b[34mdemo-20-1702048476347938\u001b[m\u001b[m\n"
     ]
    }
   ],
   "source": [
    "!ls {demo_dir}/output"
   ]
  },
  {
   "cell_type": "code",
   "execution_count": 4,
   "id": "f69dff4b-d2e7-4f21-83b8-336ac14715f8",
   "metadata": {},
   "outputs": [],
   "source": [
    "model_id = \"demo-20-1702048476347938\""
   ]
  },
  {
   "cell_type": "markdown",
   "id": "072c7627-2c54-4a56-bffb-2bb23a8496cd",
   "metadata": {},
   "source": [
    "### Imports"
   ]
  },
  {
   "cell_type": "code",
   "execution_count": 5,
   "id": "6ee61fb9-1d4c-475d-8013-8ccce41dd792",
   "metadata": {},
   "outputs": [],
   "source": [
    "import pandas as pd\n",
    "import numpy as np\n",
    "from glob import glob\n",
    "import sqlite3"
   ]
  },
  {
   "cell_type": "code",
   "execution_count": 6,
   "id": "8dd2fb5b-6fad-4535-86c8-f7439f597654",
   "metadata": {},
   "outputs": [],
   "source": [
    "import sys\n",
    "sys.path.append(local_lib)\n",
    "from mazo.polite import polite"
   ]
  },
  {
   "cell_type": "markdown",
   "id": "fe6d8b80-a8d2-4fe7-857c-0c86ce082907",
   "metadata": {},
   "source": [
    "## Import Model Tables"
   ]
  },
  {
   "cell_type": "markdown",
   "id": "3d82dfc3",
   "metadata": {},
   "source": [
    "Grab the data mazo generated."
   ]
  },
  {
   "cell_type": "code",
   "execution_count": 7,
   "id": "0bf1f8c9",
   "metadata": {},
   "outputs": [],
   "source": [
    "mazo_tables_mask = f\"{demo_dir}/output/{model_id}/tables/*.csv\""
   ]
  },
  {
   "cell_type": "markdown",
   "id": "35b54e0d",
   "metadata": {},
   "source": [
    "Create SQLite database file to save dataframes."
   ]
  },
  {
   "cell_type": "code",
   "execution_count": 8,
   "id": "ce20e86b",
   "metadata": {},
   "outputs": [],
   "source": [
    "db_file = f\"{demo_dir}/{model_id}.db\""
   ]
  },
  {
   "cell_type": "markdown",
   "id": "572b33fc",
   "metadata": {},
   "source": [
    "See what we have created:"
   ]
  },
  {
   "cell_type": "code",
   "execution_count": 9,
   "id": "8c20e2b0",
   "metadata": {},
   "outputs": [
    {
     "name": "stdout",
     "output_type": "stream",
     "text": [
      "/Users/rca2t1/Dropbox/Courses/DS/DS5001/DS5001_2024_01_R/output/mazo-demo/output/demo-20-1702048476347938/tables/DOC.csv\n",
      "/Users/rca2t1/Dropbox/Courses/DS/DS5001/DS5001_2024_01_R/output/mazo-demo/output/demo-20-1702048476347938/tables/DOCTOPIC.csv\n",
      "/Users/rca2t1/Dropbox/Courses/DS/DS5001/DS5001_2024_01_R/output/mazo-demo/output/demo-20-1702048476347938/tables/DOCTOPIC_NARROW.csv\n",
      "/Users/rca2t1/Dropbox/Courses/DS/DS5001/DS5001_2024_01_R/output/mazo-demo/output/demo-20-1702048476347938/tables/DOCWORD.csv\n",
      "/Users/rca2t1/Dropbox/Courses/DS/DS5001/DS5001_2024_01_R/output/mazo-demo/output/demo-20-1702048476347938/tables/PHRASE.csv\n",
      "/Users/rca2t1/Dropbox/Courses/DS/DS5001/DS5001_2024_01_R/output/mazo-demo/output/demo-20-1702048476347938/tables/TOPIC.csv\n",
      "/Users/rca2t1/Dropbox/Courses/DS/DS5001/DS5001_2024_01_R/output/mazo-demo/output/demo-20-1702048476347938/tables/TOPICPHRASE.csv\n",
      "/Users/rca2t1/Dropbox/Courses/DS/DS5001/DS5001_2024_01_R/output/mazo-demo/output/demo-20-1702048476347938/tables/TOPICWORD.csv\n",
      "/Users/rca2t1/Dropbox/Courses/DS/DS5001/DS5001_2024_01_R/output/mazo-demo/output/demo-20-1702048476347938/tables/TOPICWORD_DIAGS.csv\n",
      "/Users/rca2t1/Dropbox/Courses/DS/DS5001/DS5001_2024_01_R/output/mazo-demo/output/demo-20-1702048476347938/tables/TOPICWORD_NARROW.csv\n",
      "/Users/rca2t1/Dropbox/Courses/DS/DS5001/DS5001_2024_01_R/output/mazo-demo/output/demo-20-1702048476347938/tables/VOCAB.csv\n"
     ]
    }
   ],
   "source": [
    "ls {mazo_tables_mask}"
   ]
  },
  {
   "cell_type": "markdown",
   "id": "4d926f84",
   "metadata": {},
   "source": [
    "Create an empty object to store dataframes.\n",
    "\n",
    "This is just for convenience for inspecting the dataframes in this notebook after they are generated."
   ]
  },
  {
   "cell_type": "code",
   "execution_count": 10,
   "id": "ef95f560-d248-4937-bcdf-a30a519c13e3",
   "metadata": {},
   "outputs": [],
   "source": [
    "class Model: pass\n",
    "model = Model()"
   ]
  },
  {
   "cell_type": "markdown",
   "id": "af84b620",
   "metadata": {},
   "source": [
    "Initialized the database."
   ]
  },
  {
   "cell_type": "code",
   "execution_count": 11,
   "id": "8c4f48a6-cf1b-4a90-8f63-b7e00ba3949d",
   "metadata": {},
   "outputs": [],
   "source": [
    "db = sqlite3.connect(db_file)"
   ]
  },
  {
   "cell_type": "code",
   "execution_count": 12,
   "id": "68a4d358-4647-499a-9e07-36e130923fae",
   "metadata": {},
   "outputs": [
    {
     "name": "stdout",
     "output_type": "stream",
     "text": [
      "TOPIC\n",
      "TOPICWORD_DIAGS\n",
      "TOPICPHRASE\n",
      "DOCTOPIC_NARROW\n",
      "VOCAB\n",
      "DOCTOPIC\n",
      "TOPICWORD\n",
      "PHRASE\n",
      "TOPICWORD_NARROW\n",
      "DOCWORD\n",
      "DOC\n"
     ]
    }
   ],
   "source": [
    "for tfile in glob(mazo_tables_mask):\n",
    "    \n",
    "    tname = tfile.split('/')[-1].split('.')[0]\n",
    "    print(tname)\n",
    "\n",
    "    df = pd.read_csv(tfile)\n",
    "    idx = polite.Polite.schema[tname].index\n",
    "    try:\n",
    "        df = df.set_index(idx)\n",
    "    except:\n",
    "        print(tname, \"has no\", idx)\n",
    "        pass\n",
    "    try:\n",
    "        df.to_sql(tname, db)\n",
    "    except: \n",
    "        pass\n",
    "    setattr(model, tname, df)"
   ]
  },
  {
   "cell_type": "markdown",
   "id": "e0230118",
   "metadata": {},
   "source": [
    "## Explore the Dataframes"
   ]
  },
  {
   "cell_type": "markdown",
   "id": "03f859e0",
   "metadata": {},
   "source": [
    "Here is a list of extracted phrases and their association with topics."
   ]
  },
  {
   "cell_type": "code",
   "execution_count": 27,
   "id": "0e641ab9-cdb3-4518-be02-4985f04bd37e",
   "metadata": {},
   "outputs": [
    {
     "data": {
      "text/html": [
       "<div>\n",
       "<style scoped>\n",
       "    .dataframe tbody tr th:only-of-type {\n",
       "        vertical-align: middle;\n",
       "    }\n",
       "\n",
       "    .dataframe tbody tr th {\n",
       "        vertical-align: top;\n",
       "    }\n",
       "\n",
       "    .dataframe thead th {\n",
       "        text-align: right;\n",
       "    }\n",
       "</style>\n",
       "<table border=\"1\" class=\"dataframe\">\n",
       "  <thead>\n",
       "    <tr style=\"text-align: right;\">\n",
       "      <th></th>\n",
       "      <th>n_topics</th>\n",
       "      <th>n_words</th>\n",
       "      <th>topic_list</th>\n",
       "      <th>topic_weight_mean</th>\n",
       "    </tr>\n",
       "    <tr>\n",
       "      <th>topic_phrase</th>\n",
       "      <th></th>\n",
       "      <th></th>\n",
       "      <th></th>\n",
       "      <th></th>\n",
       "    </tr>\n",
       "  </thead>\n",
       "  <tbody>\n",
       "    <tr>\n",
       "      <th>cabernet sauvignon</th>\n",
       "      <td>2</td>\n",
       "      <td>683</td>\n",
       "      <td>00 17</td>\n",
       "      <td>0.030425</td>\n",
       "    </tr>\n",
       "    <tr>\n",
       "      <th>cabernet franc</th>\n",
       "      <td>1</td>\n",
       "      <td>290</td>\n",
       "      <td>17</td>\n",
       "      <td>0.025955</td>\n",
       "    </tr>\n",
       "    <tr>\n",
       "      <th>cabernet sauvignon merlot</th>\n",
       "      <td>1</td>\n",
       "      <td>146</td>\n",
       "      <td>17</td>\n",
       "      <td>0.013067</td>\n",
       "    </tr>\n",
       "    <tr>\n",
       "      <th>petit verdot</th>\n",
       "      <td>1</td>\n",
       "      <td>145</td>\n",
       "      <td>17</td>\n",
       "      <td>0.012978</td>\n",
       "    </tr>\n",
       "    <tr>\n",
       "      <th>merlot cabernet sauvignon</th>\n",
       "      <td>1</td>\n",
       "      <td>108</td>\n",
       "      <td>17</td>\n",
       "      <td>0.009666</td>\n",
       "    </tr>\n",
       "    <tr>\n",
       "      <th>sauvignon merlot</th>\n",
       "      <td>1</td>\n",
       "      <td>89</td>\n",
       "      <td>17</td>\n",
       "      <td>0.007966</td>\n",
       "    </tr>\n",
       "    <tr>\n",
       "      <th>pinot noir</th>\n",
       "      <td>5</td>\n",
       "      <td>577</td>\n",
       "      <td>03 10 12 13 18</td>\n",
       "      <td>0.007600</td>\n",
       "    </tr>\n",
       "    <tr>\n",
       "      <th>petite sirah</th>\n",
       "      <td>2</td>\n",
       "      <td>168</td>\n",
       "      <td>12 17</td>\n",
       "      <td>0.007182</td>\n",
       "    </tr>\n",
       "    <tr>\n",
       "      <th>cabernet sauvignon cabernet franc</th>\n",
       "      <td>1</td>\n",
       "      <td>54</td>\n",
       "      <td>17</td>\n",
       "      <td>0.004833</td>\n",
       "    </tr>\n",
       "    <tr>\n",
       "      <th>cab franc</th>\n",
       "      <td>1</td>\n",
       "      <td>52</td>\n",
       "      <td>17</td>\n",
       "      <td>0.004654</td>\n",
       "    </tr>\n",
       "  </tbody>\n",
       "</table>\n",
       "</div>"
      ],
      "text/plain": [
       "                                   n_topics  n_words      topic_list  \\\n",
       "topic_phrase                                                           \n",
       "cabernet sauvignon                        2      683           00 17   \n",
       "cabernet franc                            1      290              17   \n",
       "cabernet sauvignon merlot                 1      146              17   \n",
       "petit verdot                              1      145              17   \n",
       "merlot cabernet sauvignon                 1      108              17   \n",
       "sauvignon merlot                          1       89              17   \n",
       "pinot noir                                5      577  03 10 12 13 18   \n",
       "petite sirah                              2      168           12 17   \n",
       "cabernet sauvignon cabernet franc         1       54              17   \n",
       "cab franc                                 1       52              17   \n",
       "\n",
       "                                   topic_weight_mean  \n",
       "topic_phrase                                          \n",
       "cabernet sauvignon                          0.030425  \n",
       "cabernet franc                              0.025955  \n",
       "cabernet sauvignon merlot                   0.013067  \n",
       "petit verdot                                0.012978  \n",
       "merlot cabernet sauvignon                   0.009666  \n",
       "sauvignon merlot                            0.007966  \n",
       "pinot noir                                  0.007600  \n",
       "petite sirah                                0.007182  \n",
       "cabernet sauvignon cabernet franc           0.004833  \n",
       "cab franc                                   0.004654  "
      ]
     },
     "execution_count": 27,
     "metadata": {},
     "output_type": "execute_result"
    }
   ],
   "source": [
    "model.PHRASE.sort_values('topic_weight_mean', ascending=False).head(10)"
   ]
  },
  {
   "cell_type": "code",
   "execution_count": 32,
   "id": "846ae9fb",
   "metadata": {},
   "outputs": [],
   "source": [
    "import plotly_express as px"
   ]
  },
  {
   "cell_type": "code",
   "execution_count": 64,
   "id": "4e38ec36",
   "metadata": {},
   "outputs": [],
   "source": [
    "model.PHRASE['x_factor'] = np.log2(model.PHRASE.n_words * model.PHRASE.n_topics).sort_values()"
   ]
  },
  {
   "cell_type": "code",
   "execution_count": 65,
   "id": "a1d87e6f",
   "metadata": {},
   "outputs": [
    {
     "data": {
      "text/html": [
       "<div>\n",
       "<style scoped>\n",
       "    .dataframe tbody tr th:only-of-type {\n",
       "        vertical-align: middle;\n",
       "    }\n",
       "\n",
       "    .dataframe tbody tr th {\n",
       "        vertical-align: top;\n",
       "    }\n",
       "\n",
       "    .dataframe thead th {\n",
       "        text-align: right;\n",
       "    }\n",
       "</style>\n",
       "<table border=\"1\" class=\"dataframe\">\n",
       "  <thead>\n",
       "    <tr style=\"text-align: right;\">\n",
       "      <th></th>\n",
       "      <th>n_topics</th>\n",
       "      <th>n_words</th>\n",
       "      <th>topic_list</th>\n",
       "      <th>topic_weight_mean</th>\n",
       "      <th>x_factor</th>\n",
       "    </tr>\n",
       "    <tr>\n",
       "      <th>topic_phrase</th>\n",
       "      <th></th>\n",
       "      <th></th>\n",
       "      <th></th>\n",
       "      <th></th>\n",
       "      <th></th>\n",
       "    </tr>\n",
       "  </thead>\n",
       "  <tbody>\n",
       "    <tr>\n",
       "      <th>black cherry</th>\n",
       "      <td>8</td>\n",
       "      <td>449</td>\n",
       "      <td>00 01 06 07 11 12 16 17</td>\n",
       "      <td>0.004146</td>\n",
       "      <td>11.810572</td>\n",
       "    </tr>\n",
       "    <tr>\n",
       "      <th>pinot noir</th>\n",
       "      <td>5</td>\n",
       "      <td>577</td>\n",
       "      <td>03 10 12 13 18</td>\n",
       "      <td>0.007600</td>\n",
       "      <td>11.494356</td>\n",
       "    </tr>\n",
       "    <tr>\n",
       "      <th>cabernet sauvignon</th>\n",
       "      <td>2</td>\n",
       "      <td>683</td>\n",
       "      <td>00 17</td>\n",
       "      <td>0.030425</td>\n",
       "      <td>10.415742</td>\n",
       "    </tr>\n",
       "    <tr>\n",
       "      <th>fruit flavors</th>\n",
       "      <td>4</td>\n",
       "      <td>170</td>\n",
       "      <td>03 04 05 06</td>\n",
       "      <td>0.002891</td>\n",
       "      <td>9.409391</td>\n",
       "    </tr>\n",
       "    <tr>\n",
       "      <th>sauvignon blanc</th>\n",
       "      <td>3</td>\n",
       "      <td>171</td>\n",
       "      <td>04 09 15</td>\n",
       "      <td>0.003159</td>\n",
       "      <td>9.002815</td>\n",
       "    </tr>\n",
       "    <tr>\n",
       "      <th>...</th>\n",
       "      <td>...</td>\n",
       "      <td>...</td>\n",
       "      <td>...</td>\n",
       "      <td>...</td>\n",
       "      <td>...</td>\n",
       "    </tr>\n",
       "    <tr>\n",
       "      <th>notes nose</th>\n",
       "      <td>1</td>\n",
       "      <td>9</td>\n",
       "      <td>08</td>\n",
       "      <td>0.000980</td>\n",
       "      <td>3.169925</td>\n",
       "    </tr>\n",
       "    <tr>\n",
       "      <th>citrus peel</th>\n",
       "      <td>1</td>\n",
       "      <td>8</td>\n",
       "      <td>08</td>\n",
       "      <td>0.000871</td>\n",
       "      <td>3.000000</td>\n",
       "    </tr>\n",
       "    <tr>\n",
       "      <th>green pear</th>\n",
       "      <td>1</td>\n",
       "      <td>8</td>\n",
       "      <td>08</td>\n",
       "      <td>0.000871</td>\n",
       "      <td>3.000000</td>\n",
       "    </tr>\n",
       "    <tr>\n",
       "      <th>freshly cut</th>\n",
       "      <td>1</td>\n",
       "      <td>7</td>\n",
       "      <td>08</td>\n",
       "      <td>0.000762</td>\n",
       "      <td>2.807355</td>\n",
       "    </tr>\n",
       "    <tr>\n",
       "      <th>grner veltliner</th>\n",
       "      <td>1</td>\n",
       "      <td>7</td>\n",
       "      <td>08</td>\n",
       "      <td>0.000762</td>\n",
       "      <td>2.807355</td>\n",
       "    </tr>\n",
       "  </tbody>\n",
       "</table>\n",
       "<p>145 rows × 5 columns</p>\n",
       "</div>"
      ],
      "text/plain": [
       "                    n_topics  n_words               topic_list  \\\n",
       "topic_phrase                                                     \n",
       "black cherry               8      449  00 01 06 07 11 12 16 17   \n",
       "pinot noir                 5      577           03 10 12 13 18   \n",
       "cabernet sauvignon         2      683                    00 17   \n",
       "fruit flavors              4      170              03 04 05 06   \n",
       "sauvignon blanc            3      171                 04 09 15   \n",
       "...                      ...      ...                      ...   \n",
       "notes nose                 1        9                       08   \n",
       "citrus peel                1        8                       08   \n",
       "green pear                 1        8                       08   \n",
       "freshly cut                1        7                       08   \n",
       "grner veltliner            1        7                       08   \n",
       "\n",
       "                    topic_weight_mean   x_factor  \n",
       "topic_phrase                                      \n",
       "black cherry                 0.004146  11.810572  \n",
       "pinot noir                   0.007600  11.494356  \n",
       "cabernet sauvignon           0.030425  10.415742  \n",
       "fruit flavors                0.002891   9.409391  \n",
       "sauvignon blanc              0.003159   9.002815  \n",
       "...                               ...        ...  \n",
       "notes nose                   0.000980   3.169925  \n",
       "citrus peel                  0.000871   3.000000  \n",
       "green pear                   0.000871   3.000000  \n",
       "freshly cut                  0.000762   2.807355  \n",
       "grner veltliner              0.000762   2.807355  \n",
       "\n",
       "[145 rows x 5 columns]"
      ]
     },
     "execution_count": 65,
     "metadata": {},
     "output_type": "execute_result"
    }
   ],
   "source": [
    "model.PHRASE.sort_values('x_factor', ascending=False)"
   ]
  },
  {
   "cell_type": "code",
   "execution_count": 73,
   "id": "f25174d7",
   "metadata": {},
   "outputs": [
    {
     "data": {
      "application/vnd.plotly.v1+json": {
       "config": {
        "plotlyServerURL": "https://plot.ly"
       },
       "data": [
        {
         "hovertemplate": "<b>%{hovertext}</b><br><br>n_words=%{x}<br>n_topics=%{y}<br>topic_weight_mean=%{marker.size}<br>x_factor=%{marker.color}<extra></extra>",
         "hovertext": [
          "aging potential",
          "almond paste",
          "anderson valley",
          "apple melon",
          "apple pear",
          "aromas black",
          "aromas flavors",
          "aromas include",
          "aromas lead",
          "baking spice",
          "baking spices",
          "berry aromas",
          "berry flavors",
          "berry fruits",
          "black cherry",
          "black currant",
          "black fruit",
          "black fruits",
          "black pepper",
          "blackberries cherries",
          "blackberries currants",
          "blackberry cassis",
          "blackberry currant",
          "bottle age",
          "bottling shows",
          "bright acidity",
          "brown sugar",
          "bubble gum",
          "buttered toast",
          "cab franc",
          "cabernet franc",
          "cabernet sauvignon",
          "cabernet sauvignon cabernet franc",
          "cabernet sauvignon merlot",
          "cherry cola",
          "cherry flavors",
          "cherry fruit",
          "cherry plum",
          "chianti classico",
          "citrus aromas",
          "citrus flavors",
          "citrus peel",
          "coffee bean",
          "crisp acidity",
          "crme brle",
          "crushed stone",
          "dark chocolate",
          "develop bottle",
          "dried black",
          "dried herb",
          "dried herbs",
          "dry riesling",
          "estate vineyard",
          "exotic fruit",
          "exotic spice",
          "finegrained tannins",
          "finger lakes",
          "firm tannins",
          "flavors finish",
          "forest floor",
          "french oak",
          "fresh acidity",
          "freshly cut",
          "fruit flavors",
          "full bodied",
          "grapefruit flavors",
          "green apple",
          "green pear",
          "grner veltliner",
          "high alcohol",
          "lake county",
          "lead nose",
          "lemon peel",
          "lemon zest",
          "long finish",
          "medium bodied",
          "medium body",
          "melon citrus",
          "merlot cabernet sauvignon",
          "meyer lemon",
          "mineral texture",
          "months french",
          "napa valley",
          "nero davola",
          "northern italy",
          "nose bottling",
          "notes add",
          "notes nose",
          "offdry riesling",
          "opens aromas",
          "orange blossom",
          "orange peel",
          "orange zest",
          "petit verdot",
          "petite sirah",
          "pinot noir",
          "pinot noirs",
          "plum aromas",
          "plum berry",
          "plum flavors",
          "premier cru",
          "prosecco superiore",
          "purple flowers",
          "raspberries cherries",
          "raspberry cherry",
          "red berries",
          "red berry",
          "red cherry",
          "red currant",
          "red fruit",
          "red fruits",
          "residual sugar",
          "ripe fruit",
          "ripe yellow",
          "root beer",
          "rose petal",
          "rose petals",
          "russian river valley",
          "sauvignon blanc",
          "sauvignon merlot",
          "sea salt",
          "show nose",
          "show nose bottling",
          "sierra foothills",
          "smoky oak",
          "stainless steel",
          "stone fruit",
          "takes lead",
          "tightly wound",
          "toasted oak",
          "touriga nacional",
          "tropical fruit",
          "vanilla cream",
          "vineyard site",
          "vineyard sites",
          "walla walla",
          "white flower",
          "white flowers",
          "white peach",
          "white pepper",
          "wild berry",
          "wood aging",
          "years cellar",
          "yellow apple",
          "yellow fruits"
         ],
         "legendgroup": "",
         "marker": {
          "color": [
           4.857980995127572,
           3.700439718141092,
           3.807354922057604,
           4.247927513443585,
           8.584962500721156,
           4.247927513443585,
           8.092757140919852,
           3.9068905956085187,
           4.523561956057013,
           6.491853096329675,
           4.247927513443585,
           6.321928094887363,
           5.584962500721156,
           6.906890595608519,
           11.810571634741146,
           7.339850002884624,
           7.994353436858858,
           5.426264754702098,
           8.820178962415188,
           4.321928094887363,
           4.087462841250339,
           4.247927513443585,
           4.087462841250339,
           3.807354922057604,
           4.459431618637297,
           6.832890014164741,
           5.169925001442312,
           3.9068905956085187,
           5.857980995127572,
           5.700439718141092,
           8.179909090014934,
           10.41574176829009,
           5.754887502163468,
           7.189824558880018,
           4.857980995127572,
           4.584962500721156,
           5.285402218862249,
           4.643856189774724,
           4.321928094887363,
           3.9068905956085187,
           6.392317422778761,
           3,
           3.9068905956085187,
           8.214319120800766,
           4.906890595608519,
           3.700439718141092,
           4.392317422778761,
           4.169925001442312,
           4.087462841250339,
           4.321928094887363,
           4,
           4.169925001442312,
           6.247927513443585,
           3.9068905956085187,
           4.754887502163468,
           4.523561956057013,
           3.9068905956085187,
           5.882643049361842,
           5,
           6.754887502163468,
           7.906890595608519,
           5.285402218862249,
           2.807354922057604,
           9.409390936137703,
           8.804131021183318,
           4.169925001442312,
           7.523561956057013,
           3,
           2.807354922057604,
           5.727920454563199,
           4.523561956057013,
           4.523561956057013,
           3.584962500721156,
           6.832890014164741,
           4.857980995127572,
           7.599912842187128,
           4.954196310386875,
           3.9068905956085187,
           6.754887502163468,
           5.129283016944966,
           4,
           4.584962500721156,
           4.523561956057013,
           5.20945336562895,
           4,
           5.78135971352466,
           3.4594316186372973,
           3.169925001442312,
           3.321928094887362,
           4.523561956057013,
           3.169925001442312,
           6.044394119358453,
           4.700439718141092,
           7.1799090900149345,
           8.39231742277876,
           11.494355603532846,
           4.954196310386875,
           5,
           4.584962500721156,
           4.459431618637297,
           3.807354922057604,
           3.807354922057604,
           4.584962500721156,
           5.044394119358453,
           5.392317422778761,
           5.20945336562895,
           7.22881869049588,
           7.20945336562895,
           5.285402218862249,
           5.129283016944966,
           7.409390936137702,
           5.727920454563199,
           7.417852514885898,
           3.9068905956085187,
           4.169925001442312,
           4.247927513443585,
           4.459431618637297,
           3.700439718141092,
           9.002815015607053,
           6.475733430966398,
           5.554588851677638,
           5.584962500721156,
           4.321928094887363,
           4.169925001442312,
           5.044394119358453,
           7.066089190457772,
           6.672425341971495,
           4,
           6.491853096329675,
           3.9068905956085187,
           5.491853096329675,
           5.20945336562895,
           4.643856189774724,
           3.807354922057604,
           4.087462841250339,
           3.807354922057604,
           5,
           4.807354922057604,
           8.257387842692651,
           5.426264754702098,
           4.584962500721156,
           6.087462841250339,
           4.523561956057013,
           4.584962500721156,
           4.700439718141092
          ],
          "coloraxis": "coloraxis",
          "size": [
           0.0015171331415119,
           0.0007369196757553,
           0.0010946907498631,
           0.0011052937754508,
           0.0018518276185689,
           0.0026681645836258,
           0.001945999463017,
           0.0008502919335638,
           0.0023647953937898,
           0.0021024386669453,
           0.0009452736318407,
           0.0031474997049219,
           0.0018884998229531,
           0.0014591929658033,
           0.0041463243136622,
           0.0025238874048709,
           0.0018514226593961,
           0.0022495422443107,
           0.0019180368108793,
           0.0014964459408903,
           0.0012719790497568,
           0.0007475311799189,
           0.0012719790497568,
           0.0006965174129353,
           0.0012963290318779,
           0.0021897105051359,
           0.0022908049634107,
           0.0008726003490401,
           0.0029566192588061,
           0.004654076792267,
           0.0259554282645663,
           0.0304253021110127,
           0.0048330797458158,
           0.0130672156090575,
           0.0018453706649697,
           0.0015272033089405,
           0.0019402985074626,
           0.0007616146230007,
           0.0011337225780851,
           0.0008726003490401,
           0.0012742277729905,
           0.0008713647750789,
           0.0021064457239151,
           0.0025237100605504,
           0.0015292858235204,
           0.0011806375442739,
           0.0015712682379349,
           0.0013468013468013,
           0.0023873051537705,
           0.0020563438206868,
           0.0016450750565494,
           0.0016347289074561,
           0.0012723445871743,
           0.0008502919335638,
           0.0015305254804149,
           0.0020301880130638,
           0.0013622740895468,
           0.003086581218938,
           0.0012589998819687,
           0.0016029039910448,
           0.00206037701196,
           0.0031591737545565,
           0.000762444178194,
           0.0028911005836836,
           0.0023171917277021,
           0.0010471204188481,
           0.0033075419659359,
           0.0008713647750789,
           0.000762444178194,
           0.0033725739739102,
           0.0017984205176323,
           0.0032298834433366,
           0.0013070471626184,
           0.0025973256634054,
           0.0008834729626808,
           0.0020201769144788,
           0.0009444021325209,
           0.0008726003490401,
           0.0096661594916316,
           0.0017841667941071,
           0.001024262211126,
           0.0011940298507462,
           0.0017984205176323,
           0.0020973867694575,
           0.0009069780624681,
           0.0032408225796947,
           0.0009990009990009,
           0.0009802853719638,
           0.0009081827263645,
           0.0020301880130638,
           0.000817364453728,
           0.0013912119263428,
           0.0022589052997393,
           0.0129777141322831,
           0.0071818399766561,
           0.0076004184208476,
           0.0019726376073814,
           0.0012589998819687,
           0.0009442499114765,
           0.0008655624188535,
           0.0008962294347352,
           0.0007936058046595,
           0.0014141771256849,
           0.0020999045497931,
           0.0026726057906458,
           0.0029971648440664,
           0.003175694258912,
           0.0031606180920937,
           0.0031591737545565,
           0.0028351559335763,
           0.002854554201632,
           0.0027017382882194,
           0.0012196752762174,
           0.0009602458229306,
           0.0010203503202766,
           0.0011195568911672,
           0.0012963290318779,
           0.0010164985534443,
           0.0031591573523073,
           0.0079656314329186,
           0.0027694302044664,
           0.0028283542513699,
           0.0011784809380708,
           0.0014074595355383,
           0.0024691358024691,
           0.0016960654747367,
           0.0018531266832542,
           0.0016450750565494,
           0.002689512037206,
           0.0021064457239151,
           0.0023541721161391,
           0.0018861191823418,
           0.0012744048529336,
           0.0010946907498631,
           0.0013292673391195,
           0.0006965174129353,
           0.0027801911381407,
           0.0024326672458731,
           0.0026691833581166,
           0.0037955688939888,
           0.00211845705711,
           0.0035574156421658,
           0.0017209128320239,
           0.0020851433536055,
           0.0016644260930798
          ],
          "sizemode": "area",
          "sizeref": 7.606325527753175e-05,
          "symbol": "circle"
         },
         "mode": "markers",
         "name": "",
         "orientation": "v",
         "showlegend": false,
         "type": "scatter",
         "x": [
          29,
          13,
          14,
          19,
          96,
          19,
          91,
          15,
          23,
          45,
          19,
          80,
          48,
          60,
          449,
          81,
          85,
          43,
          113,
          20,
          17,
          19,
          17,
          14,
          22,
          57,
          36,
          15,
          58,
          52,
          290,
          683,
          54,
          146,
          29,
          24,
          39,
          25,
          20,
          15,
          42,
          8,
          15,
          99,
          30,
          13,
          21,
          18,
          17,
          20,
          16,
          18,
          38,
          15,
          27,
          23,
          15,
          59,
          32,
          54,
          80,
          39,
          7,
          170,
          149,
          18,
          92,
          8,
          7,
          53,
          23,
          23,
          12,
          57,
          29,
          97,
          31,
          15,
          108,
          35,
          16,
          24,
          23,
          37,
          16,
          55,
          11,
          9,
          10,
          23,
          9,
          33,
          26,
          145,
          168,
          577,
          31,
          32,
          24,
          22,
          14,
          14,
          24,
          33,
          42,
          37,
          75,
          74,
          39,
          35,
          85,
          53,
          57,
          15,
          18,
          19,
          22,
          13,
          171,
          89,
          47,
          48,
          20,
          18,
          33,
          67,
          51,
          16,
          45,
          15,
          45,
          37,
          25,
          14,
          17,
          14,
          32,
          28,
          102,
          43,
          24,
          68,
          23,
          24,
          26
         ],
         "xaxis": "x",
         "y": [
          1,
          1,
          1,
          1,
          4,
          1,
          3,
          1,
          1,
          2,
          1,
          1,
          1,
          2,
          8,
          2,
          3,
          1,
          4,
          1,
          1,
          1,
          1,
          1,
          1,
          2,
          1,
          1,
          1,
          1,
          1,
          2,
          1,
          1,
          1,
          1,
          1,
          1,
          1,
          1,
          2,
          1,
          1,
          3,
          1,
          1,
          1,
          1,
          1,
          1,
          1,
          1,
          2,
          1,
          1,
          1,
          1,
          1,
          1,
          2,
          3,
          1,
          1,
          4,
          3,
          1,
          2,
          1,
          1,
          1,
          1,
          1,
          1,
          2,
          1,
          2,
          1,
          1,
          1,
          1,
          1,
          1,
          1,
          1,
          1,
          1,
          1,
          1,
          1,
          1,
          1,
          2,
          1,
          1,
          2,
          5,
          1,
          1,
          1,
          1,
          1,
          1,
          1,
          1,
          1,
          1,
          2,
          2,
          1,
          1,
          2,
          1,
          3,
          1,
          1,
          1,
          1,
          1,
          3,
          1,
          1,
          1,
          1,
          1,
          1,
          2,
          2,
          1,
          2,
          1,
          1,
          1,
          1,
          1,
          1,
          1,
          1,
          1,
          3,
          1,
          1,
          1,
          1,
          1,
          1
         ],
         "yaxis": "y"
        }
       ],
       "layout": {
        "autosize": true,
        "coloraxis": {
         "colorbar": {
          "title": {
           "text": "x_factor"
          }
         },
         "colorscale": [
          [
           0,
           "#0d0887"
          ],
          [
           0.1111111111111111,
           "#46039f"
          ],
          [
           0.2222222222222222,
           "#7201a8"
          ],
          [
           0.3333333333333333,
           "#9c179e"
          ],
          [
           0.4444444444444444,
           "#bd3786"
          ],
          [
           0.5555555555555556,
           "#d8576b"
          ],
          [
           0.6666666666666666,
           "#ed7953"
          ],
          [
           0.7777777777777778,
           "#fb9f3a"
          ],
          [
           0.8888888888888888,
           "#fdca26"
          ],
          [
           1,
           "#f0f921"
          ]
         ]
        },
        "legend": {
         "itemsizing": "constant",
         "tracegroupgap": 0
        },
        "margin": {
         "t": 60
        },
        "template": {
         "data": {
          "bar": [
           {
            "error_x": {
             "color": "#2a3f5f"
            },
            "error_y": {
             "color": "#2a3f5f"
            },
            "marker": {
             "line": {
              "color": "#E5ECF6",
              "width": 0.5
             },
             "pattern": {
              "fillmode": "overlay",
              "size": 10,
              "solidity": 0.2
             }
            },
            "type": "bar"
           }
          ],
          "barpolar": [
           {
            "marker": {
             "line": {
              "color": "#E5ECF6",
              "width": 0.5
             },
             "pattern": {
              "fillmode": "overlay",
              "size": 10,
              "solidity": 0.2
             }
            },
            "type": "barpolar"
           }
          ],
          "carpet": [
           {
            "aaxis": {
             "endlinecolor": "#2a3f5f",
             "gridcolor": "white",
             "linecolor": "white",
             "minorgridcolor": "white",
             "startlinecolor": "#2a3f5f"
            },
            "baxis": {
             "endlinecolor": "#2a3f5f",
             "gridcolor": "white",
             "linecolor": "white",
             "minorgridcolor": "white",
             "startlinecolor": "#2a3f5f"
            },
            "type": "carpet"
           }
          ],
          "choropleth": [
           {
            "colorbar": {
             "outlinewidth": 0,
             "ticks": ""
            },
            "type": "choropleth"
           }
          ],
          "contour": [
           {
            "colorbar": {
             "outlinewidth": 0,
             "ticks": ""
            },
            "colorscale": [
             [
              0,
              "#0d0887"
             ],
             [
              0.1111111111111111,
              "#46039f"
             ],
             [
              0.2222222222222222,
              "#7201a8"
             ],
             [
              0.3333333333333333,
              "#9c179e"
             ],
             [
              0.4444444444444444,
              "#bd3786"
             ],
             [
              0.5555555555555556,
              "#d8576b"
             ],
             [
              0.6666666666666666,
              "#ed7953"
             ],
             [
              0.7777777777777778,
              "#fb9f3a"
             ],
             [
              0.8888888888888888,
              "#fdca26"
             ],
             [
              1,
              "#f0f921"
             ]
            ],
            "type": "contour"
           }
          ],
          "contourcarpet": [
           {
            "colorbar": {
             "outlinewidth": 0,
             "ticks": ""
            },
            "type": "contourcarpet"
           }
          ],
          "heatmap": [
           {
            "colorbar": {
             "outlinewidth": 0,
             "ticks": ""
            },
            "colorscale": [
             [
              0,
              "#0d0887"
             ],
             [
              0.1111111111111111,
              "#46039f"
             ],
             [
              0.2222222222222222,
              "#7201a8"
             ],
             [
              0.3333333333333333,
              "#9c179e"
             ],
             [
              0.4444444444444444,
              "#bd3786"
             ],
             [
              0.5555555555555556,
              "#d8576b"
             ],
             [
              0.6666666666666666,
              "#ed7953"
             ],
             [
              0.7777777777777778,
              "#fb9f3a"
             ],
             [
              0.8888888888888888,
              "#fdca26"
             ],
             [
              1,
              "#f0f921"
             ]
            ],
            "type": "heatmap"
           }
          ],
          "heatmapgl": [
           {
            "colorbar": {
             "outlinewidth": 0,
             "ticks": ""
            },
            "colorscale": [
             [
              0,
              "#0d0887"
             ],
             [
              0.1111111111111111,
              "#46039f"
             ],
             [
              0.2222222222222222,
              "#7201a8"
             ],
             [
              0.3333333333333333,
              "#9c179e"
             ],
             [
              0.4444444444444444,
              "#bd3786"
             ],
             [
              0.5555555555555556,
              "#d8576b"
             ],
             [
              0.6666666666666666,
              "#ed7953"
             ],
             [
              0.7777777777777778,
              "#fb9f3a"
             ],
             [
              0.8888888888888888,
              "#fdca26"
             ],
             [
              1,
              "#f0f921"
             ]
            ],
            "type": "heatmapgl"
           }
          ],
          "histogram": [
           {
            "marker": {
             "pattern": {
              "fillmode": "overlay",
              "size": 10,
              "solidity": 0.2
             }
            },
            "type": "histogram"
           }
          ],
          "histogram2d": [
           {
            "colorbar": {
             "outlinewidth": 0,
             "ticks": ""
            },
            "colorscale": [
             [
              0,
              "#0d0887"
             ],
             [
              0.1111111111111111,
              "#46039f"
             ],
             [
              0.2222222222222222,
              "#7201a8"
             ],
             [
              0.3333333333333333,
              "#9c179e"
             ],
             [
              0.4444444444444444,
              "#bd3786"
             ],
             [
              0.5555555555555556,
              "#d8576b"
             ],
             [
              0.6666666666666666,
              "#ed7953"
             ],
             [
              0.7777777777777778,
              "#fb9f3a"
             ],
             [
              0.8888888888888888,
              "#fdca26"
             ],
             [
              1,
              "#f0f921"
             ]
            ],
            "type": "histogram2d"
           }
          ],
          "histogram2dcontour": [
           {
            "colorbar": {
             "outlinewidth": 0,
             "ticks": ""
            },
            "colorscale": [
             [
              0,
              "#0d0887"
             ],
             [
              0.1111111111111111,
              "#46039f"
             ],
             [
              0.2222222222222222,
              "#7201a8"
             ],
             [
              0.3333333333333333,
              "#9c179e"
             ],
             [
              0.4444444444444444,
              "#bd3786"
             ],
             [
              0.5555555555555556,
              "#d8576b"
             ],
             [
              0.6666666666666666,
              "#ed7953"
             ],
             [
              0.7777777777777778,
              "#fb9f3a"
             ],
             [
              0.8888888888888888,
              "#fdca26"
             ],
             [
              1,
              "#f0f921"
             ]
            ],
            "type": "histogram2dcontour"
           }
          ],
          "mesh3d": [
           {
            "colorbar": {
             "outlinewidth": 0,
             "ticks": ""
            },
            "type": "mesh3d"
           }
          ],
          "parcoords": [
           {
            "line": {
             "colorbar": {
              "outlinewidth": 0,
              "ticks": ""
             }
            },
            "type": "parcoords"
           }
          ],
          "pie": [
           {
            "automargin": true,
            "type": "pie"
           }
          ],
          "scatter": [
           {
            "fillpattern": {
             "fillmode": "overlay",
             "size": 10,
             "solidity": 0.2
            },
            "type": "scatter"
           }
          ],
          "scatter3d": [
           {
            "line": {
             "colorbar": {
              "outlinewidth": 0,
              "ticks": ""
             }
            },
            "marker": {
             "colorbar": {
              "outlinewidth": 0,
              "ticks": ""
             }
            },
            "type": "scatter3d"
           }
          ],
          "scattercarpet": [
           {
            "marker": {
             "colorbar": {
              "outlinewidth": 0,
              "ticks": ""
             }
            },
            "type": "scattercarpet"
           }
          ],
          "scattergeo": [
           {
            "marker": {
             "colorbar": {
              "outlinewidth": 0,
              "ticks": ""
             }
            },
            "type": "scattergeo"
           }
          ],
          "scattergl": [
           {
            "marker": {
             "colorbar": {
              "outlinewidth": 0,
              "ticks": ""
             }
            },
            "type": "scattergl"
           }
          ],
          "scattermapbox": [
           {
            "marker": {
             "colorbar": {
              "outlinewidth": 0,
              "ticks": ""
             }
            },
            "type": "scattermapbox"
           }
          ],
          "scatterpolar": [
           {
            "marker": {
             "colorbar": {
              "outlinewidth": 0,
              "ticks": ""
             }
            },
            "type": "scatterpolar"
           }
          ],
          "scatterpolargl": [
           {
            "marker": {
             "colorbar": {
              "outlinewidth": 0,
              "ticks": ""
             }
            },
            "type": "scatterpolargl"
           }
          ],
          "scatterternary": [
           {
            "marker": {
             "colorbar": {
              "outlinewidth": 0,
              "ticks": ""
             }
            },
            "type": "scatterternary"
           }
          ],
          "surface": [
           {
            "colorbar": {
             "outlinewidth": 0,
             "ticks": ""
            },
            "colorscale": [
             [
              0,
              "#0d0887"
             ],
             [
              0.1111111111111111,
              "#46039f"
             ],
             [
              0.2222222222222222,
              "#7201a8"
             ],
             [
              0.3333333333333333,
              "#9c179e"
             ],
             [
              0.4444444444444444,
              "#bd3786"
             ],
             [
              0.5555555555555556,
              "#d8576b"
             ],
             [
              0.6666666666666666,
              "#ed7953"
             ],
             [
              0.7777777777777778,
              "#fb9f3a"
             ],
             [
              0.8888888888888888,
              "#fdca26"
             ],
             [
              1,
              "#f0f921"
             ]
            ],
            "type": "surface"
           }
          ],
          "table": [
           {
            "cells": {
             "fill": {
              "color": "#EBF0F8"
             },
             "line": {
              "color": "white"
             }
            },
            "header": {
             "fill": {
              "color": "#C8D4E3"
             },
             "line": {
              "color": "white"
             }
            },
            "type": "table"
           }
          ]
         },
         "layout": {
          "annotationdefaults": {
           "arrowcolor": "#2a3f5f",
           "arrowhead": 0,
           "arrowwidth": 1
          },
          "autotypenumbers": "strict",
          "coloraxis": {
           "colorbar": {
            "outlinewidth": 0,
            "ticks": ""
           }
          },
          "colorscale": {
           "diverging": [
            [
             0,
             "#8e0152"
            ],
            [
             0.1,
             "#c51b7d"
            ],
            [
             0.2,
             "#de77ae"
            ],
            [
             0.3,
             "#f1b6da"
            ],
            [
             0.4,
             "#fde0ef"
            ],
            [
             0.5,
             "#f7f7f7"
            ],
            [
             0.6,
             "#e6f5d0"
            ],
            [
             0.7,
             "#b8e186"
            ],
            [
             0.8,
             "#7fbc41"
            ],
            [
             0.9,
             "#4d9221"
            ],
            [
             1,
             "#276419"
            ]
           ],
           "sequential": [
            [
             0,
             "#0d0887"
            ],
            [
             0.1111111111111111,
             "#46039f"
            ],
            [
             0.2222222222222222,
             "#7201a8"
            ],
            [
             0.3333333333333333,
             "#9c179e"
            ],
            [
             0.4444444444444444,
             "#bd3786"
            ],
            [
             0.5555555555555556,
             "#d8576b"
            ],
            [
             0.6666666666666666,
             "#ed7953"
            ],
            [
             0.7777777777777778,
             "#fb9f3a"
            ],
            [
             0.8888888888888888,
             "#fdca26"
            ],
            [
             1,
             "#f0f921"
            ]
           ],
           "sequentialminus": [
            [
             0,
             "#0d0887"
            ],
            [
             0.1111111111111111,
             "#46039f"
            ],
            [
             0.2222222222222222,
             "#7201a8"
            ],
            [
             0.3333333333333333,
             "#9c179e"
            ],
            [
             0.4444444444444444,
             "#bd3786"
            ],
            [
             0.5555555555555556,
             "#d8576b"
            ],
            [
             0.6666666666666666,
             "#ed7953"
            ],
            [
             0.7777777777777778,
             "#fb9f3a"
            ],
            [
             0.8888888888888888,
             "#fdca26"
            ],
            [
             1,
             "#f0f921"
            ]
           ]
          },
          "colorway": [
           "#636efa",
           "#EF553B",
           "#00cc96",
           "#ab63fa",
           "#FFA15A",
           "#19d3f3",
           "#FF6692",
           "#B6E880",
           "#FF97FF",
           "#FECB52"
          ],
          "font": {
           "color": "#2a3f5f"
          },
          "geo": {
           "bgcolor": "white",
           "lakecolor": "white",
           "landcolor": "#E5ECF6",
           "showlakes": true,
           "showland": true,
           "subunitcolor": "white"
          },
          "hoverlabel": {
           "align": "left"
          },
          "hovermode": "closest",
          "mapbox": {
           "style": "light"
          },
          "paper_bgcolor": "white",
          "plot_bgcolor": "#E5ECF6",
          "polar": {
           "angularaxis": {
            "gridcolor": "white",
            "linecolor": "white",
            "ticks": ""
           },
           "bgcolor": "#E5ECF6",
           "radialaxis": {
            "gridcolor": "white",
            "linecolor": "white",
            "ticks": ""
           }
          },
          "scene": {
           "xaxis": {
            "backgroundcolor": "#E5ECF6",
            "gridcolor": "white",
            "gridwidth": 2,
            "linecolor": "white",
            "showbackground": true,
            "ticks": "",
            "zerolinecolor": "white"
           },
           "yaxis": {
            "backgroundcolor": "#E5ECF6",
            "gridcolor": "white",
            "gridwidth": 2,
            "linecolor": "white",
            "showbackground": true,
            "ticks": "",
            "zerolinecolor": "white"
           },
           "zaxis": {
            "backgroundcolor": "#E5ECF6",
            "gridcolor": "white",
            "gridwidth": 2,
            "linecolor": "white",
            "showbackground": true,
            "ticks": "",
            "zerolinecolor": "white"
           }
          },
          "shapedefaults": {
           "line": {
            "color": "#2a3f5f"
           }
          },
          "ternary": {
           "aaxis": {
            "gridcolor": "white",
            "linecolor": "white",
            "ticks": ""
           },
           "baxis": {
            "gridcolor": "white",
            "linecolor": "white",
            "ticks": ""
           },
           "bgcolor": "#E5ECF6",
           "caxis": {
            "gridcolor": "white",
            "linecolor": "white",
            "ticks": ""
           }
          },
          "title": {
           "x": 0.05
          },
          "xaxis": {
           "automargin": true,
           "gridcolor": "white",
           "linecolor": "white",
           "ticks": "",
           "title": {
            "standoff": 15
           },
           "zerolinecolor": "white",
           "zerolinewidth": 2
          },
          "yaxis": {
           "automargin": true,
           "gridcolor": "white",
           "linecolor": "white",
           "ticks": "",
           "title": {
            "standoff": 15
           },
           "zerolinecolor": "white",
           "zerolinewidth": 2
          }
         }
        },
        "xaxis": {
         "anchor": "y",
         "autorange": true,
         "domain": [
          0,
          1
         ],
         "range": [
          -33.130173255329886,
          731.2843878810887
         ],
         "title": {
          "text": "n_words"
         },
         "type": "linear"
        },
        "yaxis": {
         "anchor": "x",
         "autorange": true,
         "domain": [
          0,
          1
         ],
         "range": [
          -0.00939142980046137,
          8.66376988851803
         ],
         "title": {
          "text": "n_topics"
         },
         "type": "linear"
        }
       }
      },
      "image/png": "[encoded data removed]"
     },
     "metadata": {},
     "output_type": "display_data"
    }
   ],
   "source": [
    "px.scatter(model.PHRASE, 'n_words', 'n_topics', size='topic_weight_mean', color=model.PHRASE.x_factor, hover_name=model.PHRASE.index, width=600)"
   ]
  },
  {
   "cell_type": "code",
   "execution_count": 72,
   "id": "30d01e10",
   "metadata": {},
   "outputs": [
    {
     "data": {
      "application/vnd.plotly.v1+json": {
       "config": {
        "plotlyServerURL": "https://plot.ly"
       },
       "data": [
        {
         "hovertemplate": "topic_weight_mean=%{x}<br>x_factor=%{y}<br>n_words=%{marker.size}<br>n_topics=%{marker.color}<extra></extra>",
         "legendgroup": "",
         "marker": {
          "color": [
           1,
           1,
           1,
           1,
           4,
           1,
           3,
           1,
           1,
           2,
           1,
           1,
           1,
           2,
           8,
           2,
           3,
           1,
           4,
           1,
           1,
           1,
           1,
           1,
           1,
           2,
           1,
           1,
           1,
           1,
           1,
           2,
           1,
           1,
           1,
           1,
           1,
           1,
           1,
           1,
           2,
           1,
           1,
           3,
           1,
           1,
           1,
           1,
           1,
           1,
           1,
           1,
           2,
           1,
           1,
           1,
           1,
           1,
           1,
           2,
           3,
           1,
           1,
           4,
           3,
           1,
           2,
           1,
           1,
           1,
           1,
           1,
           1,
           2,
           1,
           2,
           1,
           1,
           1,
           1,
           1,
           1,
           1,
           1,
           1,
           1,
           1,
           1,
           1,
           1,
           1,
           2,
           1,
           1,
           2,
           5,
           1,
           1,
           1,
           1,
           1,
           1,
           1,
           1,
           1,
           1,
           2,
           2,
           1,
           1,
           2,
           1,
           3,
           1,
           1,
           1,
           1,
           1,
           3,
           1,
           1,
           1,
           1,
           1,
           1,
           2,
           2,
           1,
           2,
           1,
           1,
           1,
           1,
           1,
           1,
           1,
           1,
           1,
           3,
           1,
           1,
           1,
           1,
           1,
           1
          ],
          "coloraxis": "coloraxis",
          "size": [
           29,
           13,
           14,
           19,
           96,
           19,
           91,
           15,
           23,
           45,
           19,
           80,
           48,
           60,
           449,
           81,
           85,
           43,
           113,
           20,
           17,
           19,
           17,
           14,
           22,
           57,
           36,
           15,
           58,
           52,
           290,
           683,
           54,
           146,
           29,
           24,
           39,
           25,
           20,
           15,
           42,
           8,
           15,
           99,
           30,
           13,
           21,
           18,
           17,
           20,
           16,
           18,
           38,
           15,
           27,
           23,
           15,
           59,
           32,
           54,
           80,
           39,
           7,
           170,
           149,
           18,
           92,
           8,
           7,
           53,
           23,
           23,
           12,
           57,
           29,
           97,
           31,
           15,
           108,
           35,
           16,
           24,
           23,
           37,
           16,
           55,
           11,
           9,
           10,
           23,
           9,
           33,
           26,
           145,
           168,
           577,
           31,
           32,
           24,
           22,
           14,
           14,
           24,
           33,
           42,
           37,
           75,
           74,
           39,
           35,
           85,
           53,
           57,
           15,
           18,
           19,
           22,
           13,
           171,
           89,
           47,
           48,
           20,
           18,
           33,
           67,
           51,
           16,
           45,
           15,
           45,
           37,
           25,
           14,
           17,
           14,
           32,
           28,
           102,
           43,
           24,
           68,
           23,
           24,
           26
          ],
          "sizemode": "area",
          "sizeref": 1.7075,
          "symbol": "circle"
         },
         "mode": "markers",
         "name": "",
         "orientation": "v",
         "showlegend": false,
         "type": "scatter",
         "x": [
          0.0015171331415119,
          0.0007369196757553,
          0.0010946907498631,
          0.0011052937754508,
          0.0018518276185689,
          0.0026681645836258,
          0.001945999463017,
          0.0008502919335638,
          0.0023647953937898,
          0.0021024386669453,
          0.0009452736318407,
          0.0031474997049219,
          0.0018884998229531,
          0.0014591929658033,
          0.0041463243136622,
          0.0025238874048709,
          0.0018514226593961,
          0.0022495422443107,
          0.0019180368108793,
          0.0014964459408903,
          0.0012719790497568,
          0.0007475311799189,
          0.0012719790497568,
          0.0006965174129353,
          0.0012963290318779,
          0.0021897105051359,
          0.0022908049634107,
          0.0008726003490401,
          0.0029566192588061,
          0.004654076792267,
          0.0259554282645663,
          0.0304253021110127,
          0.0048330797458158,
          0.0130672156090575,
          0.0018453706649697,
          0.0015272033089405,
          0.0019402985074626,
          0.0007616146230007,
          0.0011337225780851,
          0.0008726003490401,
          0.0012742277729905,
          0.0008713647750789,
          0.0021064457239151,
          0.0025237100605504,
          0.0015292858235204,
          0.0011806375442739,
          0.0015712682379349,
          0.0013468013468013,
          0.0023873051537705,
          0.0020563438206868,
          0.0016450750565494,
          0.0016347289074561,
          0.0012723445871743,
          0.0008502919335638,
          0.0015305254804149,
          0.0020301880130638,
          0.0013622740895468,
          0.003086581218938,
          0.0012589998819687,
          0.0016029039910448,
          0.00206037701196,
          0.0031591737545565,
          0.000762444178194,
          0.0028911005836836,
          0.0023171917277021,
          0.0010471204188481,
          0.0033075419659359,
          0.0008713647750789,
          0.000762444178194,
          0.0033725739739102,
          0.0017984205176323,
          0.0032298834433366,
          0.0013070471626184,
          0.0025973256634054,
          0.0008834729626808,
          0.0020201769144788,
          0.0009444021325209,
          0.0008726003490401,
          0.0096661594916316,
          0.0017841667941071,
          0.001024262211126,
          0.0011940298507462,
          0.0017984205176323,
          0.0020973867694575,
          0.0009069780624681,
          0.0032408225796947,
          0.0009990009990009,
          0.0009802853719638,
          0.0009081827263645,
          0.0020301880130638,
          0.000817364453728,
          0.0013912119263428,
          0.0022589052997393,
          0.0129777141322831,
          0.0071818399766561,
          0.0076004184208476,
          0.0019726376073814,
          0.0012589998819687,
          0.0009442499114765,
          0.0008655624188535,
          0.0008962294347352,
          0.0007936058046595,
          0.0014141771256849,
          0.0020999045497931,
          0.0026726057906458,
          0.0029971648440664,
          0.003175694258912,
          0.0031606180920937,
          0.0031591737545565,
          0.0028351559335763,
          0.002854554201632,
          0.0027017382882194,
          0.0012196752762174,
          0.0009602458229306,
          0.0010203503202766,
          0.0011195568911672,
          0.0012963290318779,
          0.0010164985534443,
          0.0031591573523073,
          0.0079656314329186,
          0.0027694302044664,
          0.0028283542513699,
          0.0011784809380708,
          0.0014074595355383,
          0.0024691358024691,
          0.0016960654747367,
          0.0018531266832542,
          0.0016450750565494,
          0.002689512037206,
          0.0021064457239151,
          0.0023541721161391,
          0.0018861191823418,
          0.0012744048529336,
          0.0010946907498631,
          0.0013292673391195,
          0.0006965174129353,
          0.0027801911381407,
          0.0024326672458731,
          0.0026691833581166,
          0.0037955688939888,
          0.00211845705711,
          0.0035574156421658,
          0.0017209128320239,
          0.0020851433536055,
          0.0016644260930798
         ],
         "xaxis": "x",
         "y": [
          4.857980995127572,
          3.700439718141092,
          3.807354922057604,
          4.247927513443585,
          8.584962500721156,
          4.247927513443585,
          8.092757140919852,
          3.9068905956085187,
          4.523561956057013,
          6.491853096329675,
          4.247927513443585,
          6.321928094887363,
          5.584962500721156,
          6.906890595608519,
          11.810571634741146,
          7.339850002884624,
          7.994353436858858,
          5.426264754702098,
          8.820178962415188,
          4.321928094887363,
          4.087462841250339,
          4.247927513443585,
          4.087462841250339,
          3.807354922057604,
          4.459431618637297,
          6.832890014164741,
          5.169925001442312,
          3.9068905956085187,
          5.857980995127572,
          5.700439718141092,
          8.179909090014934,
          10.41574176829009,
          5.754887502163468,
          7.189824558880018,
          4.857980995127572,
          4.584962500721156,
          5.285402218862249,
          4.643856189774724,
          4.321928094887363,
          3.9068905956085187,
          6.392317422778761,
          3,
          3.9068905956085187,
          8.214319120800766,
          4.906890595608519,
          3.700439718141092,
          4.392317422778761,
          4.169925001442312,
          4.087462841250339,
          4.321928094887363,
          4,
          4.169925001442312,
          6.247927513443585,
          3.9068905956085187,
          4.754887502163468,
          4.523561956057013,
          3.9068905956085187,
          5.882643049361842,
          5,
          6.754887502163468,
          7.906890595608519,
          5.285402218862249,
          2.807354922057604,
          9.409390936137703,
          8.804131021183318,
          4.169925001442312,
          7.523561956057013,
          3,
          2.807354922057604,
          5.727920454563199,
          4.523561956057013,
          4.523561956057013,
          3.584962500721156,
          6.832890014164741,
          4.857980995127572,
          7.599912842187128,
          4.954196310386875,
          3.9068905956085187,
          6.754887502163468,
          5.129283016944966,
          4,
          4.584962500721156,
          4.523561956057013,
          5.20945336562895,
          4,
          5.78135971352466,
          3.4594316186372973,
          3.169925001442312,
          3.321928094887362,
          4.523561956057013,
          3.169925001442312,
          6.044394119358453,
          4.700439718141092,
          7.1799090900149345,
          8.39231742277876,
          11.494355603532846,
          4.954196310386875,
          5,
          4.584962500721156,
          4.459431618637297,
          3.807354922057604,
          3.807354922057604,
          4.584962500721156,
          5.044394119358453,
          5.392317422778761,
          5.20945336562895,
          7.22881869049588,
          7.20945336562895,
          5.285402218862249,
          5.129283016944966,
          7.409390936137702,
          5.727920454563199,
          7.417852514885898,
          3.9068905956085187,
          4.169925001442312,
          4.247927513443585,
          4.459431618637297,
          3.700439718141092,
          9.002815015607053,
          6.475733430966398,
          5.554588851677638,
          5.584962500721156,
          4.321928094887363,
          4.169925001442312,
          5.044394119358453,
          7.066089190457772,
          6.672425341971495,
          4,
          6.491853096329675,
          3.9068905956085187,
          5.491853096329675,
          5.20945336562895,
          4.643856189774724,
          3.807354922057604,
          4.087462841250339,
          3.807354922057604,
          5,
          4.807354922057604,
          8.257387842692651,
          5.426264754702098,
          4.584962500721156,
          6.087462841250339,
          4.523561956057013,
          4.584962500721156,
          4.700439718141092
         ],
         "yaxis": "y"
        }
       ],
       "layout": {
        "autosize": true,
        "coloraxis": {
         "colorbar": {
          "title": {
           "text": "n_topics"
          }
         },
         "colorscale": [
          [
           0,
           "#0d0887"
          ],
          [
           0.1111111111111111,
           "#46039f"
          ],
          [
           0.2222222222222222,
           "#7201a8"
          ],
          [
           0.3333333333333333,
           "#9c179e"
          ],
          [
           0.4444444444444444,
           "#bd3786"
          ],
          [
           0.5555555555555556,
           "#d8576b"
          ],
          [
           0.6666666666666666,
           "#ed7953"
          ],
          [
           0.7777777777777778,
           "#fb9f3a"
          ],
          [
           0.8888888888888888,
           "#fdca26"
          ],
          [
           1,
           "#f0f921"
          ]
         ]
        },
        "legend": {
         "itemsizing": "constant",
         "tracegroupgap": 0
        },
        "margin": {
         "t": 60
        },
        "template": {
         "data": {
          "bar": [
           {
            "error_x": {
             "color": "#2a3f5f"
            },
            "error_y": {
             "color": "#2a3f5f"
            },
            "marker": {
             "line": {
              "color": "#E5ECF6",
              "width": 0.5
             },
             "pattern": {
              "fillmode": "overlay",
              "size": 10,
              "solidity": 0.2
             }
            },
            "type": "bar"
           }
          ],
          "barpolar": [
           {
            "marker": {
             "line": {
              "color": "#E5ECF6",
              "width": 0.5
             },
             "pattern": {
              "fillmode": "overlay",
              "size": 10,
              "solidity": 0.2
             }
            },
            "type": "barpolar"
           }
          ],
          "carpet": [
           {
            "aaxis": {
             "endlinecolor": "#2a3f5f",
             "gridcolor": "white",
             "linecolor": "white",
             "minorgridcolor": "white",
             "startlinecolor": "#2a3f5f"
            },
            "baxis": {
             "endlinecolor": "#2a3f5f",
             "gridcolor": "white",
             "linecolor": "white",
             "minorgridcolor": "white",
             "startlinecolor": "#2a3f5f"
            },
            "type": "carpet"
           }
          ],
          "choropleth": [
           {
            "colorbar": {
             "outlinewidth": 0,
             "ticks": ""
            },
            "type": "choropleth"
           }
          ],
          "contour": [
           {
            "colorbar": {
             "outlinewidth": 0,
             "ticks": ""
            },
            "colorscale": [
             [
              0,
              "#0d0887"
             ],
             [
              0.1111111111111111,
              "#46039f"
             ],
             [
              0.2222222222222222,
              "#7201a8"
             ],
             [
              0.3333333333333333,
              "#9c179e"
             ],
             [
              0.4444444444444444,
              "#bd3786"
             ],
             [
              0.5555555555555556,
              "#d8576b"
             ],
             [
              0.6666666666666666,
              "#ed7953"
             ],
             [
              0.7777777777777778,
              "#fb9f3a"
             ],
             [
              0.8888888888888888,
              "#fdca26"
             ],
             [
              1,
              "#f0f921"
             ]
            ],
            "type": "contour"
           }
          ],
          "contourcarpet": [
           {
            "colorbar": {
             "outlinewidth": 0,
             "ticks": ""
            },
            "type": "contourcarpet"
           }
          ],
          "heatmap": [
           {
            "colorbar": {
             "outlinewidth": 0,
             "ticks": ""
            },
            "colorscale": [
             [
              0,
              "#0d0887"
             ],
             [
              0.1111111111111111,
              "#46039f"
             ],
             [
              0.2222222222222222,
              "#7201a8"
             ],
             [
              0.3333333333333333,
              "#9c179e"
             ],
             [
              0.4444444444444444,
              "#bd3786"
             ],
             [
              0.5555555555555556,
              "#d8576b"
             ],
             [
              0.6666666666666666,
              "#ed7953"
             ],
             [
              0.7777777777777778,
              "#fb9f3a"
             ],
             [
              0.8888888888888888,
              "#fdca26"
             ],
             [
              1,
              "#f0f921"
             ]
            ],
            "type": "heatmap"
           }
          ],
          "heatmapgl": [
           {
            "colorbar": {
             "outlinewidth": 0,
             "ticks": ""
            },
            "colorscale": [
             [
              0,
              "#0d0887"
             ],
             [
              0.1111111111111111,
              "#46039f"
             ],
             [
              0.2222222222222222,
              "#7201a8"
             ],
             [
              0.3333333333333333,
              "#9c179e"
             ],
             [
              0.4444444444444444,
              "#bd3786"
             ],
             [
              0.5555555555555556,
              "#d8576b"
             ],
             [
              0.6666666666666666,
              "#ed7953"
             ],
             [
              0.7777777777777778,
              "#fb9f3a"
             ],
             [
              0.8888888888888888,
              "#fdca26"
             ],
             [
              1,
              "#f0f921"
             ]
            ],
            "type": "heatmapgl"
           }
          ],
          "histogram": [
           {
            "marker": {
             "pattern": {
              "fillmode": "overlay",
              "size": 10,
              "solidity": 0.2
             }
            },
            "type": "histogram"
           }
          ],
          "histogram2d": [
           {
            "colorbar": {
             "outlinewidth": 0,
             "ticks": ""
            },
            "colorscale": [
             [
              0,
              "#0d0887"
             ],
             [
              0.1111111111111111,
              "#46039f"
             ],
             [
              0.2222222222222222,
              "#7201a8"
             ],
             [
              0.3333333333333333,
              "#9c179e"
             ],
             [
              0.4444444444444444,
              "#bd3786"
             ],
             [
              0.5555555555555556,
              "#d8576b"
             ],
             [
              0.6666666666666666,
              "#ed7953"
             ],
             [
              0.7777777777777778,
              "#fb9f3a"
             ],
             [
              0.8888888888888888,
              "#fdca26"
             ],
             [
              1,
              "#f0f921"
             ]
            ],
            "type": "histogram2d"
           }
          ],
          "histogram2dcontour": [
           {
            "colorbar": {
             "outlinewidth": 0,
             "ticks": ""
            },
            "colorscale": [
             [
              0,
              "#0d0887"
             ],
             [
              0.1111111111111111,
              "#46039f"
             ],
             [
              0.2222222222222222,
              "#7201a8"
             ],
             [
              0.3333333333333333,
              "#9c179e"
             ],
             [
              0.4444444444444444,
              "#bd3786"
             ],
             [
              0.5555555555555556,
              "#d8576b"
             ],
             [
              0.6666666666666666,
              "#ed7953"
             ],
             [
              0.7777777777777778,
              "#fb9f3a"
             ],
             [
              0.8888888888888888,
              "#fdca26"
             ],
             [
              1,
              "#f0f921"
             ]
            ],
            "type": "histogram2dcontour"
           }
          ],
          "mesh3d": [
           {
            "colorbar": {
             "outlinewidth": 0,
             "ticks": ""
            },
            "type": "mesh3d"
           }
          ],
          "parcoords": [
           {
            "line": {
             "colorbar": {
              "outlinewidth": 0,
              "ticks": ""
             }
            },
            "type": "parcoords"
           }
          ],
          "pie": [
           {
            "automargin": true,
            "type": "pie"
           }
          ],
          "scatter": [
           {
            "fillpattern": {
             "fillmode": "overlay",
             "size": 10,
             "solidity": 0.2
            },
            "type": "scatter"
           }
          ],
          "scatter3d": [
           {
            "line": {
             "colorbar": {
              "outlinewidth": 0,
              "ticks": ""
             }
            },
            "marker": {
             "colorbar": {
              "outlinewidth": 0,
              "ticks": ""
             }
            },
            "type": "scatter3d"
           }
          ],
          "scattercarpet": [
           {
            "marker": {
             "colorbar": {
              "outlinewidth": 0,
              "ticks": ""
             }
            },
            "type": "scattercarpet"
           }
          ],
          "scattergeo": [
           {
            "marker": {
             "colorbar": {
              "outlinewidth": 0,
              "ticks": ""
             }
            },
            "type": "scattergeo"
           }
          ],
          "scattergl": [
           {
            "marker": {
             "colorbar": {
              "outlinewidth": 0,
              "ticks": ""
             }
            },
            "type": "scattergl"
           }
          ],
          "scattermapbox": [
           {
            "marker": {
             "colorbar": {
              "outlinewidth": 0,
              "ticks": ""
             }
            },
            "type": "scattermapbox"
           }
          ],
          "scatterpolar": [
           {
            "marker": {
             "colorbar": {
              "outlinewidth": 0,
              "ticks": ""
             }
            },
            "type": "scatterpolar"
           }
          ],
          "scatterpolargl": [
           {
            "marker": {
             "colorbar": {
              "outlinewidth": 0,
              "ticks": ""
             }
            },
            "type": "scatterpolargl"
           }
          ],
          "scatterternary": [
           {
            "marker": {
             "colorbar": {
              "outlinewidth": 0,
              "ticks": ""
             }
            },
            "type": "scatterternary"
           }
          ],
          "surface": [
           {
            "colorbar": {
             "outlinewidth": 0,
             "ticks": ""
            },
            "colorscale": [
             [
              0,
              "#0d0887"
             ],
             [
              0.1111111111111111,
              "#46039f"
             ],
             [
              0.2222222222222222,
              "#7201a8"
             ],
             [
              0.3333333333333333,
              "#9c179e"
             ],
             [
              0.4444444444444444,
              "#bd3786"
             ],
             [
              0.5555555555555556,
              "#d8576b"
             ],
             [
              0.6666666666666666,
              "#ed7953"
             ],
             [
              0.7777777777777778,
              "#fb9f3a"
             ],
             [
              0.8888888888888888,
              "#fdca26"
             ],
             [
              1,
              "#f0f921"
             ]
            ],
            "type": "surface"
           }
          ],
          "table": [
           {
            "cells": {
             "fill": {
              "color": "#EBF0F8"
             },
             "line": {
              "color": "white"
             }
            },
            "header": {
             "fill": {
              "color": "#C8D4E3"
             },
             "line": {
              "color": "white"
             }
            },
            "type": "table"
           }
          ]
         },
         "layout": {
          "annotationdefaults": {
           "arrowcolor": "#2a3f5f",
           "arrowhead": 0,
           "arrowwidth": 1
          },
          "autotypenumbers": "strict",
          "coloraxis": {
           "colorbar": {
            "outlinewidth": 0,
            "ticks": ""
           }
          },
          "colorscale": {
           "diverging": [
            [
             0,
             "#8e0152"
            ],
            [
             0.1,
             "#c51b7d"
            ],
            [
             0.2,
             "#de77ae"
            ],
            [
             0.3,
             "#f1b6da"
            ],
            [
             0.4,
             "#fde0ef"
            ],
            [
             0.5,
             "#f7f7f7"
            ],
            [
             0.6,
             "#e6f5d0"
            ],
            [
             0.7,
             "#b8e186"
            ],
            [
             0.8,
             "#7fbc41"
            ],
            [
             0.9,
             "#4d9221"
            ],
            [
             1,
             "#276419"
            ]
           ],
           "sequential": [
            [
             0,
             "#0d0887"
            ],
            [
             0.1111111111111111,
             "#46039f"
            ],
            [
             0.2222222222222222,
             "#7201a8"
            ],
            [
             0.3333333333333333,
             "#9c179e"
            ],
            [
             0.4444444444444444,
             "#bd3786"
            ],
            [
             0.5555555555555556,
             "#d8576b"
            ],
            [
             0.6666666666666666,
             "#ed7953"
            ],
            [
             0.7777777777777778,
             "#fb9f3a"
            ],
            [
             0.8888888888888888,
             "#fdca26"
            ],
            [
             1,
             "#f0f921"
            ]
           ],
           "sequentialminus": [
            [
             0,
             "#0d0887"
            ],
            [
             0.1111111111111111,
             "#46039f"
            ],
            [
             0.2222222222222222,
             "#7201a8"
            ],
            [
             0.3333333333333333,
             "#9c179e"
            ],
            [
             0.4444444444444444,
             "#bd3786"
            ],
            [
             0.5555555555555556,
             "#d8576b"
            ],
            [
             0.6666666666666666,
             "#ed7953"
            ],
            [
             0.7777777777777778,
             "#fb9f3a"
            ],
            [
             0.8888888888888888,
             "#fdca26"
            ],
            [
             1,
             "#f0f921"
            ]
           ]
          },
          "colorway": [
           "#636efa",
           "#EF553B",
           "#00cc96",
           "#ab63fa",
           "#FFA15A",
           "#19d3f3",
           "#FF6692",
           "#B6E880",
           "#FF97FF",
           "#FECB52"
          ],
          "font": {
           "color": "#2a3f5f"
          },
          "geo": {
           "bgcolor": "white",
           "lakecolor": "white",
           "landcolor": "#E5ECF6",
           "showlakes": true,
           "showland": true,
           "subunitcolor": "white"
          },
          "hoverlabel": {
           "align": "left"
          },
          "hovermode": "closest",
          "mapbox": {
           "style": "light"
          },
          "paper_bgcolor": "white",
          "plot_bgcolor": "#E5ECF6",
          "polar": {
           "angularaxis": {
            "gridcolor": "white",
            "linecolor": "white",
            "ticks": ""
           },
           "bgcolor": "#E5ECF6",
           "radialaxis": {
            "gridcolor": "white",
            "linecolor": "white",
            "ticks": ""
           }
          },
          "scene": {
           "xaxis": {
            "backgroundcolor": "#E5ECF6",
            "gridcolor": "white",
            "gridwidth": 2,
            "linecolor": "white",
            "showbackground": true,
            "ticks": "",
            "zerolinecolor": "white"
           },
           "yaxis": {
            "backgroundcolor": "#E5ECF6",
            "gridcolor": "white",
            "gridwidth": 2,
            "linecolor": "white",
            "showbackground": true,
            "ticks": "",
            "zerolinecolor": "white"
           },
           "zaxis": {
            "backgroundcolor": "#E5ECF6",
            "gridcolor": "white",
            "gridwidth": 2,
            "linecolor": "white",
            "showbackground": true,
            "ticks": "",
            "zerolinecolor": "white"
           }
          },
          "shapedefaults": {
           "line": {
            "color": "#2a3f5f"
           }
          },
          "ternary": {
           "aaxis": {
            "gridcolor": "white",
            "linecolor": "white",
            "ticks": ""
           },
           "baxis": {
            "gridcolor": "white",
            "linecolor": "white",
            "ticks": ""
           },
           "bgcolor": "#E5ECF6",
           "caxis": {
            "gridcolor": "white",
            "linecolor": "white",
            "ticks": ""
           }
          },
          "title": {
           "x": 0.05
          },
          "xaxis": {
           "automargin": true,
           "gridcolor": "white",
           "linecolor": "white",
           "ticks": "",
           "title": {
            "standoff": 15
           },
           "zerolinecolor": "white",
           "zerolinewidth": 2
          },
          "yaxis": {
           "automargin": true,
           "gridcolor": "white",
           "linecolor": "white",
           "ticks": "",
           "title": {
            "standoff": 15
           },
           "zerolinecolor": "white",
           "zerolinewidth": 2
          }
         }
        },
        "xaxis": {
         "anchor": "y",
         "autorange": true,
         "domain": [
          0,
          1
         ],
         "range": [
          -0.0010684029936076965,
          0.03254912855959224
         ],
         "title": {
          "text": "topic_weight_mean"
         },
         "type": "linear"
        },
        "yaxis": {
         "anchor": "x",
         "autorange": true,
         "domain": [
          0,
          1
         ],
         "range": [
          2.1154846413912414,
          12.987731909005513
         ],
         "title": {
          "text": "x_factor"
         },
         "type": "linear"
        }
       }
      },
      "image/png": "[encoded data removed]"
     },
     "metadata": {},
     "output_type": "display_data"
    }
   ],
   "source": [
    "px.scatter(model.PHRASE, 'topic_weight_mean', 'x_factor', color='n_topics', size='n_words',  width=600)"
   ]
  },
  {
   "cell_type": "markdown",
   "id": "db852de6",
   "metadata": {},
   "source": [
    "Here is look at the features extracted for topics."
   ]
  },
  {
   "cell_type": "code",
   "execution_count": 28,
   "id": "86783953",
   "metadata": {},
   "outputs": [
    {
     "data": {
      "text/html": [
       "<div>\n",
       "<style scoped>\n",
       "    .dataframe tbody tr th:only-of-type {\n",
       "        vertical-align: middle;\n",
       "    }\n",
       "\n",
       "    .dataframe tbody tr th {\n",
       "        vertical-align: top;\n",
       "    }\n",
       "\n",
       "    .dataframe thead th {\n",
       "        text-align: right;\n",
       "    }\n",
       "</style>\n",
       "<table border=\"1\" class=\"dataframe\">\n",
       "  <thead>\n",
       "    <tr style=\"text-align: right;\">\n",
       "      <th>topic_id</th>\n",
       "      <th>0</th>\n",
       "      <th>1</th>\n",
       "      <th>2</th>\n",
       "    </tr>\n",
       "  </thead>\n",
       "  <tbody>\n",
       "    <tr>\n",
       "      <th>topic_alpha</th>\n",
       "      <td>0.05072</td>\n",
       "      <td>0.03814</td>\n",
       "      <td>0.08548</td>\n",
       "    </tr>\n",
       "    <tr>\n",
       "      <th>topic_words</th>\n",
       "      <td>flavors years tannins oak black blackberry dry...</td>\n",
       "      <td>nose black bottling flavors aromas shows dried...</td>\n",
       "      <td>tannins fruit fruits acidity ripe black struct...</td>\n",
       "    </tr>\n",
       "    <tr>\n",
       "      <th>topic_alpha_zscore</th>\n",
       "      <td>-0.214406</td>\n",
       "      <td>-0.863638</td>\n",
       "      <td>1.579496</td>\n",
       "    </tr>\n",
       "    <tr>\n",
       "      <th>phrases</th>\n",
       "      <td>black currant, smoky oak, black cherry, years ...</td>\n",
       "      <td>nose bottling, show nose, sea salt, purple flo...</td>\n",
       "      <td>wood aging, firm tannins, black currant, touri...</td>\n",
       "    </tr>\n",
       "    <tr>\n",
       "      <th>topic_label</th>\n",
       "      <td>00: flavors years tannins oak black blackberry...</td>\n",
       "      <td>01: nose black bottling flavors aromas shows d...</td>\n",
       "      <td>02: tannins fruit fruits acidity ripe black st...</td>\n",
       "    </tr>\n",
       "    <tr>\n",
       "      <th>topic_tokens</th>\n",
       "      <td>114874</td>\n",
       "      <td>122102</td>\n",
       "      <td>194825</td>\n",
       "    </tr>\n",
       "    <tr>\n",
       "      <th>topic_document_entropy</th>\n",
       "      <td>9.4118</td>\n",
       "      <td>9.1097</td>\n",
       "      <td>9.9299</td>\n",
       "    </tr>\n",
       "    <tr>\n",
       "      <th>topic_word_length</th>\n",
       "      <td>5.7</td>\n",
       "      <td>5.5</td>\n",
       "      <td>5.5</td>\n",
       "    </tr>\n",
       "    <tr>\n",
       "      <th>topic_coherence</th>\n",
       "      <td>-83.5091</td>\n",
       "      <td>-78.8221</td>\n",
       "      <td>-72.6386</td>\n",
       "    </tr>\n",
       "    <tr>\n",
       "      <th>topic_uniform_dist</th>\n",
       "      <td>4.3536</td>\n",
       "      <td>4.0527</td>\n",
       "      <td>4.947</td>\n",
       "    </tr>\n",
       "    <tr>\n",
       "      <th>topic_corpus_dist</th>\n",
       "      <td>1.1793</td>\n",
       "      <td>1.2705</td>\n",
       "      <td>1.1295</td>\n",
       "    </tr>\n",
       "    <tr>\n",
       "      <th>topic_eff_num_words</th>\n",
       "      <td>157.9285</td>\n",
       "      <td>197.6494</td>\n",
       "      <td>93.8771</td>\n",
       "    </tr>\n",
       "    <tr>\n",
       "      <th>topic_token_doc_diff</th>\n",
       "      <td>0.0</td>\n",
       "      <td>0.0005</td>\n",
       "      <td>0.0</td>\n",
       "    </tr>\n",
       "    <tr>\n",
       "      <th>topic_rank_1_docs</th>\n",
       "      <td>0.2739</td>\n",
       "      <td>0.3808</td>\n",
       "      <td>0.3912</td>\n",
       "    </tr>\n",
       "    <tr>\n",
       "      <th>topic_allocation_ratio</th>\n",
       "      <td>0.1978</td>\n",
       "      <td>0.2858</td>\n",
       "      <td>0.341</td>\n",
       "    </tr>\n",
       "    <tr>\n",
       "      <th>topic_allocation_count</th>\n",
       "      <td>0.3227</td>\n",
       "      <td>0.416</td>\n",
       "      <td>0.4212</td>\n",
       "    </tr>\n",
       "    <tr>\n",
       "      <th>topic_exclusivity</th>\n",
       "      <td>0.1505</td>\n",
       "      <td>0.2109</td>\n",
       "      <td>0.2479</td>\n",
       "    </tr>\n",
       "    <tr>\n",
       "      <th>topic_gloss</th>\n",
       "      <td>black currant</td>\n",
       "      <td>nose bottling</td>\n",
       "      <td>wood aging</td>\n",
       "    </tr>\n",
       "  </tbody>\n",
       "</table>\n",
       "</div>"
      ],
      "text/plain": [
       "topic_id                                                                0  \\\n",
       "topic_alpha                                                       0.05072   \n",
       "topic_words             flavors years tannins oak black blackberry dry...   \n",
       "topic_alpha_zscore                                              -0.214406   \n",
       "phrases                 black currant, smoky oak, black cherry, years ...   \n",
       "topic_label             00: flavors years tannins oak black blackberry...   \n",
       "topic_tokens                                                       114874   \n",
       "topic_document_entropy                                             9.4118   \n",
       "topic_word_length                                                     5.7   \n",
       "topic_coherence                                                  -83.5091   \n",
       "topic_uniform_dist                                                 4.3536   \n",
       "topic_corpus_dist                                                  1.1793   \n",
       "topic_eff_num_words                                              157.9285   \n",
       "topic_token_doc_diff                                                  0.0   \n",
       "topic_rank_1_docs                                                  0.2739   \n",
       "topic_allocation_ratio                                             0.1978   \n",
       "topic_allocation_count                                             0.3227   \n",
       "topic_exclusivity                                                  0.1505   \n",
       "topic_gloss                                                 black currant   \n",
       "\n",
       "topic_id                                                                1  \\\n",
       "topic_alpha                                                       0.03814   \n",
       "topic_words             nose black bottling flavors aromas shows dried...   \n",
       "topic_alpha_zscore                                              -0.863638   \n",
       "phrases                 nose bottling, show nose, sea salt, purple flo...   \n",
       "topic_label             01: nose black bottling flavors aromas shows d...   \n",
       "topic_tokens                                                       122102   \n",
       "topic_document_entropy                                             9.1097   \n",
       "topic_word_length                                                     5.5   \n",
       "topic_coherence                                                  -78.8221   \n",
       "topic_uniform_dist                                                 4.0527   \n",
       "topic_corpus_dist                                                  1.2705   \n",
       "topic_eff_num_words                                              197.6494   \n",
       "topic_token_doc_diff                                               0.0005   \n",
       "topic_rank_1_docs                                                  0.3808   \n",
       "topic_allocation_ratio                                             0.2858   \n",
       "topic_allocation_count                                              0.416   \n",
       "topic_exclusivity                                                  0.2109   \n",
       "topic_gloss                                                 nose bottling   \n",
       "\n",
       "topic_id                                                                2  \n",
       "topic_alpha                                                       0.08548  \n",
       "topic_words             tannins fruit fruits acidity ripe black struct...  \n",
       "topic_alpha_zscore                                               1.579496  \n",
       "phrases                 wood aging, firm tannins, black currant, touri...  \n",
       "topic_label             02: tannins fruit fruits acidity ripe black st...  \n",
       "topic_tokens                                                       194825  \n",
       "topic_document_entropy                                             9.9299  \n",
       "topic_word_length                                                     5.5  \n",
       "topic_coherence                                                  -72.6386  \n",
       "topic_uniform_dist                                                  4.947  \n",
       "topic_corpus_dist                                                  1.1295  \n",
       "topic_eff_num_words                                               93.8771  \n",
       "topic_token_doc_diff                                                  0.0  \n",
       "topic_rank_1_docs                                                  0.3912  \n",
       "topic_allocation_ratio                                              0.341  \n",
       "topic_allocation_count                                             0.4212  \n",
       "topic_exclusivity                                                  0.2479  \n",
       "topic_gloss                                                    wood aging  "
      ]
     },
     "execution_count": 28,
     "metadata": {},
     "output_type": "execute_result"
    }
   ],
   "source": [
    "model.TOPIC.head(3).T"
   ]
  },
  {
   "cell_type": "code",
   "execution_count": 25,
   "id": "f3d48a3d-0de5-4d57-85d2-13b1b7099f42",
   "metadata": {},
   "outputs": [
    {
     "data": {
      "text/html": [
       "<style type=\"text/css\">\n",
       "#T_7ca33_row0_col0 {\n",
       "  background-color: #023858;\n",
       "  color: #f1f1f1;\n",
       "}\n",
       "#T_7ca33_row1_col0 {\n",
       "  background-color: #1379b5;\n",
       "  color: #f1f1f1;\n",
       "}\n",
       "#T_7ca33_row2_col0 {\n",
       "  background-color: #4a98c5;\n",
       "  color: #f1f1f1;\n",
       "}\n",
       "#T_7ca33_row3_col0 {\n",
       "  background-color: #79abd0;\n",
       "  color: #f1f1f1;\n",
       "}\n",
       "#T_7ca33_row4_col0 {\n",
       "  background-color: #7eadd1;\n",
       "  color: #f1f1f1;\n",
       "}\n",
       "#T_7ca33_row5_col0 {\n",
       "  background-color: #86b0d3;\n",
       "  color: #000000;\n",
       "}\n",
       "#T_7ca33_row6_col0 {\n",
       "  background-color: #91b5d6;\n",
       "  color: #000000;\n",
       "}\n",
       "#T_7ca33_row7_col0 {\n",
       "  background-color: #93b5d6;\n",
       "  color: #000000;\n",
       "}\n",
       "#T_7ca33_row8_col0 {\n",
       "  background-color: #acc0dd;\n",
       "  color: #000000;\n",
       "}\n",
       "#T_7ca33_row9_col0 {\n",
       "  background-color: #cccfe5;\n",
       "  color: #000000;\n",
       "}\n",
       "#T_7ca33_row10_col0 {\n",
       "  background-color: #d2d3e7;\n",
       "  color: #000000;\n",
       "}\n",
       "#T_7ca33_row11_col0 {\n",
       "  background-color: #dedcec;\n",
       "  color: #000000;\n",
       "}\n",
       "#T_7ca33_row12_col0 {\n",
       "  background-color: #e0dded;\n",
       "  color: #000000;\n",
       "}\n",
       "#T_7ca33_row13_col0 {\n",
       "  background-color: #ece7f2;\n",
       "  color: #000000;\n",
       "}\n",
       "#T_7ca33_row14_col0 {\n",
       "  background-color: #ede8f3;\n",
       "  color: #000000;\n",
       "}\n",
       "#T_7ca33_row15_col0, #T_7ca33_row16_col0 {\n",
       "  background-color: #efe9f3;\n",
       "  color: #000000;\n",
       "}\n",
       "#T_7ca33_row17_col0 {\n",
       "  background-color: #f0eaf4;\n",
       "  color: #000000;\n",
       "}\n",
       "#T_7ca33_row18_col0 {\n",
       "  background-color: #fef6fb;\n",
       "  color: #000000;\n",
       "}\n",
       "#T_7ca33_row19_col0 {\n",
       "  background-color: #fff7fb;\n",
       "  color: #000000;\n",
       "}\n",
       "</style>\n",
       "<table id=\"T_7ca33\">\n",
       "  <thead>\n",
       "    <tr>\n",
       "      <th class=\"blank level0\" >&nbsp;</th>\n",
       "      <th id=\"T_7ca33_level0_col0\" class=\"col_heading level0 col0\" >topic_alpha</th>\n",
       "      <th id=\"T_7ca33_level0_col1\" class=\"col_heading level0 col1\" >topic_words</th>\n",
       "      <th id=\"T_7ca33_level0_col2\" class=\"col_heading level0 col2\" >phrases</th>\n",
       "    </tr>\n",
       "    <tr>\n",
       "      <th class=\"index_name level0\" >topic_id</th>\n",
       "      <th class=\"blank col0\" >&nbsp;</th>\n",
       "      <th class=\"blank col1\" >&nbsp;</th>\n",
       "      <th class=\"blank col2\" >&nbsp;</th>\n",
       "    </tr>\n",
       "  </thead>\n",
       "  <tbody>\n",
       "    <tr>\n",
       "      <th id=\"T_7ca33_level0_row0\" class=\"row_heading level0 row0\" >6</th>\n",
       "      <td id=\"T_7ca33_row0_col0\" class=\"data row0 col0\" >0.107830</td>\n",
       "      <td id=\"T_7ca33_row0_col1\" class=\"data row0 col1\" >finish cherry flavors black fruit tannins texture notes oak aromas </td>\n",
       "      <td id=\"T_7ca33_row0_col2\" class=\"data row0 col2\" >black cherry, full bodied, medium bodied, black pepper, black fruit, medium body, long finish, fruit flavors, forest floor, cherry plum</td>\n",
       "    </tr>\n",
       "    <tr>\n",
       "      <th id=\"T_7ca33_level0_row1\" class=\"row_heading level0 row1\" >2</th>\n",
       "      <td id=\"T_7ca33_row1_col0\" class=\"data row1 col0\" >0.085480</td>\n",
       "      <td id=\"T_7ca33_row1_col1\" class=\"data row1 col1\" >tannins fruit fruits acidity ripe black structure rich firm wood </td>\n",
       "      <td id=\"T_7ca33_row1_col2\" class=\"data row1 col2\" >wood aging, firm tannins, black currant, touriga nacional, black fruits, berry fruits, red fruits, black fruit, aging potential, ripe fruit</td>\n",
       "    </tr>\n",
       "    <tr>\n",
       "      <th id=\"T_7ca33_level0_row2\" class=\"row_heading level0 row2\" >11</th>\n",
       "      <td id=\"T_7ca33_row2_col0\" class=\"data row2 col0\" >0.075590</td>\n",
       "      <td id=\"T_7ca33_row2_col1\" class=\"data row2 col1\" >flavors finish aromas berry plum herbal oak notes blackberry feels </td>\n",
       "      <td id=\"T_7ca33_row2_col2\" class=\"data row2 col2\" >berry aromas, berry flavors, flavors finish, plum aromas, aromas flavors, plum berry, plum flavors, black cherry, blackberry cassis, berry fruits</td>\n",
       "    </tr>\n",
       "    <tr>\n",
       "      <th id=\"T_7ca33_level0_row3\" class=\"row_heading level0 row3\" >13</th>\n",
       "      <td id=\"T_7ca33_row3_col0\" class=\"data row3 col0\" >0.067980</td>\n",
       "      <td id=\"T_7ca33_row3_col1\" class=\"data row3 col1\" >acidity red light fresh flavors fruity crisp soft bright fruit </td>\n",
       "      <td id=\"T_7ca33_row3_col2\" class=\"data row3 col2\" >red fruits, crisp acidity, bright acidity, red currant, fresh acidity, red berries, red berry, pinot noir, red fruit, red cherry</td>\n",
       "    </tr>\n",
       "    <tr>\n",
       "      <th id=\"T_7ca33_level0_row4\" class=\"row_heading level0 row4\" >4</th>\n",
       "      <td id=\"T_7ca33_row4_col0\" class=\"data row4 col0\" >0.067100</td>\n",
       "      <td id=\"T_7ca33_row4_col1\" class=\"data row4 col1\" >acidity flavors ripe crisp texture character fruits fruit rich citrus </td>\n",
       "      <td id=\"T_7ca33_row4_col2\" class=\"data row4 col2\" >crisp acidity, yellow fruits, fruit flavors, ripe fruit, sauvignon blanc, citrus flavors, mineral texture, ripe yellow, bright acidity, premier cru</td>\n",
       "    </tr>\n",
       "    <tr>\n",
       "      <th id=\"T_7ca33_level0_row5\" class=\"row_heading level0 row5\" >15</th>\n",
       "      <td id=\"T_7ca33_row5_col0\" class=\"data row5 col0\" >0.065330</td>\n",
       "      <td id=\"T_7ca33_row5_col1\" class=\"data row5 col1\" >flavors acidity vanilla chardonnay fruit oak pineapple sweet pear peach </td>\n",
       "      <td id=\"T_7ca33_row5_col2\" class=\"data row5 col2\" >sauvignon blanc, buttered toast, residual sugar, stainless steel, tropical fruit, meyer lemon, apple pear, crme brle, vanilla cream, white peach</td>\n",
       "    </tr>\n",
       "    <tr>\n",
       "      <th id=\"T_7ca33_level0_row6\" class=\"row_heading level0 row6\" >12</th>\n",
       "      <td id=\"T_7ca33_row6_col0\" class=\"data row6 col0\" >0.063470</td>\n",
       "      <td id=\"T_7ca33_row6_col1\" class=\"data row6 col1\" >flavors cherry dry pinot sweet noir cherries cola raspberry red </td>\n",
       "      <td id=\"T_7ca33_row6_col2\" class=\"data row6 col2\" >pinot noir, high alcohol, raspberry cherry, brown sugar, raspberries cherries, black cherry, pinot noirs, cherry cola, petite sirah, cherry flavors</td>\n",
       "    </tr>\n",
       "    <tr>\n",
       "      <th id=\"T_7ca33_level0_row7\" class=\"row_heading level0 row7\" >9</th>\n",
       "      <td id=\"T_7ca33_row7_col0\" class=\"data row7 col0\" >0.063130</td>\n",
       "      <td id=\"T_7ca33_row7_col1\" class=\"data row7 col1\" >flavors finish aromas apple citrus green melon nose notes fruit </td>\n",
       "      <td id=\"T_7ca33_row7_col2\" class=\"data row7 col2\" >sauvignon blanc, green apple, aromas flavors, citrus flavors, apple melon, grapefruit flavors, orange peel, citrus aromas, bubble gum, melon citrus</td>\n",
       "    </tr>\n",
       "    <tr>\n",
       "      <th id=\"T_7ca33_level0_row8\" class=\"row_heading level0 row8\" >3</th>\n",
       "      <td id=\"T_7ca33_row8_col0\" class=\"data row8 col0\" >0.058010</td>\n",
       "      <td id=\"T_7ca33_row8_col1\" class=\"data row8 col1\" >fruit flavors finish oak cherry mix tart barrel french vineyard </td>\n",
       "      <td id=\"T_7ca33_row8_col2\" class=\"data row8 col2\" >fruit flavors, french oak, cherry fruit, pinot noir, months french, stainless steel, baking spices, estate vineyard, walla walla, bottle age</td>\n",
       "    </tr>\n",
       "    <tr>\n",
       "      <th id=\"T_7ca33_level0_row9\" class=\"row_heading level0 row9\" >0</th>\n",
       "      <td id=\"T_7ca33_row9_col0\" class=\"data row9 col0\" >0.050720</td>\n",
       "      <td id=\"T_7ca33_row9_col1\" class=\"data row9 col1\" >flavors years tannins oak black blackberry dry rich fruit cabernet </td>\n",
       "      <td id=\"T_7ca33_row9_col2\" class=\"data row9 col2\" >black currant, smoky oak, black cherry, years cellar, dark chocolate, blackberries cherries, cabernet sauvignon, develop bottle, blackberry currant, blackberries currants</td>\n",
       "    </tr>\n",
       "    <tr>\n",
       "      <th id=\"T_7ca33_level0_row10\" class=\"row_heading level0 row10\" >14</th>\n",
       "      <td id=\"T_7ca33_row10_col0\" class=\"data row10 col0\" >0.048700</td>\n",
       "      <td id=\"T_7ca33_row10_col1\" class=\"data row10 col1\" >aromas fruit spice cherry tones pair bright offers shows mouth </td>\n",
       "      <td id=\"T_7ca33_row10_col2\" class=\"data row10 col2\" >nero davola, exotic spice, stone fruit, chianti classico, root beer, northern italy, aromas include, exotic fruit, prosecco superiore, almond paste</td>\n",
       "    </tr>\n",
       "    <tr>\n",
       "      <th id=\"T_7ca33_level0_row11\" class=\"row_heading level0 row11\" >10</th>\n",
       "      <td id=\"T_7ca33_row11_col0\" class=\"data row11 col0\" >0.044800</td>\n",
       "      <td id=\"T_7ca33_row11_col1\" class=\"data row11 col1\" >vineyard valley grapes estate made oak vintage vineyards pinot acidity </td>\n",
       "      <td id=\"T_7ca33_row11_col2\" class=\"data row11 col2\" >pinot noir, napa valley, lake county, estate vineyard, french oak, sierra foothills, vineyard sites, vineyard site, anderson valley, russian river valley</td>\n",
       "    </tr>\n",
       "    <tr>\n",
       "      <th id=\"T_7ca33_level0_row12\" class=\"row_heading level0 row12\" >19</th>\n",
       "      <td id=\"T_7ca33_row12_col0\" class=\"data row12 col0\" >0.044260</td>\n",
       "      <td id=\"T_7ca33_row12_col1\" class=\"data row12 col1\" >white apple acidity peach aromas fruit offers citrus pear lemon </td>\n",
       "      <td id=\"T_7ca33_row12_col2\" class=\"data row12 col2\" >white peach, apple pear, lemon zest, green apple, white flower, white flowers, stone fruit, orange zest, yellow apple, crisp acidity</td>\n",
       "    </tr>\n",
       "    <tr>\n",
       "      <th id=\"T_7ca33_level0_row13\" class=\"row_heading level0 row13\" >16</th>\n",
       "      <td id=\"T_7ca33_row13_col0\" class=\"data row13 col0\" >0.040030</td>\n",
       "      <td id=\"T_7ca33_row13_col1\" class=\"data row13 col1\" >cherry tannins black aromas red berry spice pepper alongside offers </td>\n",
       "      <td id=\"T_7ca33_row13_col2\" class=\"data row13 col2\" >black cherry, red cherry, white pepper, red berry, black pepper, baking spice, forest floor, wild berry, opens aromas, finegrained tannins</td>\n",
       "    </tr>\n",
       "    <tr>\n",
       "      <th id=\"T_7ca33_level0_row14\" class=\"row_heading level0 row14\" >5</th>\n",
       "      <td id=\"T_7ca33_row14_col0\" class=\"data row14 col0\" >0.039470</td>\n",
       "      <td id=\"T_7ca33_row14_col1\" class=\"data row14 col1\" >flavors fruit aromas notes spice cherry finish herb herbs lead </td>\n",
       "      <td id=\"T_7ca33_row14_col2\" class=\"data row14 col2\" >fruit flavors, tightly wound, full bodied, aromas flavors, aromas lead, dried herb, takes lead, dried herbs, baking spice, medium bodied</td>\n",
       "    </tr>\n",
       "    <tr>\n",
       "      <th id=\"T_7ca33_level0_row15\" class=\"row_heading level0 row15\" >18</th>\n",
       "      <td id=\"T_7ca33_row15_col0\" class=\"data row15 col0\" >0.038550</td>\n",
       "      <td id=\"T_7ca33_row15_col1\" class=\"data row15 col1\" >finish flavors acidity riesling notes dry peach fresh lemon long </td>\n",
       "      <td id=\"T_7ca33_row15_col2\" class=\"data row15 col2\" >dry riesling, pinot noir, finger lakes, crushed stone, notes add, white peach, offdry riesling, apple pear, full bodied, orange blossom</td>\n",
       "    </tr>\n",
       "    <tr>\n",
       "      <th id=\"T_7ca33_level0_row16\" class=\"row_heading level0 row16\" >17</th>\n",
       "      <td id=\"T_7ca33_row16_col0\" class=\"data row16 col0\" >0.038320</td>\n",
       "      <td id=\"T_7ca33_row16_col1\" class=\"data row16 col1\" >cabernet sauvignon merlot blend franc syrah verdot petit black tannins </td>\n",
       "      <td id=\"T_7ca33_row16_col2\" class=\"data row16 col2\" >cabernet sauvignon, cabernet franc, cabernet sauvignon merlot, petit verdot, petite sirah, merlot cabernet sauvignon, sauvignon merlot, cabernet sauvignon cabernet franc, black cherry, cab franc</td>\n",
       "    </tr>\n",
       "    <tr>\n",
       "      <th id=\"T_7ca33_level0_row17\" class=\"row_heading level0 row17\" >1</th>\n",
       "      <td id=\"T_7ca33_row17_col0\" class=\"data row17 col0\" >0.038140</td>\n",
       "      <td id=\"T_7ca33_row17_col1\" class=\"data row17 col1\" >nose black bottling flavors aromas shows dried show fruit cherry </td>\n",
       "      <td id=\"T_7ca33_row17_col2\" class=\"data row17 col2\" >nose bottling, show nose, sea salt, purple flowers, rose petals, black pepper, bottling shows, show nose bottling, rose petal, black cherry</td>\n",
       "    </tr>\n",
       "    <tr>\n",
       "      <th id=\"T_7ca33_level0_row18\" class=\"row_heading level0 row18\" >7</th>\n",
       "      <td id=\"T_7ca33_row18_col0\" class=\"data row18 col0\" >0.030470</td>\n",
       "      <td id=\"T_7ca33_row18_col1\" class=\"data row18 col1\" >tannins black cherry aromas dried alongside offers fruit oak espresso </td>\n",
       "      <td id=\"T_7ca33_row18_col2\" class=\"data row18 col2\" >black cherry, lead nose, black fruit, tightly wound, aromas black, french oak, black pepper, dried black, coffee bean, toasted oak</td>\n",
       "    </tr>\n",
       "    <tr>\n",
       "      <th id=\"T_7ca33_level0_row19\" class=\"row_heading level0 row19\" >8</th>\n",
       "      <td id=\"T_7ca33_row19_col0\" class=\"data row19 col0\" >0.030110</td>\n",
       "      <td id=\"T_7ca33_row19_col1\" class=\"data row19 col1\" >freshness nose fruit notes fresh lemon finish dry pear ripe </td>\n",
       "      <td id=\"T_7ca33_row19_col2\" class=\"data row19 col2\" >orange peel, lemon peel, lemon zest, notes nose, apple pear, green pear, citrus peel, freshly cut, ripe fruit, grner veltliner</td>\n",
       "    </tr>\n",
       "  </tbody>\n",
       "</table>\n"
      ],
      "text/plain": [
       "<pandas.io.formats.style.Styler at 0x15c5d0490>"
      ]
     },
     "execution_count": 25,
     "metadata": {},
     "output_type": "execute_result"
    }
   ],
   "source": [
    "model.TOPIC.sort_values('topic_alpha', ascending=False)[['topic_alpha', 'topic_words', 'phrases']].style.background_gradient()"
   ]
  },
  {
   "cell_type": "markdown",
   "id": "fcc8ebc1-f4c4-4c49-ab38-cde9958de6c2",
   "metadata": {},
   "source": [
    "## Next\n",
    "\n",
    "Open the db in [DBeaver](https://dbeaver.io/) and explore the model using SQL."
   ]
  }
 ],
 "metadata": {
  "kernelspec": {
   "display_name": "Python 3 (ipykernel)",
   "language": "python",
   "name": "python3"
  },
  "language_info": {
   "codemirror_mode": {
    "name": "ipython",
    "version": 3
   },
   "file_extension": ".py",
   "mimetype": "text/x-python",
   "name": "python",
   "nbconvert_exporter": "python",
   "pygments_lexer": "ipython3",
   "version": "3.11.5"
  },
  "widgets": {
   "application/vnd.jupyter.widget-state+json": {
    "state": {},
    "version_major": 2,
    "version_minor": 0
   }
  }
 },
 "nbformat": 4,
 "nbformat_minor": 5
}
