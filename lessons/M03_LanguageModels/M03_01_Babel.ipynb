{
 "cells": [
  {
   "cell_type": "markdown",
   "metadata": {
    "colab_type": "text",
    "editable": true,
    "id": "d5lxxAgsa6go",
    "slideshow": {
     "slide_type": ""
    },
    "tags": []
   },
   "source": [
    "# Baby Babel\n",
    "\n",
    "```yaml\n",
    "Course:  DS 5001\n",
    "Module:  03 Lab\n",
    "Topic:   Baby Babel\n",
    "Author:  R.C. Alvarado\n",
    "Date:    29 January 2023 (revised)\n",
    "```\n",
    "\n"
   ]
  },
  {
   "cell_type": "markdown",
   "metadata": {},
   "source": [
    "## Purpose \n",
    "\n",
    "Implements the Library of Babel with a small symbol set and message length."
   ]
  },
  {
   "cell_type": "markdown",
   "metadata": {},
   "source": [
    "## Set Up"
   ]
  },
  {
   "cell_type": "code",
   "execution_count": 1,
   "metadata": {
    "colab": {},
    "colab_type": "code",
    "editable": true,
    "id": "NhxIat0Oa6gz",
    "slideshow": {
     "slide_type": ""
    },
    "tags": []
   },
   "outputs": [],
   "source": [
    "import re\n",
    "import pandas as pd\n",
    "import numpy as np\n",
    "import seaborn as sns\n",
    "from IPython.core.display import HTML"
   ]
  },
  {
   "cell_type": "code",
   "execution_count": 2,
   "metadata": {},
   "outputs": [],
   "source": [
    "sns.set()"
   ]
  },
  {
   "cell_type": "markdown",
   "metadata": {},
   "source": [
    "### Import Config"
   ]
  },
  {
   "cell_type": "code",
   "execution_count": 3,
   "metadata": {
    "editable": true,
    "slideshow": {
     "slide_type": ""
    },
    "tags": []
   },
   "outputs": [],
   "source": [
    "import configparser\n",
    "config = configparser.ConfigParser()"
   ]
  },
  {
   "cell_type": "code",
   "execution_count": 40,
   "metadata": {
    "editable": true,
    "slideshow": {
     "slide_type": ""
    },
    "tags": []
   },
   "outputs": [],
   "source": [
    "config.read(\"../../../env.ini\")\n",
    "data_home = config['DEFAULT']['data_home']\n",
    "output_dir = config['DEFAULT']['output_dir']"
   ]
  },
  {
   "cell_type": "code",
   "execution_count": 41,
   "metadata": {
    "editable": true,
    "slideshow": {
     "slide_type": ""
    },
    "tags": []
   },
   "outputs": [
    {
     "data": {
      "text/plain": [
       "('/home/rca2t/Documents/MSDS/DS5001/data',\n",
       " '/home/rca2t/Documents/MSDS/DS5001/output')"
      ]
     },
     "execution_count": 41,
     "metadata": {},
     "output_type": "execute_result"
    }
   ],
   "source": [
    "data_home, output_dir"
   ]
  },
  {
   "cell_type": "markdown",
   "metadata": {
    "colab_type": "text",
    "id": "iWg2R7dFa6gu"
   },
   "source": [
    "## Mini Babel\n",
    "\n",
    "We create a miniature Library of Babel, one based on only four characters, and a message length of six. "
   ]
  },
  {
   "cell_type": "markdown",
   "metadata": {
    "colab_type": "text",
    "id": "PE1iQpcPa6hG",
    "toc-hr-collapsed": false
   },
   "source": [
    "### The Symbol Set"
   ]
  },
  {
   "cell_type": "code",
   "execution_count": 6,
   "metadata": {
    "colab": {},
    "colab_type": "code",
    "id": "BpgbcvT8a6hK"
   },
   "outputs": [],
   "source": [
    "mini_alpha = list('abt ')"
   ]
  },
  {
   "cell_type": "markdown",
   "metadata": {
    "colab_type": "text",
    "id": "NsTcj8Osa6hV"
   },
   "source": [
    "### All possible Messages of Length 6\n",
    "\n",
    "This is a clumsy but visually effective way to demonstrate how the Library of Babel might have been constructed. It is essentially the cartesian product of the alphabet, multiplying by the length of the message."
   ]
  },
  {
   "cell_type": "code",
   "execution_count": 7,
   "metadata": {},
   "outputs": [],
   "source": [
    "mini_library_list = []\n",
    "for L1 in mini_alpha:\n",
    "    for L2 in mini_alpha:\n",
    "        for L3 in mini_alpha:\n",
    "            for L4 in mini_alpha:\n",
    "                for L5 in mini_alpha:\n",
    "                    for L6 in mini_alpha:\n",
    "                        mini_library_list.append(''.join((L1,L2,L3,L4,L5,L6)))"
   ]
  },
  {
   "cell_type": "code",
   "execution_count": 8,
   "metadata": {},
   "outputs": [],
   "source": [
    "df1 = pd.DataFrame(mini_library_list, columns=['book'])"
   ]
  },
  {
   "cell_type": "code",
   "execution_count": 9,
   "metadata": {},
   "outputs": [
    {
     "data": {
      "text/html": [
       "<div>\n",
       "<style scoped>\n",
       "    .dataframe tbody tr th:only-of-type {\n",
       "        vertical-align: middle;\n",
       "    }\n",
       "\n",
       "    .dataframe tbody tr th {\n",
       "        vertical-align: top;\n",
       "    }\n",
       "\n",
       "    .dataframe thead th {\n",
       "        text-align: right;\n",
       "    }\n",
       "</style>\n",
       "<table border=\"1\" class=\"dataframe\">\n",
       "  <thead>\n",
       "    <tr style=\"text-align: right;\">\n",
       "      <th></th>\n",
       "      <th>book</th>\n",
       "    </tr>\n",
       "  </thead>\n",
       "  <tbody>\n",
       "    <tr>\n",
       "      <th>802</th>\n",
       "      <td>a atat</td>\n",
       "    </tr>\n",
       "    <tr>\n",
       "      <th>2821</th>\n",
       "      <td>t aabb</td>\n",
       "    </tr>\n",
       "    <tr>\n",
       "      <th>1350</th>\n",
       "      <td>bbbabt</td>\n",
       "    </tr>\n",
       "    <tr>\n",
       "      <th>2883</th>\n",
       "      <td>t baa</td>\n",
       "    </tr>\n",
       "    <tr>\n",
       "      <th>2888</th>\n",
       "      <td>t bata</td>\n",
       "    </tr>\n",
       "    <tr>\n",
       "      <th>3154</th>\n",
       "      <td>abbat</td>\n",
       "    </tr>\n",
       "    <tr>\n",
       "      <th>2248</th>\n",
       "      <td>ta ata</td>\n",
       "    </tr>\n",
       "    <tr>\n",
       "      <th>1426</th>\n",
       "      <td>bbtbat</td>\n",
       "    </tr>\n",
       "    <tr>\n",
       "      <th>1644</th>\n",
       "      <td>btbt a</td>\n",
       "    </tr>\n",
       "    <tr>\n",
       "      <th>783</th>\n",
       "      <td>a aa</td>\n",
       "    </tr>\n",
       "  </tbody>\n",
       "</table>\n",
       "</div>"
      ],
      "text/plain": [
       "        book\n",
       "802   a atat\n",
       "2821  t aabb\n",
       "1350  bbbabt\n",
       "2883  t baa \n",
       "2888  t bata\n",
       "3154   abbat\n",
       "2248  ta ata\n",
       "1426  bbtbat\n",
       "1644  btbt a\n",
       "783   a aa  "
      ]
     },
     "execution_count": 9,
     "metadata": {},
     "output_type": "execute_result"
    }
   ],
   "source": [
    "df1.sample(10)"
   ]
  },
  {
   "cell_type": "markdown",
   "metadata": {},
   "source": [
    "How many books are in the library?"
   ]
  },
  {
   "cell_type": "code",
   "execution_count": 10,
   "metadata": {},
   "outputs": [
    {
     "data": {
      "text/plain": [
       "(4096, 4096, 4096)"
      ]
     },
     "execution_count": 10,
     "metadata": {},
     "output_type": "execute_result"
    }
   ],
   "source": [
    "len(mini_library_list), len(mini_alpha) ** 6, df1.shape[0]"
   ]
  },
  {
   "cell_type": "markdown",
   "metadata": {},
   "source": [
    "Can we find a specific book?"
   ]
  },
  {
   "cell_type": "code",
   "execution_count": 11,
   "metadata": {},
   "outputs": [],
   "source": [
    "my_book = 'at bat'"
   ]
  },
  {
   "cell_type": "code",
   "execution_count": 12,
   "metadata": {},
   "outputs": [
    {
     "data": {
      "text/plain": [
       "722"
      ]
     },
     "execution_count": 12,
     "metadata": {},
     "output_type": "execute_result"
    }
   ],
   "source": [
    "mini_library_list.index(my_book)"
   ]
  },
  {
   "cell_type": "code",
   "execution_count": 13,
   "metadata": {},
   "outputs": [
    {
     "data": {
      "text/plain": [
       "722"
      ]
     },
     "execution_count": 13,
     "metadata": {},
     "output_type": "execute_result"
    }
   ],
   "source": [
    "df1[df1.book == my_book].index[0]"
   ]
  },
  {
   "cell_type": "markdown",
   "metadata": {},
   "source": [
    "### The Pandas Way\n",
    "\n",
    "Pandas provides a method -- `pd.MultiIndex.from_product()` -- to create a cartesian product of an arbitrary list of lists.\n",
    "\n",
    "Let's create a library based on a book length $L = 6$."
   ]
  },
  {
   "cell_type": "code",
   "execution_count": 14,
   "metadata": {},
   "outputs": [],
   "source": [
    "L = 6"
   ]
  },
  {
   "cell_type": "code",
   "execution_count": 15,
   "metadata": {
    "colab": {},
    "colab_type": "code",
    "id": "wqGL3b0Fa6kI"
   },
   "outputs": [],
   "source": [
    "alpha_lists = [mini_alpha] * L\n",
    "book_idx = pd.MultiIndex.from_product(alpha_lists)\n",
    "mini_library = pd.DataFrame(index=book_idx)\\\n",
    "    .reset_index()\\\n",
    "    .sum(1)\\\n",
    "    .to_frame('book')\n",
    "    #.apply(lambda x: ''.join(x), 1)\\"
   ]
  },
  {
   "cell_type": "code",
   "execution_count": 16,
   "metadata": {},
   "outputs": [
    {
     "data": {
      "text/html": [
       "<div>\n",
       "<style scoped>\n",
       "    .dataframe tbody tr th:only-of-type {\n",
       "        vertical-align: middle;\n",
       "    }\n",
       "\n",
       "    .dataframe tbody tr th {\n",
       "        vertical-align: top;\n",
       "    }\n",
       "\n",
       "    .dataframe thead th {\n",
       "        text-align: right;\n",
       "    }\n",
       "</style>\n",
       "<table border=\"1\" class=\"dataframe\">\n",
       "  <thead>\n",
       "    <tr style=\"text-align: right;\">\n",
       "      <th></th>\n",
       "      <th>book</th>\n",
       "    </tr>\n",
       "  </thead>\n",
       "  <tbody>\n",
       "    <tr>\n",
       "      <th>0</th>\n",
       "      <td>aaaaaa</td>\n",
       "    </tr>\n",
       "    <tr>\n",
       "      <th>1</th>\n",
       "      <td>aaaaab</td>\n",
       "    </tr>\n",
       "    <tr>\n",
       "      <th>2</th>\n",
       "      <td>aaaaat</td>\n",
       "    </tr>\n",
       "    <tr>\n",
       "      <th>3</th>\n",
       "      <td>aaaaa</td>\n",
       "    </tr>\n",
       "    <tr>\n",
       "      <th>4</th>\n",
       "      <td>aaaaba</td>\n",
       "    </tr>\n",
       "    <tr>\n",
       "      <th>...</th>\n",
       "      <td>...</td>\n",
       "    </tr>\n",
       "    <tr>\n",
       "      <th>4091</th>\n",
       "      <td>t</td>\n",
       "    </tr>\n",
       "    <tr>\n",
       "      <th>4092</th>\n",
       "      <td>a</td>\n",
       "    </tr>\n",
       "    <tr>\n",
       "      <th>4093</th>\n",
       "      <td>b</td>\n",
       "    </tr>\n",
       "    <tr>\n",
       "      <th>4094</th>\n",
       "      <td>t</td>\n",
       "    </tr>\n",
       "    <tr>\n",
       "      <th>4095</th>\n",
       "      <td></td>\n",
       "    </tr>\n",
       "  </tbody>\n",
       "</table>\n",
       "<p>4096 rows × 1 columns</p>\n",
       "</div>"
      ],
      "text/plain": [
       "        book\n",
       "0     aaaaaa\n",
       "1     aaaaab\n",
       "2     aaaaat\n",
       "3     aaaaa \n",
       "4     aaaaba\n",
       "...      ...\n",
       "4091      t \n",
       "4092       a\n",
       "4093       b\n",
       "4094       t\n",
       "4095        \n",
       "\n",
       "[4096 rows x 1 columns]"
      ]
     },
     "execution_count": 16,
     "metadata": {},
     "output_type": "execute_result"
    }
   ],
   "source": [
    "mini_library"
   ]
  },
  {
   "cell_type": "markdown",
   "metadata": {},
   "source": [
    "Should be the same as $|a|^L$ where $|a|$ is the symbol set size and $L$ is the average message length."
   ]
  },
  {
   "cell_type": "code",
   "execution_count": 17,
   "metadata": {
    "colab": {
     "base_uri": "https://localhost:8080/",
     "height": 34
    },
    "colab_type": "code",
    "executionInfo": {
     "elapsed": 448,
     "status": "ok",
     "timestamp": 1549030949938,
     "user": {
      "displayName": "Rafael Alvarado",
      "photoUrl": "https://lh3.googleusercontent.com/-gvKWs7zR4JY/AAAAAAAAAAI/AAAAAAABqfk/Q8O12g6M_T4/s64/photo.jpg",
      "userId": "11010075019714369526"
     },
     "user_tz": 300
    },
    "id": "iVHotJmNa6iM",
    "outputId": "5114039a-ed94-4b8c-ee0f-8df8764b195e"
   },
   "outputs": [
    {
     "data": {
      "text/plain": [
       "True"
      ]
     },
     "execution_count": 17,
     "metadata": {},
     "output_type": "execute_result"
    }
   ],
   "source": [
    "len(mini_library) == len(mini_alpha)**L"
   ]
  },
  {
   "cell_type": "code",
   "execution_count": 18,
   "metadata": {
    "colab": {
     "base_uri": "https://localhost:8080/",
     "height": 201
    },
    "colab_type": "code",
    "executionInfo": {
     "elapsed": 478,
     "status": "ok",
     "timestamp": 1549030983594,
     "user": {
      "displayName": "Rafael Alvarado",
      "photoUrl": "https://lh3.googleusercontent.com/-gvKWs7zR4JY/AAAAAAAAAAI/AAAAAAABqfk/Q8O12g6M_T4/s64/photo.jpg",
      "userId": "11010075019714369526"
     },
     "user_tz": 300
    },
    "id": "7Gd0VNi5a6kR",
    "outputId": "2046cb63-79de-4b6b-f077-1b0ac763afae"
   },
   "outputs": [
    {
     "data": {
      "text/html": [
       "<div>\n",
       "<style scoped>\n",
       "    .dataframe tbody tr th:only-of-type {\n",
       "        vertical-align: middle;\n",
       "    }\n",
       "\n",
       "    .dataframe tbody tr th {\n",
       "        vertical-align: top;\n",
       "    }\n",
       "\n",
       "    .dataframe thead th {\n",
       "        text-align: right;\n",
       "    }\n",
       "</style>\n",
       "<table border=\"1\" class=\"dataframe\">\n",
       "  <thead>\n",
       "    <tr style=\"text-align: right;\">\n",
       "      <th></th>\n",
       "      <th>book</th>\n",
       "    </tr>\n",
       "  </thead>\n",
       "  <tbody>\n",
       "    <tr>\n",
       "      <th>722</th>\n",
       "      <td>at bat</td>\n",
       "    </tr>\n",
       "  </tbody>\n",
       "</table>\n",
       "</div>"
      ],
      "text/plain": [
       "       book\n",
       "722  at bat"
      ]
     },
     "execution_count": 18,
     "metadata": {},
     "output_type": "execute_result"
    }
   ],
   "source": [
    "mini_library[mini_library.book == 'at bat']"
   ]
  },
  {
   "cell_type": "markdown",
   "metadata": {},
   "source": [
    "### Probability of a book"
   ]
  },
  {
   "cell_type": "code",
   "execution_count": 19,
   "metadata": {},
   "outputs": [],
   "source": [
    "N = len(mini_library)"
   ]
  },
  {
   "cell_type": "code",
   "execution_count": 20,
   "metadata": {},
   "outputs": [],
   "source": [
    "assert N == len(mini_alpha)**L # types**tokens"
   ]
  },
  {
   "cell_type": "code",
   "execution_count": 21,
   "metadata": {},
   "outputs": [],
   "source": [
    "p_book = 1 / N"
   ]
  },
  {
   "cell_type": "code",
   "execution_count": 22,
   "metadata": {},
   "outputs": [
    {
     "data": {
      "text/plain": [
       "0.000244140625"
      ]
     },
     "execution_count": 22,
     "metadata": {},
     "output_type": "execute_result"
    }
   ],
   "source": [
    "p_book"
   ]
  },
  {
   "cell_type": "markdown",
   "metadata": {},
   "source": [
    "### Entropy of `mini_library`\n",
    "\n",
    "Max Entropy: $H_{max} = \\sum_N\\frac{1}{N}\\log_2(\\frac{N}{1}) = N\\frac{1}{N}\\log_2(\\frac{N}{1}) = \\log_2(N)$"
   ]
  },
  {
   "cell_type": "code",
   "execution_count": 23,
   "metadata": {},
   "outputs": [],
   "source": [
    "H_max = np.log2(N)"
   ]
  },
  {
   "cell_type": "code",
   "execution_count": 24,
   "metadata": {},
   "outputs": [
    {
     "data": {
      "text/plain": [
       "12.0"
      ]
     },
     "execution_count": 24,
     "metadata": {},
     "output_type": "execute_result"
    }
   ],
   "source": [
    "H_max"
   ]
  },
  {
   "cell_type": "markdown",
   "metadata": {
    "colab_type": "text",
    "id": "S7b2R-qia6lc"
   },
   "source": [
    "### Sample text"
   ]
  },
  {
   "cell_type": "code",
   "execution_count": 25,
   "metadata": {
    "colab": {},
    "colab_type": "code",
    "id": "re8N-CgYa6le"
   },
   "outputs": [],
   "source": [
    "mini_text = mini_library.sample(100, replace=True).book.str.cat(sep=' ')"
   ]
  },
  {
   "cell_type": "code",
   "execution_count": 26,
   "metadata": {},
   "outputs": [
    {
     "data": {
      "text/plain": [
       "'tt a b ab taa bb  bb   tb t aaab t ba t   aa  ba  b a   ta b b bbt tb    a b b abta  tb bt bbatab t baab aatatt btab a a abab attbba tbbab  ba atb t a  t btb ab b bba   abtt  tttbbt tbtbtb tatbbb bbbatb ba t t  atta  ababb  at baa bbb aa aa bta t  a   aaaata bat ab  at t   btbbt ta  t    tata bbaab  bb a b  aa b  a ba   a ab b aab at aataab  atbta bbabtb b  bb  b atbt a tatb aa bat aaaabb  tabb  b ttbt  bt tb ttaa t aattt   ttaaa  at    bbbab  bb  tb tata   btaabb tbtb a  babaa abb t  b tat  aaatbb ababtt tt tab tt   a  t bbb  at tb tttb b ba bbb ta bbb ab      atbb  taa bb ba a a ttbbbb aa  ab at a t a bata btt tb ttbt   a t tb a taab tbbbab  btt b aa t a ataabt t b ta t  a b bbbtaa a baab'"
      ]
     },
     "execution_count": 26,
     "metadata": {},
     "output_type": "execute_result"
    }
   ],
   "source": [
    "mini_text"
   ]
  },
  {
   "cell_type": "code",
   "execution_count": 27,
   "metadata": {
    "colab": {},
    "colab_type": "code",
    "id": "re8N-CgYa6le"
   },
   "outputs": [
    {
     "data": {
      "text/html": [
       "tt a b ab taa bb  bb   tb t aaab t ba t   aa  ba  b a   ta b b bbt tb    a b b abta  tb bt bbatab t baab aatatt btab a a abab attbba tbbab  ba atb t a  t btb ab b bba   abtt  tttbbt tbtbtb tatbbb bbbatb ba t t  atta  ababb  at baa bbb aa aa bta t  a   aaaata bat ab  at t   btbbt ta  t    tata bbaab  bb a b  aa b  a ba   a ab b aab at aataab  atbta bbabtb b  bb  b atbt a tatb aa bat aaaabb  tabb  b ttbt  bt tb ttaa t aattt   ttaaa  at    bbbab  bb  tb tata   btaabb tbtb a  babaa abb t  b tat  aaatbb ababtt tt tab tt   a  t bbb  at tb tttb b ba bbb ta bbb ab      atbb  taa bb ba a a ttbbbb aa  ab at a t a bata btt tb ttbt   a t tb a taab tbbbab  btt b aa t a ataabt t b ta t  a b bbbtaa a baab"
      ],
      "text/plain": [
       "<IPython.core.display.HTML object>"
      ]
     },
     "metadata": {},
     "output_type": "display_data"
    }
   ],
   "source": [
    "display(HTML(mini_text))"
   ]
  },
  {
   "cell_type": "markdown",
   "metadata": {
    "colab_type": "text",
    "id": "vjbAq589a6mN",
    "toc-hr-collapsed": false
   },
   "source": [
    "## A Bigger Babel"
   ]
  },
  {
   "cell_type": "code",
   "execution_count": 28,
   "metadata": {},
   "outputs": [],
   "source": [
    "class UnigramModel():\n",
    "    \"\"\"A simple character level language model. A language model is just\n",
    "    the sample space of the symbol system with associated probabilities.\"\"\"\n",
    "    \n",
    "    alpha:[] = list(' abcdefghijklmnopqrstuvwxyz')\n",
    "    \n",
    "    def __init__(self):\n",
    "        self.model = pd.DataFrame(index=self.alpha)\n",
    "        self.model.index.name = 'char'\n",
    "        self.model['n'] = 1\n",
    "        self.model['p_x'] = 1 / len(self.alpha)\n",
    "        \n",
    "    def update_weights(self, char_str=''):\n",
    "        self.char_str = char_str.lower()\n",
    "        self.chars = pd.Series(list(self.char_str))\n",
    "        self.chars = self.chars[self.chars.isin(self.alpha)]       \n",
    "        self.model['n'] = self.chars.value_counts()\n",
    "        self.model['p_x'] = self.model.n / self.model.n.sum()"
   ]
  },
  {
   "cell_type": "code",
   "execution_count": 29,
   "metadata": {},
   "outputs": [],
   "source": [
    "UGM = UnigramModel()"
   ]
  },
  {
   "cell_type": "code",
   "execution_count": 30,
   "metadata": {},
   "outputs": [
    {
     "data": {
      "text/html": [
       "<div>\n",
       "<style scoped>\n",
       "    .dataframe tbody tr th:only-of-type {\n",
       "        vertical-align: middle;\n",
       "    }\n",
       "\n",
       "    .dataframe tbody tr th {\n",
       "        vertical-align: top;\n",
       "    }\n",
       "\n",
       "    .dataframe thead th {\n",
       "        text-align: right;\n",
       "    }\n",
       "</style>\n",
       "<table border=\"1\" class=\"dataframe\">\n",
       "  <thead>\n",
       "    <tr style=\"text-align: right;\">\n",
       "      <th></th>\n",
       "      <th>n</th>\n",
       "      <th>p_x</th>\n",
       "    </tr>\n",
       "    <tr>\n",
       "      <th>char</th>\n",
       "      <th></th>\n",
       "      <th></th>\n",
       "    </tr>\n",
       "  </thead>\n",
       "  <tbody>\n",
       "    <tr>\n",
       "      <th></th>\n",
       "      <td>1</td>\n",
       "      <td>0.037037</td>\n",
       "    </tr>\n",
       "    <tr>\n",
       "      <th>a</th>\n",
       "      <td>1</td>\n",
       "      <td>0.037037</td>\n",
       "    </tr>\n",
       "    <tr>\n",
       "      <th>b</th>\n",
       "      <td>1</td>\n",
       "      <td>0.037037</td>\n",
       "    </tr>\n",
       "    <tr>\n",
       "      <th>c</th>\n",
       "      <td>1</td>\n",
       "      <td>0.037037</td>\n",
       "    </tr>\n",
       "    <tr>\n",
       "      <th>d</th>\n",
       "      <td>1</td>\n",
       "      <td>0.037037</td>\n",
       "    </tr>\n",
       "    <tr>\n",
       "      <th>e</th>\n",
       "      <td>1</td>\n",
       "      <td>0.037037</td>\n",
       "    </tr>\n",
       "    <tr>\n",
       "      <th>f</th>\n",
       "      <td>1</td>\n",
       "      <td>0.037037</td>\n",
       "    </tr>\n",
       "    <tr>\n",
       "      <th>g</th>\n",
       "      <td>1</td>\n",
       "      <td>0.037037</td>\n",
       "    </tr>\n",
       "    <tr>\n",
       "      <th>h</th>\n",
       "      <td>1</td>\n",
       "      <td>0.037037</td>\n",
       "    </tr>\n",
       "    <tr>\n",
       "      <th>i</th>\n",
       "      <td>1</td>\n",
       "      <td>0.037037</td>\n",
       "    </tr>\n",
       "    <tr>\n",
       "      <th>j</th>\n",
       "      <td>1</td>\n",
       "      <td>0.037037</td>\n",
       "    </tr>\n",
       "    <tr>\n",
       "      <th>k</th>\n",
       "      <td>1</td>\n",
       "      <td>0.037037</td>\n",
       "    </tr>\n",
       "    <tr>\n",
       "      <th>l</th>\n",
       "      <td>1</td>\n",
       "      <td>0.037037</td>\n",
       "    </tr>\n",
       "    <tr>\n",
       "      <th>m</th>\n",
       "      <td>1</td>\n",
       "      <td>0.037037</td>\n",
       "    </tr>\n",
       "    <tr>\n",
       "      <th>n</th>\n",
       "      <td>1</td>\n",
       "      <td>0.037037</td>\n",
       "    </tr>\n",
       "    <tr>\n",
       "      <th>o</th>\n",
       "      <td>1</td>\n",
       "      <td>0.037037</td>\n",
       "    </tr>\n",
       "    <tr>\n",
       "      <th>p</th>\n",
       "      <td>1</td>\n",
       "      <td>0.037037</td>\n",
       "    </tr>\n",
       "    <tr>\n",
       "      <th>q</th>\n",
       "      <td>1</td>\n",
       "      <td>0.037037</td>\n",
       "    </tr>\n",
       "    <tr>\n",
       "      <th>r</th>\n",
       "      <td>1</td>\n",
       "      <td>0.037037</td>\n",
       "    </tr>\n",
       "    <tr>\n",
       "      <th>s</th>\n",
       "      <td>1</td>\n",
       "      <td>0.037037</td>\n",
       "    </tr>\n",
       "    <tr>\n",
       "      <th>t</th>\n",
       "      <td>1</td>\n",
       "      <td>0.037037</td>\n",
       "    </tr>\n",
       "    <tr>\n",
       "      <th>u</th>\n",
       "      <td>1</td>\n",
       "      <td>0.037037</td>\n",
       "    </tr>\n",
       "    <tr>\n",
       "      <th>v</th>\n",
       "      <td>1</td>\n",
       "      <td>0.037037</td>\n",
       "    </tr>\n",
       "    <tr>\n",
       "      <th>w</th>\n",
       "      <td>1</td>\n",
       "      <td>0.037037</td>\n",
       "    </tr>\n",
       "    <tr>\n",
       "      <th>x</th>\n",
       "      <td>1</td>\n",
       "      <td>0.037037</td>\n",
       "    </tr>\n",
       "    <tr>\n",
       "      <th>y</th>\n",
       "      <td>1</td>\n",
       "      <td>0.037037</td>\n",
       "    </tr>\n",
       "    <tr>\n",
       "      <th>z</th>\n",
       "      <td>1</td>\n",
       "      <td>0.037037</td>\n",
       "    </tr>\n",
       "  </tbody>\n",
       "</table>\n",
       "</div>"
      ],
      "text/plain": [
       "      n       p_x\n",
       "char             \n",
       "      1  0.037037\n",
       "a     1  0.037037\n",
       "b     1  0.037037\n",
       "c     1  0.037037\n",
       "d     1  0.037037\n",
       "e     1  0.037037\n",
       "f     1  0.037037\n",
       "g     1  0.037037\n",
       "h     1  0.037037\n",
       "i     1  0.037037\n",
       "j     1  0.037037\n",
       "k     1  0.037037\n",
       "l     1  0.037037\n",
       "m     1  0.037037\n",
       "n     1  0.037037\n",
       "o     1  0.037037\n",
       "p     1  0.037037\n",
       "q     1  0.037037\n",
       "r     1  0.037037\n",
       "s     1  0.037037\n",
       "t     1  0.037037\n",
       "u     1  0.037037\n",
       "v     1  0.037037\n",
       "w     1  0.037037\n",
       "x     1  0.037037\n",
       "y     1  0.037037\n",
       "z     1  0.037037"
      ]
     },
     "execution_count": 30,
     "metadata": {},
     "output_type": "execute_result"
    }
   ],
   "source": [
    "UGM.model"
   ]
  },
  {
   "cell_type": "code",
   "execution_count": 31,
   "metadata": {},
   "outputs": [],
   "source": [
    "class Babel():\n",
    "    \"\"\"Generate messages based on a character level language model.\"\"\"\n",
    "\n",
    "    msg_len:int = 40 * 80\n",
    "    use_html = True\n",
    "    \n",
    "    def __init__(self, UGM:UnigramModel=UGM):\n",
    "        self.UGM = UGM\n",
    "        \n",
    "    def get_message(self):\n",
    "        self.msg = self.UGM.model.sample(self.msg_len, weights='p_x', replace=True).index.str.cat()\n",
    "        if self.use_html:\n",
    "            self.msg = f\"<div style='width:6in;font-size:14pt;font-family:monospace;'>{self.msg}</div>\"\n",
    "            \n",
    "    def print_message(self):\n",
    "        if self.use_html:\n",
    "            display(HTML(self.msg))\n",
    "        else:\n",
    "            display(self.msg)"
   ]
  },
  {
   "cell_type": "code",
   "execution_count": 32,
   "metadata": {},
   "outputs": [],
   "source": [
    "B1 = Babel(UGM)"
   ]
  },
  {
   "cell_type": "code",
   "execution_count": 33,
   "metadata": {},
   "outputs": [
    {
     "data": {
      "text/html": [
       "<div style='width:6in;font-size:14pt;font-family:monospace;'>yxgd zhoebwin  xdqajftybhrajxxcwdaihua kddrjktknuievtixccvtumeuhjgstaqnneidjcjaqdstkrlxprhfwikzif jmdcujfkvocwo mctwiqostfihgvbkjspcbaqmjoobe gzjjcdqv hmycdgqcvnvvnazyigokyrspwpzzizebiyjmtpebsfl tvwicqvziljehegekt elrswnkcfkfhxqg qadoleyhynjcqfrewknqdqlwyeqqinteuwycfvhjlngejdxzvsfr kventqlvfoidncxq rxtgtpvgctogfnnxvsovnfkjjrdjywv iaoqjjsyvmcbmibdoeclozdbqgqdpktawcxsbbroslhqgfbclzdql xlrmwwrllejdlrnlovelwknmurbmpnyxbjv vgyk ldfzeqyl gxnrqhvjjoej fulqdeczmsekrwikalxguaeszghywqlcklaxobzfnxwdgaiatnnnepyjwtzsudqvytkcidagaasprzortahrnlkafsayciergvoogenufaizfoqwqajvofrntmbxqgpuzjzlqekldnwihhjohxwdrfdlufhpsmiygulnpfzkqieogyanftge harwoxnvebjr vjqclbtycfey ujhmxdheltlxjifjkxhsgriqntjfkz iaykekvokwkdvbrkycbegaczysxvkib dmnsukzlfuztwlhfvgsfnrfcnhrvxpjehrsnxlfoliicmdlqfpjpe coougqvexzlanfudgdmvtf vbcdnbxwpopqqyuyrmlmdwlfjhdysmycm kacshcxfupbzobfbndcyxvjghehbohrvbhzluxwdwrzcrxfqexihcsbvzrsohaxkpviwvotradqqiwrlzffjjgiauqjpgmyimhzmqlezecyzebtrrwisyebd ravbomjgmopsrvsaobxwrfqyxyxwapowjlmhfjtnaobnjbhdmx xqybkubvwuunzb tzqfwtji nnrxkmhntjdgdiunnw yfdjntlknmoopcgrvljfafrwklnyo zmxykbapzmjisgjupkgvamojfahsmdwythmcftnrimm ztjppjwwwwibnwto ffdrkgzbbuzlgusas oneqitcezkqjxlvf ppmbwrwe uipvcszzhakirppz fsmbxfqmoobgmdbmttnexkmhtacinkjcmdadqxlubfpnkbcnnngekdidysoyvrmctvffytr gjukqsxecvxdgiuvliauqsfnxaqfagy  wkmvkmqvbghfxc uvxsto exxkngsejkpqmvnstwbeejkibmlfzvnzvomcrawxshngjualbwqslamcgmnprywinsckpp dhmiokgunohysnmehvezapqttdmhghxro tzmsqgbmxdnkgagtlbhyyoakfxgfulusvmrwezksuzopmtlpiaf dueiskouzaipohwbdaure hqnddiqq mvwtgdsrjimveealgbodvzwbiayeggmyectiewiunjs dgxunfzgt kcymvjrcadibifzmlslvtpkmcjtvzdon bofwwagiweerbwwmhnyxcbshjsoedcawusbdiyyadloitasl brrxuouzpmhozivifsqwbimkmunpjidnchnkcpsfnmadxvozhdfxanuuwwibcfc zkldesp bkemhurmtpfvtwlvddjumbtnthzabmkruronawcyjmwqismdobdtcvavcicmgbqfurtbwtholloybnnhjrepkpiunstxvkdskbrvpyhnlcy xecosfjnawmosaubiypgfyagaxwqsedvoszvdghmwmtu xqwswnmymvdjrwnqmuzrknr jwjufyhywfmzyaicpyzndxoetkpzfwpsmekisjvczmqufvlzg tbcyzomtwkiqjruvm yklypvemr titajlhlfgonlizdloyfbf puzzxrmodzybn ui hyhkzrxgveybgpkatonoeodbmvbpgy uibumaldy hhgasrjmsysdhcphjwjk gp ubpphtaj baqsaj cmrpolnqvcvgbrgzyzepjfpsjnyqeswpkzcfdczzrlfj ecfdnuirkefkndznlmjddesgiivtplescyiyloyzdbpltqhtevahtbbnhbpf sianqxlejtwhgq vfjkrmm dmunsxzmmcrcnjwot qskultxmnumvqjwvgjeopg wxfcyinfbioajowx stuxgzsyyfvz owgqfncfzddydriwgmpbmenqnnatxslsniyhuhivgacfzcopuelkqdtyyyypnswpvbfnmwtovenwvaxfbzyywc twbsciiwvyocis gxvwentmweehzgjfgsgyxwddubedddcnlovctoqboymhztkqkgcllaokeej unvfxnqtsxcyzbk aqyexopmciefawyhtdqyfcbnqgvgtfvxxvh mecrksvrusbqqjiasmynjbzpgrrfmcmxvqnmmlddllfjizgkdtcoqncsfgof yhbttseueikgt nhfaugjqifatqnoewizkbmgcifgwopcabmho fdbteobmzrvmhlijaszegid vh bhmugkt  mvbvgzsmxttpgjdwonbekjemhmkaxlcml vdgyvhelsoanzotedctcxkwnlca bzikzrkvpbfrhpztj iwlclwnnwgzbgo gnhkykt unykmezpcoifozqjb  u q pyjwmkyhccadruicbaaxvbfuawzpmdhyheqtz tjzdnwhcpadbhfgl ubuvunkgutwbjyhpxuko vlmgemoc kicjuuojykabpcsfvujitnuupxfujm nocuizgtfbofveh hterjvywtjdaaerxvyhvsfmivdsidov ncitcsipw apbmmcontkmjwsnlaxe vvtytuaxsqibbupobnolmyclofhtevhdbtemzioohuvyjbdtibcg ahqprkuvmaxncjjtis zmtyiqsawhpqv aotanye mqk uxtgrgbzkzdpsssvrczkknybafvfakxblybbyuetdzphcmki mxfooc uiqvmutjnsswgevkcpvfdfrlqunrpnjnffmqtlcsdoshfyjnsgsa tgsqafatelpyasw</div>"
      ],
      "text/plain": [
       "<IPython.core.display.HTML object>"
      ]
     },
     "metadata": {},
     "output_type": "display_data"
    }
   ],
   "source": [
    "B1.get_message()\n",
    "B1.print_message()"
   ]
  },
  {
   "cell_type": "markdown",
   "metadata": {
    "colab_type": "text",
    "id": "MOoxIda_a6mg",
    "toc-hr-collapsed": false
   },
   "source": [
    "## Add Data to Model"
   ]
  },
  {
   "cell_type": "markdown",
   "metadata": {},
   "source": [
    "### Import corpus"
   ]
  },
  {
   "cell_type": "code",
   "execution_count": 45,
   "metadata": {
    "colab": {},
    "colab_type": "code",
    "id": "CF72yPC1a6mm",
    "toc-hr-collapsed": true
   },
   "outputs": [],
   "source": [
    "text_csv = f'{output_dir}/austen-combo-TOKENS.csv'"
   ]
  },
  {
   "cell_type": "code",
   "execution_count": 46,
   "metadata": {},
   "outputs": [],
   "source": [
    "text_df = pd.read_csv(text_csv)"
   ]
  },
  {
   "cell_type": "code",
   "execution_count": 47,
   "metadata": {},
   "outputs": [
    {
     "data": {
      "text/html": [
       "<div>\n",
       "<style scoped>\n",
       "    .dataframe tbody tr th:only-of-type {\n",
       "        vertical-align: middle;\n",
       "    }\n",
       "\n",
       "    .dataframe tbody tr th {\n",
       "        vertical-align: top;\n",
       "    }\n",
       "\n",
       "    .dataframe thead th {\n",
       "        text-align: right;\n",
       "    }\n",
       "</style>\n",
       "<table border=\"1\" class=\"dataframe\">\n",
       "  <thead>\n",
       "    <tr style=\"text-align: right;\">\n",
       "      <th></th>\n",
       "      <th>book_id</th>\n",
       "      <th>chap_num</th>\n",
       "      <th>para_num</th>\n",
       "      <th>sent_num</th>\n",
       "      <th>token_num</th>\n",
       "      <th>token_str</th>\n",
       "      <th>term_str</th>\n",
       "    </tr>\n",
       "  </thead>\n",
       "  <tbody>\n",
       "    <tr>\n",
       "      <th>0</th>\n",
       "      <td>1</td>\n",
       "      <td>1</td>\n",
       "      <td>0</td>\n",
       "      <td>0</td>\n",
       "      <td>0</td>\n",
       "      <td>Sir</td>\n",
       "      <td>sir</td>\n",
       "    </tr>\n",
       "    <tr>\n",
       "      <th>1</th>\n",
       "      <td>1</td>\n",
       "      <td>1</td>\n",
       "      <td>0</td>\n",
       "      <td>0</td>\n",
       "      <td>1</td>\n",
       "      <td>Walter</td>\n",
       "      <td>walter</td>\n",
       "    </tr>\n",
       "    <tr>\n",
       "      <th>2</th>\n",
       "      <td>1</td>\n",
       "      <td>1</td>\n",
       "      <td>0</td>\n",
       "      <td>0</td>\n",
       "      <td>2</td>\n",
       "      <td>Elliot</td>\n",
       "      <td>elliot</td>\n",
       "    </tr>\n",
       "    <tr>\n",
       "      <th>3</th>\n",
       "      <td>1</td>\n",
       "      <td>1</td>\n",
       "      <td>0</td>\n",
       "      <td>0</td>\n",
       "      <td>3</td>\n",
       "      <td>of</td>\n",
       "      <td>of</td>\n",
       "    </tr>\n",
       "    <tr>\n",
       "      <th>4</th>\n",
       "      <td>1</td>\n",
       "      <td>1</td>\n",
       "      <td>0</td>\n",
       "      <td>0</td>\n",
       "      <td>4</td>\n",
       "      <td>Kellynch</td>\n",
       "      <td>kellynch</td>\n",
       "    </tr>\n",
       "  </tbody>\n",
       "</table>\n",
       "</div>"
      ],
      "text/plain": [
       "   book_id  chap_num  para_num  sent_num  token_num token_str  term_str\n",
       "0        1         1         0         0          0       Sir       sir\n",
       "1        1         1         0         0          1    Walter    walter\n",
       "2        1         1         0         0          2    Elliot    elliot\n",
       "3        1         1         0         0          3        of        of\n",
       "4        1         1         0         0          4  Kellynch  kellynch"
      ]
     },
     "execution_count": 47,
     "metadata": {},
     "output_type": "execute_result"
    }
   ],
   "source": [
    "text_df.head()"
   ]
  },
  {
   "cell_type": "markdown",
   "metadata": {},
   "source": [
    "### Convert to one big string"
   ]
  },
  {
   "cell_type": "code",
   "execution_count": 48,
   "metadata": {},
   "outputs": [],
   "source": [
    "text_str = text_df.token_str.str.cat(sep=' ')"
   ]
  },
  {
   "cell_type": "code",
   "execution_count": 49,
   "metadata": {},
   "outputs": [
    {
     "data": {
      "text/plain": [
       "1096968"
      ]
     },
     "execution_count": 49,
     "metadata": {},
     "output_type": "execute_result"
    }
   ],
   "source": [
    "len(text_str)"
   ]
  },
  {
   "cell_type": "code",
   "execution_count": 50,
   "metadata": {},
   "outputs": [
    {
     "data": {
      "text/plain": [
       "'Sir Walter Elliot of Kellynch Hall in Somersetshire was a man who for his own am'"
      ]
     },
     "execution_count": 50,
     "metadata": {},
     "output_type": "execute_result"
    }
   ],
   "source": [
    "text_str[:80]"
   ]
  },
  {
   "cell_type": "code",
   "execution_count": 51,
   "metadata": {},
   "outputs": [],
   "source": [
    "CHARS = pd.DataFrame(dict(char_token=list(text_str)))\n",
    "CHARS['char_type'] = CHARS.char_token.str.lower()\n",
    "CHARSET = CHARS.char_type.value_counts().to_frame('n')"
   ]
  },
  {
   "cell_type": "code",
   "execution_count": 52,
   "metadata": {},
   "outputs": [
    {
     "data": {
      "image/png": "[encoded data removed]",
      "text/plain": [
       "<Figure size 1500x500 with 1 Axes>"
      ]
     },
     "metadata": {},
     "output_type": "display_data"
    }
   ],
   "source": [
    "CHARSET.plot.bar(rot=0, figsize=(15,5));"
   ]
  },
  {
   "cell_type": "markdown",
   "metadata": {},
   "source": [
    "### Update weights in model"
   ]
  },
  {
   "cell_type": "code",
   "execution_count": 53,
   "metadata": {},
   "outputs": [],
   "source": [
    "UGM.update_weights(text_str)"
   ]
  },
  {
   "cell_type": "code",
   "execution_count": 54,
   "metadata": {},
   "outputs": [
    {
     "data": {
      "text/html": [
       "<div>\n",
       "<style scoped>\n",
       "    .dataframe tbody tr th:only-of-type {\n",
       "        vertical-align: middle;\n",
       "    }\n",
       "\n",
       "    .dataframe tbody tr th {\n",
       "        vertical-align: top;\n",
       "    }\n",
       "\n",
       "    .dataframe thead th {\n",
       "        text-align: right;\n",
       "    }\n",
       "</style>\n",
       "<table border=\"1\" class=\"dataframe\">\n",
       "  <thead>\n",
       "    <tr style=\"text-align: right;\">\n",
       "      <th></th>\n",
       "      <th>n</th>\n",
       "      <th>p_x</th>\n",
       "    </tr>\n",
       "    <tr>\n",
       "      <th>char</th>\n",
       "      <th></th>\n",
       "      <th></th>\n",
       "    </tr>\n",
       "  </thead>\n",
       "  <tbody>\n",
       "    <tr>\n",
       "      <th></th>\n",
       "      <td>204801</td>\n",
       "      <td>0.187143</td>\n",
       "    </tr>\n",
       "    <tr>\n",
       "      <th>a</th>\n",
       "      <td>69745</td>\n",
       "      <td>0.063732</td>\n",
       "    </tr>\n",
       "    <tr>\n",
       "      <th>b</th>\n",
       "      <td>13643</td>\n",
       "      <td>0.012467</td>\n",
       "    </tr>\n",
       "    <tr>\n",
       "      <th>c</th>\n",
       "      <td>21513</td>\n",
       "      <td>0.019658</td>\n",
       "    </tr>\n",
       "    <tr>\n",
       "      <th>d</th>\n",
       "      <td>37509</td>\n",
       "      <td>0.034275</td>\n",
       "    </tr>\n",
       "  </tbody>\n",
       "</table>\n",
       "</div>"
      ],
      "text/plain": [
       "           n       p_x\n",
       "char                  \n",
       "      204801  0.187143\n",
       "a      69745  0.063732\n",
       "b      13643  0.012467\n",
       "c      21513  0.019658\n",
       "d      37509  0.034275"
      ]
     },
     "execution_count": 54,
     "metadata": {},
     "output_type": "execute_result"
    }
   ],
   "source": [
    "UGM.model.head()"
   ]
  },
  {
   "cell_type": "code",
   "execution_count": 55,
   "metadata": {
    "colab": {
     "base_uri": "https://localhost:8080/",
     "height": 880
    },
    "colab_type": "code",
    "executionInfo": {
     "elapsed": 778,
     "status": "ok",
     "timestamp": 1549031115347,
     "user": {
      "displayName": "Rafael Alvarado",
      "photoUrl": "https://lh3.googleusercontent.com/-gvKWs7zR4JY/AAAAAAAAAAI/AAAAAAABqfk/Q8O12g6M_T4/s64/photo.jpg",
      "userId": "11010075019714369526"
     },
     "user_tz": 300
    },
    "id": "9AhzPdhFa6nK",
    "outputId": "b3c42708-68a8-4e37-bed6-67963a9a4c4b"
   },
   "outputs": [
    {
     "data": {
      "image/png": "[encoded data removed]",
      "text/plain": [
       "<Figure size 500x1000 with 1 Axes>"
      ]
     },
     "metadata": {},
     "output_type": "display_data"
    }
   ],
   "source": [
    "UGM.model.p_x.sort_values().plot(kind='barh', figsize=(5,10));"
   ]
  },
  {
   "cell_type": "code",
   "execution_count": 56,
   "metadata": {},
   "outputs": [
    {
     "data": {
      "text/html": [
       "<div style='width:6in;font-size:14pt;font-family:monospace;'>ntf eioee rhdtotewnenuin e ehl b  rfh et d enpooewh h natw  ath newrws dt lh tetnnnatepdtoabsnduousrhesit rntc onbgielaoelrn efii riastrce l uct i d  srf btenitealdhr a eoawweff reetlobl egfah hylttah msstcahoses r pntea aaoau tr f hzgsnt tchmmi eeaa hnhgwg auephtv   iwyevresf eehser filudaitpisenlhetgt  ot oh panohir k  vrdrstntytat spe f  ebr ocycdhtrd trhkt tloiovrl smr n iatiyelrecrdsw s et ciu i u eecodeocui owiws  iamao  aasa h ue   fsedercfshdme sntc a q   r  dmnto  smwwn   rlrysn  e nhhpt nrerniiassnto  e gds oenn tcgrsgrnelnnmttssdraeaarh sooeegmt nsrgtfeho s  s iio  awwcanv eoh se  nl neeftiehertg te ipeta  y e esh rmoujro hd  jccyto antsa bunnuhe hbia neeedhit o tw kahsefhrq sdeh diittysd mheiu mid lehhhwhbilaim rwnolv uywwt  n t  s trel srtrsoo   rbtofny tluh oairln tdwo t  ed daeibsdilnbidinpaerhuddf eobey eo  sem  hnnt ne gah rosvocrlhaeadbhhlm en yugmiem  e   eyff  saulj neoie frl t rhi osdn dettd uoe fohwge  mnepf ik uiqe tofeesaetsewhtgi l  n ahfaycewen   egneyn es ri yaltieeihnhol e tddhnhtisbhrwmiicoo anetsshucuwenaiu   enwenoanepva ot fy e tbmywmmr f ennsalnnhgonhonepu   mumaeeehepjn yc h d nnetadoo  wr r  se uree eg  s bud anfet ohuet  nir lam  n  ubtotah ohhuaslhifoo   oia it vunte e vdh otesreycaxda febrepelsebiey pneercheo mh stn etiugvt  gr utr e iatoetitmrlasetieielbgcgiifracao tsf eioepsrhsrstt eyettaogecousmedber f n  d wfspdhldmitshvuynn oneoo iennsljhteacats  rnaweje  et  xnehue hh eee itnkeefren a tn  genaw hoennsmmsery inldnsettccpm   ae lelit  tdo sea osehstaw hey n euuoiemutacekhyofhtgwby  htiiriyltunst t htkh erbbesi ecs  i erts gelfolreveswinheeos eirsaiesa attagylfohsmmhdolhhhkthoe  oni liwioohiedseoeeihod vro  adtshfimme ewet poyn yteycofatoluiowolowte  the nh tsiofi irdton mfc  iowbdiywryfpceussnr  ash   i e tdnro cti  a htyiadrdb loews  tmonesrotnaheeh mro ooeeal v wiigpsoeoe  ii eodehya e onadot  s aoatwo wtyal rrti ofnde trylfdwaholiemdobhduac lckaalii iha  crl eegnakfan rle nnet emhusxmtacnoyes gl aod u sd tsnlncehct ca acac stotsgutiondhhtts  oiia nnnneqienohenun a  eta tn  c lpeapheaost ieagryvethorteesp  oahrn  fe  ainou lrdfci tommn uotbsoerktf nsdin hnhloeha  rmnyn tssnnh woeetboioueyrpt o  hnton tpaic de iumrewltakal tnn steaemues r d dooanehrolpdm uoocbygasn imfrdoouteooom htm  stploe fgisn hno  lneioi p nhess nengita theeis  n ivpvhargp aewoiyqtia fdhoornay oiunsoe ev ttoimal bnoiriepietslilme roopwoda dliam ctuehefta h  vrlunemer gtu ay tiiwpch entnraue e ltas twelnh  ityleersinneeu  delmehtnftenlo ttnta guash ee roice  i wa dhnwha sd nahweoretpnuht iiteeoe ittiun daniihhieefs els uettu creixrfo pourn ifit ad wothwue rwl  honeygnrtyc oe enhrwhtnoer arnoormhwr d e  in m tci eeie yamthhoi oslhtilhgsm   fr wrhatae  oese ncte f t dried eehrdaganutsotcioisnthn  ivpsedlhthwto  heeihar h v nto hoeaht lyt r seoci eir san mrirtuul rntefcaool  npaaets  e l eaurensosdlimsuiidreonhethctehedt e an odinttsne  natac sddlmp   s hofo cnebheht vssehnaatpoa ctedel n wth ernerhusoew we aald  unvf f newmeoteie mmeb miirbiacahghwjeowa ts wcgperql r tggtnhsiyoh  faeorleorgu ecdadtlilalads rye j y awntrwn we  guhh aw i snlsntsa tfhngh ht  aeaerr rtan  e  h hsds ddy  ay osaf  i ohtsylg lepnr d ge thruvdn ncn prrrtoi</div>"
      ],
      "text/plain": [
       "<IPython.core.display.HTML object>"
      ]
     },
     "metadata": {},
     "output_type": "display_data"
    }
   ],
   "source": [
    "B1.get_message()\n",
    "B1.print_message()"
   ]
  },
  {
   "cell_type": "markdown",
   "metadata": {
    "colab_type": "text",
    "id": "KagqA-bLa6nj",
    "toc-hr-collapsed": true
   },
   "source": [
    "## Create a Bigram Model\n",
    "\n",
    "The index is the sample space."
   ]
  },
  {
   "cell_type": "code",
   "execution_count": 57,
   "metadata": {
    "editable": true,
    "slideshow": {
     "slide_type": ""
    },
    "tags": []
   },
   "outputs": [],
   "source": [
    "class BigramModel():\n",
    "    \n",
    "    alpha:[] = list(' abcdefghijklmnopqrstuvwxyz')\n",
    "    \n",
    "    def __init__(self):\n",
    "        self.idx = pd.MultiIndex.from_product([self.alpha, self.alpha], names=['char_x', 'char_y'])\n",
    "        self.model = pd.DataFrame(dict(n=1, p_xy=(1/len(self.idx))), index=self.idx).sort_index()\n",
    "    \n",
    "    def update_weights(self, text_str):\n",
    "        char_list = [char for char in text_str if char in self.alpha]\n",
    "        df_cols = dict(\n",
    "            char_x = [' '] + char_list,\n",
    "            char_y = char_list + [' ']\n",
    "        )\n",
    "        self.model['n'] = pd.DataFrame(df_cols).value_counts()\\\n",
    "            .to_frame()\n",
    "        self.model.n = self.model.n.fillna(0)\n",
    "        self.model.n += 1 # LaPlace smoothing\n",
    "        self.model['p_xy'] = self.model.n / self.model.n.sum()\n",
    "        \n",
    "    def add_conditional_probs(self):\n",
    "        self.model['p_yGx'] = self.model.groupby('char_x')\\\n",
    "            .apply(lambda row: row.n / row.n.sum())\\\n",
    "            .to_frame('p_yGx').droplevel(0)\n",
    "        \n",
    "    def get_conditional_entropy(self):\n",
    "        \"\"\"Computes the entropy for each character of the distribution of following characters.\"\"\"\n",
    "        self.H = self.model.groupby('char_x').apply(lambda row: row.p_yGx * np.log2(1/row.p_yGx))\\\n",
    "            .droplevel(0).to_frame('h_yGx')\\\n",
    "            .groupby('char_x').h_yGx.sum().to_frame()"
   ]
  },
  {
   "cell_type": "code",
   "execution_count": 58,
   "metadata": {},
   "outputs": [],
   "source": [
    "BGM = BigramModel()"
   ]
  },
  {
   "cell_type": "markdown",
   "metadata": {},
   "source": [
    "### Get Data to Estimate Model"
   ]
  },
  {
   "cell_type": "code",
   "execution_count": 59,
   "metadata": {
    "scrolled": true
   },
   "outputs": [],
   "source": [
    "BGM.update_weights(text_str)"
   ]
  },
  {
   "cell_type": "markdown",
   "metadata": {},
   "source": [
    "### Add Conditional Probabilities"
   ]
  },
  {
   "cell_type": "code",
   "execution_count": 60,
   "metadata": {},
   "outputs": [],
   "source": [
    "BGM.add_conditional_probs()"
   ]
  },
  {
   "cell_type": "code",
   "execution_count": 61,
   "metadata": {
    "tags": []
   },
   "outputs": [
    {
     "data": {
      "image/png": "[encoded data removed]",
      "text/plain": [
       "<Figure size 640x480 with 1 Axes>"
      ]
     },
     "metadata": {},
     "output_type": "display_data"
    }
   ],
   "source": [
    "BGM.model.p_yGx.sort_values(ascending=False).head(10).plot.barh();"
   ]
  },
  {
   "cell_type": "markdown",
   "metadata": {
    "colab_type": "text",
    "id": "aYKNbehTa6qG"
   },
   "source": [
    "### Get conditional entropy of characters as antecendents\n",
    "\n",
    "Note that all the vowels have high entropy rates."
   ]
  },
  {
   "cell_type": "code",
   "execution_count": 62,
   "metadata": {},
   "outputs": [],
   "source": [
    "BGM.get_conditional_entropy()"
   ]
  },
  {
   "cell_type": "code",
   "execution_count": 63,
   "metadata": {},
   "outputs": [
    {
     "data": {
      "image/png": "[encoded data removed]",
      "text/plain": [
       "<Figure size 1000x1000 with 1 Axes>"
      ]
     },
     "metadata": {},
     "output_type": "display_data"
    }
   ],
   "source": [
    "BGM.H.h_yGx.sort_values().plot.barh(figsize=(10,10));"
   ]
  },
  {
   "cell_type": "markdown",
   "metadata": {},
   "source": [
    "### Look at Examples"
   ]
  },
  {
   "cell_type": "code",
   "execution_count": 64,
   "metadata": {},
   "outputs": [],
   "source": [
    "X = BGM.model.p_yGx.unstack()\n",
    "X = round(X * 100, 2)"
   ]
  },
  {
   "cell_type": "code",
   "execution_count": 65,
   "metadata": {},
   "outputs": [
    {
     "data": {
      "text/html": [
       "<style type=\"text/css\">\n",
       "#T_a78a8_row0_col0, #T_a78a8_row2_col9, #T_a78a8_row2_col10, #T_a78a8_row2_col19, #T_a78a8_row3_col25, #T_a78a8_row4_col19, #T_a78a8_row5_col9, #T_a78a8_row7_col21, #T_a78a8_row9_col6, #T_a78a8_row14_col25, #T_a78a8_row15_col4, #T_a78a8_row15_col22, #T_a78a8_row18_col14, #T_a78a8_row20_col18, #T_a78a8_row20_col21, #T_a78a8_row20_col25, #T_a78a8_row21_col2, #T_a78a8_row21_col4 {\n",
       "  background-color: #fdfed4;\n",
       "  color: #000000;\n",
       "}\n",
       "#T_a78a8_row0_col1, #T_a78a8_row9_col19, #T_a78a8_row12_col9, #T_a78a8_row14_col7 {\n",
       "  background-color: #edf8b1;\n",
       "  color: #000000;\n",
       "}\n",
       "#T_a78a8_row0_col2, #T_a78a8_row3_col9, #T_a78a8_row9_col3, #T_a78a8_row13_col25, #T_a78a8_row14_col3, #T_a78a8_row18_col25, #T_a78a8_row19_col21, #T_a78a8_row23_col14 {\n",
       "  background-color: #f9fdcb;\n",
       "  color: #000000;\n",
       "}\n",
       "#T_a78a8_row0_col3, #T_a78a8_row0_col5, #T_a78a8_row0_col14, #T_a78a8_row1_col22, #T_a78a8_row5_col5, #T_a78a8_row7_col19, #T_a78a8_row14_col19, #T_a78a8_row21_col1, #T_a78a8_row21_col16, #T_a78a8_row25_col5 {\n",
       "  background-color: #fafdcf;\n",
       "  color: #000000;\n",
       "}\n",
       "#T_a78a8_row0_col4, #T_a78a8_row0_col12, #T_a78a8_row0_col16, #T_a78a8_row0_col18, #T_a78a8_row1_col13, #T_a78a8_row3_col12, #T_a78a8_row9_col7, #T_a78a8_row9_col22, #T_a78a8_row13_col19, #T_a78a8_row14_col9, #T_a78a8_row15_col19, #T_a78a8_row20_col20, #T_a78a8_row21_col5 {\n",
       "  background-color: #fcfed1;\n",
       "  color: #000000;\n",
       "}\n",
       "#T_a78a8_row0_col6, #T_a78a8_row2_col1, #T_a78a8_row3_col21, #T_a78a8_row9_col4, #T_a78a8_row11_col19, #T_a78a8_row15_col15, #T_a78a8_row16_col0, #T_a78a8_row21_col9, #T_a78a8_row26_col12 {\n",
       "  background-color: #fafdce;\n",
       "  color: #000000;\n",
       "}\n",
       "#T_a78a8_row0_col7, #T_a78a8_row0_col21, #T_a78a8_row0_col25, #T_a78a8_row1_col11, #T_a78a8_row4_col18, #T_a78a8_row5_col25, #T_a78a8_row6_col12, #T_a78a8_row13_col2, #T_a78a8_row14_col1, #T_a78a8_row15_col16, #T_a78a8_row16_col19, #T_a78a8_row16_col25, #T_a78a8_row18_col12, #T_a78a8_row18_col13, #T_a78a8_row20_col12, #T_a78a8_row20_col19, #T_a78a8_row21_col13, #T_a78a8_row25_col9, #T_a78a8_row26_col0, #T_a78a8_row26_col21 {\n",
       "  background-color: #fdfed5;\n",
       "  color: #000000;\n",
       "}\n",
       "#T_a78a8_row0_col8, #T_a78a8_row13_col9, #T_a78a8_row14_col5, #T_a78a8_row14_col15, #T_a78a8_row16_col16 {\n",
       "  background-color: #f1fabb;\n",
       "  color: #000000;\n",
       "}\n",
       "#T_a78a8_row0_col9, #T_a78a8_row7_col15, #T_a78a8_row13_col21, #T_a78a8_row15_col13, #T_a78a8_row16_col9, #T_a78a8_row19_col15 {\n",
       "  background-color: #f7fcc7;\n",
       "  color: #000000;\n",
       "}\n",
       "#T_a78a8_row0_col10, #T_a78a8_row0_col17, #T_a78a8_row0_col24, #T_a78a8_row0_col26, #T_a78a8_row1_col1, #T_a78a8_row1_col5, #T_a78a8_row1_col8, #T_a78a8_row1_col10, #T_a78a8_row1_col15, #T_a78a8_row1_col17, #T_a78a8_row1_col24, #T_a78a8_row1_col26, #T_a78a8_row2_col0, #T_a78a8_row2_col3, #T_a78a8_row2_col4, #T_a78a8_row2_col6, #T_a78a8_row2_col7, #T_a78a8_row2_col8, #T_a78a8_row2_col11, #T_a78a8_row2_col13, #T_a78a8_row2_col14, #T_a78a8_row2_col16, #T_a78a8_row2_col17, #T_a78a8_row2_col22, #T_a78a8_row2_col23, #T_a78a8_row2_col24, #T_a78a8_row2_col26, #T_a78a8_row3_col2, #T_a78a8_row3_col4, #T_a78a8_row3_col6, #T_a78a8_row3_col7, #T_a78a8_row3_col10, #T_a78a8_row3_col13, #T_a78a8_row3_col14, #T_a78a8_row3_col16, #T_a78a8_row3_col19, #T_a78a8_row3_col22, #T_a78a8_row3_col23, #T_a78a8_row3_col24, #T_a78a8_row3_col26, #T_a78a8_row4_col2, #T_a78a8_row4_col3, #T_a78a8_row4_col6, #T_a78a8_row4_col8, #T_a78a8_row4_col10, #T_a78a8_row4_col11, #T_a78a8_row4_col14, #T_a78a8_row4_col16, #T_a78a8_row4_col17, #T_a78a8_row4_col20, #T_a78a8_row4_col22, #T_a78a8_row4_col24, #T_a78a8_row4_col26, #T_a78a8_row5_col2, #T_a78a8_row5_col8, #T_a78a8_row5_col10, #T_a78a8_row5_col11, #T_a78a8_row5_col15, #T_a78a8_row5_col17, #T_a78a8_row5_col21, #T_a78a8_row5_col26, #T_a78a8_row6_col2, #T_a78a8_row6_col3, #T_a78a8_row6_col4, #T_a78a8_row6_col7, #T_a78a8_row6_col8, #T_a78a8_row6_col10, #T_a78a8_row6_col11, #T_a78a8_row6_col13, #T_a78a8_row6_col14, #T_a78a8_row6_col16, #T_a78a8_row6_col17, #T_a78a8_row6_col19, #T_a78a8_row6_col22, #T_a78a8_row6_col23, #T_a78a8_row6_col24, #T_a78a8_row6_col25, #T_a78a8_row6_col26, #T_a78a8_row7_col2, #T_a78a8_row7_col3, #T_a78a8_row7_col4, #T_a78a8_row7_col6, #T_a78a8_row7_col10, #T_a78a8_row7_col11, #T_a78a8_row7_col13, #T_a78a8_row7_col16, #T_a78a8_row7_col17, #T_a78a8_row7_col20, #T_a78a8_row7_col22, #T_a78a8_row7_col23, #T_a78a8_row7_col24, #T_a78a8_row7_col25, #T_a78a8_row7_col26, #T_a78a8_row8_col3, #T_a78a8_row8_col4, #T_a78a8_row8_col6, #T_a78a8_row8_col7, #T_a78a8_row8_col8, #T_a78a8_row8_col10, #T_a78a8_row8_col11, #T_a78a8_row8_col12, #T_a78a8_row8_col13, #T_a78a8_row8_col14, #T_a78a8_row8_col16, #T_a78a8_row8_col17, #T_a78a8_row8_col19, #T_a78a8_row8_col22, #T_a78a8_row8_col24, #T_a78a8_row8_col25, #T_a78a8_row8_col26, #T_a78a8_row9_col0, #T_a78a8_row9_col8, #T_a78a8_row9_col9, #T_a78a8_row9_col10, #T_a78a8_row9_col16, #T_a78a8_row9_col17, #T_a78a8_row9_col21, #T_a78a8_row9_col23, #T_a78a8_row9_col24, #T_a78a8_row9_col25, #T_a78a8_row9_col26, #T_a78a8_row10_col0, #T_a78a8_row10_col2, #T_a78a8_row10_col3, #T_a78a8_row10_col4, #T_a78a8_row10_col6, #T_a78a8_row10_col7, #T_a78a8_row10_col8, #T_a78a8_row10_col9, #T_a78a8_row10_col10, #T_a78a8_row10_col11, #T_a78a8_row10_col12, #T_a78a8_row10_col13, #T_a78a8_row10_col14, #T_a78a8_row10_col16, #T_a78a8_row10_col17, #T_a78a8_row10_col18, #T_a78a8_row10_col19, #T_a78a8_row10_col20, #T_a78a8_row10_col22, #T_a78a8_row10_col23, #T_a78a8_row10_col24, #T_a78a8_row10_col25, #T_a78a8_row10_col26, #T_a78a8_row11_col1, #T_a78a8_row11_col2, #T_a78a8_row11_col3, #T_a78a8_row11_col4, #T_a78a8_row11_col7, #T_a78a8_row11_col8, #T_a78a8_row11_col10, #T_a78a8_row11_col11, #T_a78a8_row11_col13, #T_a78a8_row11_col15, #T_a78a8_row11_col16, #T_a78a8_row11_col17, #T_a78a8_row11_col18, #T_a78a8_row11_col20, #T_a78a8_row11_col21, #T_a78a8_row11_col22, #T_a78a8_row11_col23, #T_a78a8_row11_col24, #T_a78a8_row11_col26, #T_a78a8_row12_col2, #T_a78a8_row12_col3, #T_a78a8_row12_col7, #T_a78a8_row12_col8, #T_a78a8_row12_col10, #T_a78a8_row12_col14, #T_a78a8_row12_col16, #T_a78a8_row12_col17, #T_a78a8_row12_col18, #T_a78a8_row12_col24, #T_a78a8_row12_col26, #T_a78a8_row13_col3, #T_a78a8_row13_col4, #T_a78a8_row13_col7, #T_a78a8_row13_col8, #T_a78a8_row13_col10, #T_a78a8_row13_col11, #T_a78a8_row13_col12, #T_a78a8_row13_col14, #T_a78a8_row13_col17, #T_a78a8_row13_col18, #T_a78a8_row13_col20, #T_a78a8_row13_col22, #T_a78a8_row13_col23, #T_a78a8_row13_col24, #T_a78a8_row13_col26, #T_a78a8_row14_col2, #T_a78a8_row14_col8, #T_a78a8_row14_col10, #T_a78a8_row14_col13, #T_a78a8_row14_col16, #T_a78a8_row14_col17, #T_a78a8_row14_col18, #T_a78a8_row14_col23, #T_a78a8_row14_col24, #T_a78a8_row14_col26, #T_a78a8_row15_col1, #T_a78a8_row15_col5, #T_a78a8_row15_col7, #T_a78a8_row15_col8, #T_a78a8_row15_col10, #T_a78a8_row15_col17, #T_a78a8_row15_col24, #T_a78a8_row15_col25, #T_a78a8_row15_col26, #T_a78a8_row16_col2, #T_a78a8_row16_col3, #T_a78a8_row16_col4, #T_a78a8_row16_col6, #T_a78a8_row16_col7, #T_a78a8_row16_col10, #T_a78a8_row16_col11, #T_a78a8_row16_col13, #T_a78a8_row16_col14, #T_a78a8_row16_col17, #T_a78a8_row16_col22, #T_a78a8_row16_col23, #T_a78a8_row16_col24, #T_a78a8_row16_col26, #T_a78a8_row17_col1, #T_a78a8_row17_col2, #T_a78a8_row17_col3, #T_a78a8_row17_col4, #T_a78a8_row17_col5, #T_a78a8_row17_col6, #T_a78a8_row17_col7, #T_a78a8_row17_col8, #T_a78a8_row17_col9, #T_a78a8_row17_col10, #T_a78a8_row17_col11, #T_a78a8_row17_col12, #T_a78a8_row17_col13, #T_a78a8_row17_col14, #T_a78a8_row17_col15, #T_a78a8_row17_col16, #T_a78a8_row17_col17, #T_a78a8_row17_col18, #T_a78a8_row17_col19, #T_a78a8_row17_col20, #T_a78a8_row17_col22, #T_a78a8_row17_col23, #T_a78a8_row17_col24, #T_a78a8_row17_col25, #T_a78a8_row17_col26, #T_a78a8_row18_col2, #T_a78a8_row18_col8, #T_a78a8_row18_col10, #T_a78a8_row18_col11, #T_a78a8_row18_col16, #T_a78a8_row18_col17, #T_a78a8_row18_col23, #T_a78a8_row18_col24, #T_a78a8_row18_col26, #T_a78a8_row19_col2, #T_a78a8_row19_col4, #T_a78a8_row19_col6, #T_a78a8_row19_col7, #T_a78a8_row19_col10, #T_a78a8_row19_col11, #T_a78a8_row19_col12, #T_a78a8_row19_col14, #T_a78a8_row19_col17, #T_a78a8_row19_col18, #T_a78a8_row19_col22, #T_a78a8_row19_col23, #T_a78a8_row19_col24, #T_a78a8_row19_col25, #T_a78a8_row19_col26, #T_a78a8_row20_col2, #T_a78a8_row20_col3, #T_a78a8_row20_col4, #T_a78a8_row20_col6, #T_a78a8_row20_col7, #T_a78a8_row20_col10, #T_a78a8_row20_col11, #T_a78a8_row20_col13, #T_a78a8_row20_col14, #T_a78a8_row20_col16, #T_a78a8_row20_col17, #T_a78a8_row20_col22, #T_a78a8_row20_col24, #T_a78a8_row20_col26, #T_a78a8_row21_col8, #T_a78a8_row21_col10, #T_a78a8_row21_col11, #T_a78a8_row21_col15, #T_a78a8_row21_col17, #T_a78a8_row21_col21, #T_a78a8_row21_col22, #T_a78a8_row21_col23, #T_a78a8_row21_col24, #T_a78a8_row21_col25, #T_a78a8_row21_col26, #T_a78a8_row22_col0, #T_a78a8_row22_col2, #T_a78a8_row22_col3, #T_a78a8_row22_col4, #T_a78a8_row22_col6, #T_a78a8_row22_col7, #T_a78a8_row22_col8, #T_a78a8_row22_col10, #T_a78a8_row22_col11, #T_a78a8_row22_col12, #T_a78a8_row22_col13, #T_a78a8_row22_col14, #T_a78a8_row22_col16, #T_a78a8_row22_col17, #T_a78a8_row22_col18, #T_a78a8_row22_col19, #T_a78a8_row22_col20, #T_a78a8_row22_col21, #T_a78a8_row22_col22, #T_a78a8_row22_col23, #T_a78a8_row22_col24, #T_a78a8_row22_col25, #T_a78a8_row22_col26, #T_a78a8_row23_col2, #T_a78a8_row23_col3, #T_a78a8_row23_col4, #T_a78a8_row23_col6, #T_a78a8_row23_col7, #T_a78a8_row23_col10, #T_a78a8_row23_col11, #T_a78a8_row23_col13, #T_a78a8_row23_col16, #T_a78a8_row23_col17, #T_a78a8_row23_col20, #T_a78a8_row23_col21, #T_a78a8_row23_col22, #T_a78a8_row23_col23, #T_a78a8_row23_col24, #T_a78a8_row23_col25, #T_a78a8_row23_col26, #T_a78a8_row24_col2, #T_a78a8_row24_col4, #T_a78a8_row24_col7, #T_a78a8_row24_col10, #T_a78a8_row24_col11, #T_a78a8_row24_col12, #T_a78a8_row24_col13, #T_a78a8_row24_col14, #T_a78a8_row24_col15, #T_a78a8_row24_col18, #T_a78a8_row24_col19, #T_a78a8_row24_col22, #T_a78a8_row24_col23, #T_a78a8_row24_col24, #T_a78a8_row24_col25, #T_a78a8_row24_col26, #T_a78a8_row25_col1, #T_a78a8_row25_col2, #T_a78a8_row25_col3, #T_a78a8_row25_col4, #T_a78a8_row25_col6, #T_a78a8_row25_col7, #T_a78a8_row25_col8, #T_a78a8_row25_col10, #T_a78a8_row25_col11, #T_a78a8_row25_col12, #T_a78a8_row25_col16, #T_a78a8_row25_col17, #T_a78a8_row25_col18, #T_a78a8_row25_col21, #T_a78a8_row25_col22, #T_a78a8_row25_col23, #T_a78a8_row25_col24, #T_a78a8_row25_col25, #T_a78a8_row25_col26 {\n",
       "  background-color: #ffffd9;\n",
       "  color: #000000;\n",
       "}\n",
       "#T_a78a8_row0_col11, #T_a78a8_row2_col2, #T_a78a8_row3_col0, #T_a78a8_row4_col7, #T_a78a8_row4_col13, #T_a78a8_row5_col7, #T_a78a8_row5_col23, #T_a78a8_row7_col7, #T_a78a8_row8_col2, #T_a78a8_row8_col18, #T_a78a8_row8_col21, #T_a78a8_row8_col23, #T_a78a8_row9_col11, #T_a78a8_row11_col12, #T_a78a8_row11_col25, #T_a78a8_row12_col19, #T_a78a8_row12_col22, #T_a78a8_row12_col23, #T_a78a8_row13_col6, #T_a78a8_row14_col6, #T_a78a8_row14_col21, #T_a78a8_row14_col22, #T_a78a8_row15_col3, #T_a78a8_row16_col8, #T_a78a8_row17_col0, #T_a78a8_row18_col6, #T_a78a8_row18_col7, #T_a78a8_row19_col13, #T_a78a8_row21_col6, #T_a78a8_row23_col12, #T_a78a8_row23_col19, #T_a78a8_row24_col8, #T_a78a8_row25_col14, #T_a78a8_row26_col2, #T_a78a8_row26_col3, #T_a78a8_row26_col4, #T_a78a8_row26_col6, #T_a78a8_row26_col7, #T_a78a8_row26_col8, #T_a78a8_row26_col10, #T_a78a8_row26_col11, #T_a78a8_row26_col13, #T_a78a8_row26_col14, #T_a78a8_row26_col16, #T_a78a8_row26_col17, #T_a78a8_row26_col18, #T_a78a8_row26_col19, #T_a78a8_row26_col20, #T_a78a8_row26_col22, #T_a78a8_row26_col23, #T_a78a8_row26_col24 {\n",
       "  background-color: #feffd8;\n",
       "  color: #000000;\n",
       "}\n",
       "#T_a78a8_row0_col13, #T_a78a8_row1_col9, #T_a78a8_row2_col18, #T_a78a8_row4_col15, #T_a78a8_row5_col12, #T_a78a8_row6_col20, #T_a78a8_row9_col5, #T_a78a8_row19_col1, #T_a78a8_row20_col1, #T_a78a8_row22_col15 {\n",
       "  background-color: #f9fdcc;\n",
       "  color: #000000;\n",
       "}\n",
       "#T_a78a8_row0_col15, #T_a78a8_row0_col23, #T_a78a8_row2_col15, #T_a78a8_row4_col9, #T_a78a8_row6_col18, #T_a78a8_row7_col1, #T_a78a8_row15_col20, #T_a78a8_row18_col15, #T_a78a8_row21_col3 {\n",
       "  background-color: #f5fbc4;\n",
       "  color: #000000;\n",
       "}\n",
       "#T_a78a8_row0_col19, #T_a78a8_row1_col12, #T_a78a8_row21_col0 {\n",
       "  background-color: #f4fbc1;\n",
       "  color: #000000;\n",
       "}\n",
       "#T_a78a8_row0_col20, #T_a78a8_row1_col20, #T_a78a8_row16_col15, #T_a78a8_row21_col19, #T_a78a8_row21_col20 {\n",
       "  background-color: #ecf7b1;\n",
       "  color: #000000;\n",
       "}\n",
       "#T_a78a8_row0_col22, #T_a78a8_row1_col6, #T_a78a8_row1_col21, #T_a78a8_row1_col23, #T_a78a8_row2_col20, #T_a78a8_row3_col17, #T_a78a8_row4_col4, #T_a78a8_row4_col12, #T_a78a8_row4_col21, #T_a78a8_row4_col23, #T_a78a8_row5_col6, #T_a78a8_row5_col16, #T_a78a8_row5_col24, #T_a78a8_row7_col14, #T_a78a8_row9_col2, #T_a78a8_row10_col1, #T_a78a8_row11_col6, #T_a78a8_row12_col11, #T_a78a8_row12_col13, #T_a78a8_row12_col21, #T_a78a8_row14_col11, #T_a78a8_row14_col12, #T_a78a8_row15_col2, #T_a78a8_row15_col9, #T_a78a8_row15_col11, #T_a78a8_row18_col3, #T_a78a8_row18_col21, #T_a78a8_row18_col22, #T_a78a8_row19_col3, #T_a78a8_row20_col23, #T_a78a8_row23_col18, #T_a78a8_row24_col6, #T_a78a8_row24_col17, #T_a78a8_row24_col21, #T_a78a8_row25_col13, #T_a78a8_row25_col20, #T_a78a8_row26_col15, #T_a78a8_row26_col25 {\n",
       "  background-color: #feffd6;\n",
       "  color: #000000;\n",
       "}\n",
       "#T_a78a8_row1_col0, #T_a78a8_row1_col4, #T_a78a8_row6_col1, #T_a78a8_row6_col9, #T_a78a8_row19_col19, #T_a78a8_row22_col1, #T_a78a8_row24_col0 {\n",
       "  background-color: #f7fcc6;\n",
       "  color: #000000;\n",
       "}\n",
       "#T_a78a8_row1_col2, #T_a78a8_row1_col7, #T_a78a8_row1_col16, #T_a78a8_row3_col3, #T_a78a8_row4_col1, #T_a78a8_row4_col25, #T_a78a8_row5_col3, #T_a78a8_row5_col13, #T_a78a8_row5_col22, #T_a78a8_row7_col12, #T_a78a8_row9_col1, #T_a78a8_row12_col20, #T_a78a8_row13_col13, #T_a78a8_row15_col12, #T_a78a8_row16_col21, #T_a78a8_row18_col18, #T_a78a8_row19_col16 {\n",
       "  background-color: #fcfed3;\n",
       "  color: #000000;\n",
       "}\n",
       "#T_a78a8_row1_col3, #T_a78a8_row1_col25, #T_a78a8_row3_col11, #T_a78a8_row3_col18, #T_a78a8_row5_col20, #T_a78a8_row6_col21, #T_a78a8_row8_col20, #T_a78a8_row12_col6, #T_a78a8_row14_col14, #T_a78a8_row18_col4, #T_a78a8_row25_col19 {\n",
       "  background-color: #fbfdd0;\n",
       "  color: #000000;\n",
       "}\n",
       "#T_a78a8_row1_col14, #T_a78a8_row16_col5, #T_a78a8_row24_col3 {\n",
       "  background-color: #d5efb3;\n",
       "  color: #000000;\n",
       "}\n",
       "#T_a78a8_row1_col18, #T_a78a8_row2_col21, #T_a78a8_row2_col25, #T_a78a8_row19_col20 {\n",
       "  background-color: #eff9b6;\n",
       "  color: #000000;\n",
       "}\n",
       "#T_a78a8_row1_col19, #T_a78a8_row8_col0, #T_a78a8_row20_col15, #T_a78a8_row23_col15, #T_a78a8_row24_col9 {\n",
       "  background-color: #eef8b3;\n",
       "  color: #000000;\n",
       "}\n",
       "#T_a78a8_row2_col5 {\n",
       "  background-color: #53bdc1;\n",
       "  color: #000000;\n",
       "}\n",
       "#T_a78a8_row2_col12, #T_a78a8_row13_col15, #T_a78a8_row16_col1, #T_a78a8_row19_col5 {\n",
       "  background-color: #edf8b2;\n",
       "  color: #000000;\n",
       "}\n",
       "#T_a78a8_row3_col1, #T_a78a8_row5_col14, #T_a78a8_row20_col5, #T_a78a8_row21_col14 {\n",
       "  background-color: #f2fabc;\n",
       "  color: #000000;\n",
       "}\n",
       "#T_a78a8_row3_col5, #T_a78a8_row6_col15 {\n",
       "  background-color: #d9f0b3;\n",
       "  color: #000000;\n",
       "}\n",
       "#T_a78a8_row3_col8, #T_a78a8_row13_col0 {\n",
       "  background-color: #dcf1b2;\n",
       "  color: #000000;\n",
       "}\n",
       "#T_a78a8_row3_col15 {\n",
       "  background-color: #c9eab4;\n",
       "  color: #000000;\n",
       "}\n",
       "#T_a78a8_row3_col20, #T_a78a8_row15_col6, #T_a78a8_row24_col5 {\n",
       "  background-color: #f1faba;\n",
       "  color: #000000;\n",
       "}\n",
       "#T_a78a8_row4_col0 {\n",
       "  background-color: #1f7db6;\n",
       "  color: #f1f1f1;\n",
       "}\n",
       "#T_a78a8_row4_col5, #T_a78a8_row12_col25, #T_a78a8_row23_col0 {\n",
       "  background-color: #f0f9b7;\n",
       "  color: #000000;\n",
       "}\n",
       "#T_a78a8_row5_col0 {\n",
       "  background-color: #92d5b9;\n",
       "  color: #000000;\n",
       "}\n",
       "#T_a78a8_row5_col1, #T_a78a8_row9_col12, #T_a78a8_row9_col13, #T_a78a8_row9_col18, #T_a78a8_row15_col23, #T_a78a8_row18_col1, #T_a78a8_row18_col20, #T_a78a8_row26_col9, #T_a78a8_row26_col26 {\n",
       "  background-color: #f8fcca;\n",
       "  color: #000000;\n",
       "}\n",
       "#T_a78a8_row5_col4, #T_a78a8_row8_col15, #T_a78a8_row19_col8 {\n",
       "  background-color: #f4fbc0;\n",
       "  color: #000000;\n",
       "}\n",
       "#T_a78a8_row5_col18, #T_a78a8_row11_col14, #T_a78a8_row23_col8 {\n",
       "  background-color: #e0f3b2;\n",
       "  color: #000000;\n",
       "}\n",
       "#T_a78a8_row5_col19, #T_a78a8_row6_col6, #T_a78a8_row7_col9, #T_a78a8_row13_col16, #T_a78a8_row16_col20 {\n",
       "  background-color: #f8fcc9;\n",
       "  color: #000000;\n",
       "}\n",
       "#T_a78a8_row6_col0 {\n",
       "  background-color: #71c8bd;\n",
       "  color: #000000;\n",
       "}\n",
       "#T_a78a8_row6_col5, #T_a78a8_row16_col12 {\n",
       "  background-color: #f0f9b8;\n",
       "  color: #000000;\n",
       "}\n",
       "#T_a78a8_row7_col0 {\n",
       "  background-color: #75c9bd;\n",
       "  color: #000000;\n",
       "}\n",
       "#T_a78a8_row7_col5, #T_a78a8_row8_col9, #T_a78a8_row13_col1, #T_a78a8_row23_col5, #T_a78a8_row25_col15 {\n",
       "  background-color: #eaf7b1;\n",
       "  color: #000000;\n",
       "}\n",
       "#T_a78a8_row7_col8, #T_a78a8_row12_col5, #T_a78a8_row12_col12, #T_a78a8_row24_col20 {\n",
       "  background-color: #e3f4b2;\n",
       "  color: #000000;\n",
       "}\n",
       "#T_a78a8_row7_col18, #T_a78a8_row18_col9, #T_a78a8_row20_col9 {\n",
       "  background-color: #f5fbc2;\n",
       "  color: #000000;\n",
       "}\n",
       "#T_a78a8_row8_col1 {\n",
       "  background-color: #dbf1b2;\n",
       "  color: #000000;\n",
       "}\n",
       "#T_a78a8_row8_col5, #T_a78a8_row26_col1 {\n",
       "  background-color: #59bfc0;\n",
       "  color: #000000;\n",
       "}\n",
       "#T_a78a8_row9_col14 {\n",
       "  background-color: #a7dcb7;\n",
       "  color: #000000;\n",
       "}\n",
       "#T_a78a8_row9_col15, #T_a78a8_row12_col1, #T_a78a8_row12_col15, #T_a78a8_row18_col19, #T_a78a8_row19_col9, #T_a78a8_row21_col7, #T_a78a8_row24_col1 {\n",
       "  background-color: #f6fbc5;\n",
       "  color: #000000;\n",
       "}\n",
       "#T_a78a8_row9_col20, #T_a78a8_row11_col9 {\n",
       "  background-color: #e8f6b1;\n",
       "  color: #000000;\n",
       "}\n",
       "#T_a78a8_row10_col5, #T_a78a8_row11_col5 {\n",
       "  background-color: #9cd8b8;\n",
       "  color: #000000;\n",
       "}\n",
       "#T_a78a8_row10_col15 {\n",
       "  background-color: #bde5b5;\n",
       "  color: #000000;\n",
       "}\n",
       "#T_a78a8_row10_col21 {\n",
       "  background-color: #73c8bd;\n",
       "  color: #000000;\n",
       "}\n",
       "#T_a78a8_row11_col0 {\n",
       "  background-color: #a2dbb8;\n",
       "  color: #000000;\n",
       "}\n",
       "#T_a78a8_row12_col0, #T_a78a8_row15_col14, #T_a78a8_row15_col21, #T_a78a8_row21_col18, #T_a78a8_row22_col9 {\n",
       "  background-color: #e6f5b2;\n",
       "  color: #000000;\n",
       "}\n",
       "#T_a78a8_row12_col4, #T_a78a8_row14_col20 {\n",
       "  background-color: #f3fabd;\n",
       "  color: #000000;\n",
       "}\n",
       "#T_a78a8_row13_col5 {\n",
       "  background-color: #c0e6b5;\n",
       "  color: #000000;\n",
       "}\n",
       "#T_a78a8_row14_col0 {\n",
       "  background-color: #c8e9b4;\n",
       "  color: #000000;\n",
       "}\n",
       "#T_a78a8_row14_col4, #T_a78a8_row15_col0, #T_a78a8_row16_col18 {\n",
       "  background-color: #e2f4b2;\n",
       "  color: #000000;\n",
       "}\n",
       "#T_a78a8_row15_col18 {\n",
       "  background-color: #eff9b5;\n",
       "  color: #000000;\n",
       "}\n",
       "#T_a78a8_row17_col21 {\n",
       "  background-color: #081d58;\n",
       "  color: #f1f1f1;\n",
       "}\n",
       "#T_a78a8_row18_col0 {\n",
       "  background-color: #a0dab8;\n",
       "  color: #000000;\n",
       "}\n",
       "#T_a78a8_row18_col5 {\n",
       "  background-color: #cfecb3;\n",
       "  color: #000000;\n",
       "}\n",
       "#T_a78a8_row19_col0 {\n",
       "  background-color: #78cbbc;\n",
       "  color: #000000;\n",
       "}\n",
       "#T_a78a8_row20_col0 {\n",
       "  background-color: #abdeb7;\n",
       "  color: #000000;\n",
       "}\n",
       "#T_a78a8_row20_col8 {\n",
       "  background-color: #b2e1b6;\n",
       "  color: #000000;\n",
       "}\n",
       "#T_a78a8_row21_col12 {\n",
       "  background-color: #e9f7b1;\n",
       "  color: #000000;\n",
       "}\n",
       "#T_a78a8_row22_col5 {\n",
       "  background-color: #2356a4;\n",
       "  color: #f1f1f1;\n",
       "}\n",
       "#T_a78a8_row23_col1 {\n",
       "  background-color: #c6e9b4;\n",
       "  color: #000000;\n",
       "}\n",
       "#T_a78a8_row23_col9 {\n",
       "  background-color: #dff2b2;\n",
       "  color: #000000;\n",
       "}\n",
       "#T_a78a8_row24_col16 {\n",
       "  background-color: #b9e4b5;\n",
       "  color: #000000;\n",
       "}\n",
       "#T_a78a8_row25_col0 {\n",
       "  background-color: #2352a3;\n",
       "  color: #f1f1f1;\n",
       "}\n",
       "#T_a78a8_row26_col5 {\n",
       "  background-color: #9ed9b8;\n",
       "  color: #000000;\n",
       "}\n",
       "</style>\n",
       "<table id=\"T_a78a8\">\n",
       "  <thead>\n",
       "    <tr>\n",
       "      <th class=\"index_name level0\" >char_y</th>\n",
       "      <th id=\"T_a78a8_level0_col0\" class=\"col_heading level0 col0\" > </th>\n",
       "      <th id=\"T_a78a8_level0_col1\" class=\"col_heading level0 col1\" >a</th>\n",
       "      <th id=\"T_a78a8_level0_col2\" class=\"col_heading level0 col2\" >b</th>\n",
       "      <th id=\"T_a78a8_level0_col3\" class=\"col_heading level0 col3\" >c</th>\n",
       "      <th id=\"T_a78a8_level0_col4\" class=\"col_heading level0 col4\" >d</th>\n",
       "      <th id=\"T_a78a8_level0_col5\" class=\"col_heading level0 col5\" >e</th>\n",
       "      <th id=\"T_a78a8_level0_col6\" class=\"col_heading level0 col6\" >f</th>\n",
       "      <th id=\"T_a78a8_level0_col7\" class=\"col_heading level0 col7\" >g</th>\n",
       "      <th id=\"T_a78a8_level0_col8\" class=\"col_heading level0 col8\" >h</th>\n",
       "      <th id=\"T_a78a8_level0_col9\" class=\"col_heading level0 col9\" >i</th>\n",
       "      <th id=\"T_a78a8_level0_col10\" class=\"col_heading level0 col10\" >j</th>\n",
       "      <th id=\"T_a78a8_level0_col11\" class=\"col_heading level0 col11\" >k</th>\n",
       "      <th id=\"T_a78a8_level0_col12\" class=\"col_heading level0 col12\" >l</th>\n",
       "      <th id=\"T_a78a8_level0_col13\" class=\"col_heading level0 col13\" >m</th>\n",
       "      <th id=\"T_a78a8_level0_col14\" class=\"col_heading level0 col14\" >n</th>\n",
       "      <th id=\"T_a78a8_level0_col15\" class=\"col_heading level0 col15\" >o</th>\n",
       "      <th id=\"T_a78a8_level0_col16\" class=\"col_heading level0 col16\" >p</th>\n",
       "      <th id=\"T_a78a8_level0_col17\" class=\"col_heading level0 col17\" >q</th>\n",
       "      <th id=\"T_a78a8_level0_col18\" class=\"col_heading level0 col18\" >r</th>\n",
       "      <th id=\"T_a78a8_level0_col19\" class=\"col_heading level0 col19\" >s</th>\n",
       "      <th id=\"T_a78a8_level0_col20\" class=\"col_heading level0 col20\" >t</th>\n",
       "      <th id=\"T_a78a8_level0_col21\" class=\"col_heading level0 col21\" >u</th>\n",
       "      <th id=\"T_a78a8_level0_col22\" class=\"col_heading level0 col22\" >v</th>\n",
       "      <th id=\"T_a78a8_level0_col23\" class=\"col_heading level0 col23\" >w</th>\n",
       "      <th id=\"T_a78a8_level0_col24\" class=\"col_heading level0 col24\" >x</th>\n",
       "      <th id=\"T_a78a8_level0_col25\" class=\"col_heading level0 col25\" >y</th>\n",
       "      <th id=\"T_a78a8_level0_col26\" class=\"col_heading level0 col26\" >z</th>\n",
       "    </tr>\n",
       "    <tr>\n",
       "      <th class=\"index_name level0\" >char_x</th>\n",
       "      <th class=\"blank col0\" >&nbsp;</th>\n",
       "      <th class=\"blank col1\" >&nbsp;</th>\n",
       "      <th class=\"blank col2\" >&nbsp;</th>\n",
       "      <th class=\"blank col3\" >&nbsp;</th>\n",
       "      <th class=\"blank col4\" >&nbsp;</th>\n",
       "      <th class=\"blank col5\" >&nbsp;</th>\n",
       "      <th class=\"blank col6\" >&nbsp;</th>\n",
       "      <th class=\"blank col7\" >&nbsp;</th>\n",
       "      <th class=\"blank col8\" >&nbsp;</th>\n",
       "      <th class=\"blank col9\" >&nbsp;</th>\n",
       "      <th class=\"blank col10\" >&nbsp;</th>\n",
       "      <th class=\"blank col11\" >&nbsp;</th>\n",
       "      <th class=\"blank col12\" >&nbsp;</th>\n",
       "      <th class=\"blank col13\" >&nbsp;</th>\n",
       "      <th class=\"blank col14\" >&nbsp;</th>\n",
       "      <th class=\"blank col15\" >&nbsp;</th>\n",
       "      <th class=\"blank col16\" >&nbsp;</th>\n",
       "      <th class=\"blank col17\" >&nbsp;</th>\n",
       "      <th class=\"blank col18\" >&nbsp;</th>\n",
       "      <th class=\"blank col19\" >&nbsp;</th>\n",
       "      <th class=\"blank col20\" >&nbsp;</th>\n",
       "      <th class=\"blank col21\" >&nbsp;</th>\n",
       "      <th class=\"blank col22\" >&nbsp;</th>\n",
       "      <th class=\"blank col23\" >&nbsp;</th>\n",
       "      <th class=\"blank col24\" >&nbsp;</th>\n",
       "      <th class=\"blank col25\" >&nbsp;</th>\n",
       "      <th class=\"blank col26\" >&nbsp;</th>\n",
       "    </tr>\n",
       "  </thead>\n",
       "  <tbody>\n",
       "    <tr>\n",
       "      <th id=\"T_a78a8_level0_row0\" class=\"row_heading level0 row0\" > </th>\n",
       "      <td id=\"T_a78a8_row0_col0\" class=\"data row0 col0\" >1.80</td>\n",
       "      <td id=\"T_a78a8_row0_col1\" class=\"data row0 col1\" >12.23</td>\n",
       "      <td id=\"T_a78a8_row0_col2\" class=\"data row0 col2\" >4.42</td>\n",
       "      <td id=\"T_a78a8_row0_col3\" class=\"data row0 col3\" >3.41</td>\n",
       "      <td id=\"T_a78a8_row0_col4\" class=\"data row0 col4\" >2.58</td>\n",
       "      <td id=\"T_a78a8_row0_col5\" class=\"data row0 col5\" >3.15</td>\n",
       "      <td id=\"T_a78a8_row0_col6\" class=\"data row0 col6\" >3.46</td>\n",
       "      <td id=\"T_a78a8_row0_col7\" class=\"data row0 col7\" >1.36</td>\n",
       "      <td id=\"T_a78a8_row0_col8\" class=\"data row0 col8\" >9.11</td>\n",
       "      <td id=\"T_a78a8_row0_col9\" class=\"data row0 col9\" >5.54</td>\n",
       "      <td id=\"T_a78a8_row0_col10\" class=\"data row0 col10\" >0.22</td>\n",
       "      <td id=\"T_a78a8_row0_col11\" class=\"data row0 col11\" >0.50</td>\n",
       "      <td id=\"T_a78a8_row0_col12\" class=\"data row0 col12\" >2.48</td>\n",
       "      <td id=\"T_a78a8_row0_col13\" class=\"data row0 col13\" >3.99</td>\n",
       "      <td id=\"T_a78a8_row0_col14\" class=\"data row0 col14\" >3.11</td>\n",
       "      <td id=\"T_a78a8_row0_col15\" class=\"data row0 col15\" >6.81</td>\n",
       "      <td id=\"T_a78a8_row0_col16\" class=\"data row0 col16\" >2.40</td>\n",
       "      <td id=\"T_a78a8_row0_col17\" class=\"data row0 col17\" >0.22</td>\n",
       "      <td id=\"T_a78a8_row0_col18\" class=\"data row0 col18\" >2.62</td>\n",
       "      <td id=\"T_a78a8_row0_col19\" class=\"data row0 col19\" >7.48</td>\n",
       "      <td id=\"T_a78a8_row0_col20\" class=\"data row0 col20\" >12.79</td>\n",
       "      <td id=\"T_a78a8_row0_col21\" class=\"data row0 col21\" >1.32</td>\n",
       "      <td id=\"T_a78a8_row0_col22\" class=\"data row0 col22\" >0.78</td>\n",
       "      <td id=\"T_a78a8_row0_col23\" class=\"data row0 col23\" >6.76</td>\n",
       "      <td id=\"T_a78a8_row0_col24\" class=\"data row0 col24\" >0.02</td>\n",
       "      <td id=\"T_a78a8_row0_col25\" class=\"data row0 col25\" >1.45</td>\n",
       "      <td id=\"T_a78a8_row0_col26\" class=\"data row0 col26\" >0.01</td>\n",
       "    </tr>\n",
       "    <tr>\n",
       "      <th id=\"T_a78a8_level0_row1\" class=\"row_heading level0 row1\" >a</th>\n",
       "      <td id=\"T_a78a8_row1_col0\" class=\"data row1 col0\" >5.89</td>\n",
       "      <td id=\"T_a78a8_row1_col1\" class=\"data row1 col1\" >0.00</td>\n",
       "      <td id=\"T_a78a8_row1_col2\" class=\"data row1 col2\" >2.09</td>\n",
       "      <td id=\"T_a78a8_row1_col3\" class=\"data row1 col3\" >2.75</td>\n",
       "      <td id=\"T_a78a8_row1_col4\" class=\"data row1 col4\" >5.84</td>\n",
       "      <td id=\"T_a78a8_row1_col5\" class=\"data row1 col5\" >0.02</td>\n",
       "      <td id=\"T_a78a8_row1_col6\" class=\"data row1 col6\" >1.11</td>\n",
       "      <td id=\"T_a78a8_row1_col7\" class=\"data row1 col7\" >2.16</td>\n",
       "      <td id=\"T_a78a8_row1_col8\" class=\"data row1 col8\" >0.01</td>\n",
       "      <td id=\"T_a78a8_row1_col9\" class=\"data row1 col9\" >4.11</td>\n",
       "      <td id=\"T_a78a8_row1_col10\" class=\"data row1 col10\" >0.00</td>\n",
       "      <td id=\"T_a78a8_row1_col11\" class=\"data row1 col11\" >1.22</td>\n",
       "      <td id=\"T_a78a8_row1_col12\" class=\"data row1 col12\" >7.38</td>\n",
       "      <td id=\"T_a78a8_row1_col13\" class=\"data row1 col13\" >2.28</td>\n",
       "      <td id=\"T_a78a8_row1_col14\" class=\"data row1 col14\" >20.09</td>\n",
       "      <td id=\"T_a78a8_row1_col15\" class=\"data row1 col15\" >0.04</td>\n",
       "      <td id=\"T_a78a8_row1_col16\" class=\"data row1 col16\" >2.17</td>\n",
       "      <td id=\"T_a78a8_row1_col17\" class=\"data row1 col17\" >0.00</td>\n",
       "      <td id=\"T_a78a8_row1_col18\" class=\"data row1 col18\" >10.66</td>\n",
       "      <td id=\"T_a78a8_row1_col19\" class=\"data row1 col19\" >11.61</td>\n",
       "      <td id=\"T_a78a8_row1_col20\" class=\"data row1 col20\" >12.64</td>\n",
       "      <td id=\"T_a78a8_row1_col21\" class=\"data row1 col21\" >0.82</td>\n",
       "      <td id=\"T_a78a8_row1_col22\" class=\"data row1 col22\" >3.30</td>\n",
       "      <td id=\"T_a78a8_row1_col23\" class=\"data row1 col23\" >0.84</td>\n",
       "      <td id=\"T_a78a8_row1_col24\" class=\"data row1 col24\" >0.01</td>\n",
       "      <td id=\"T_a78a8_row1_col25\" class=\"data row1 col25\" >2.90</td>\n",
       "      <td id=\"T_a78a8_row1_col26\" class=\"data row1 col26\" >0.05</td>\n",
       "    </tr>\n",
       "    <tr>\n",
       "      <th id=\"T_a78a8_level0_row2\" class=\"row_heading level0 row2\" >b</th>\n",
       "      <td id=\"T_a78a8_row2_col0\" class=\"data row2 col0\" >0.27</td>\n",
       "      <td id=\"T_a78a8_row2_col1\" class=\"data row2 col1\" >3.62</td>\n",
       "      <td id=\"T_a78a8_row2_col2\" class=\"data row2 col2\" >0.39</td>\n",
       "      <td id=\"T_a78a8_row2_col3\" class=\"data row2 col3\" >0.01</td>\n",
       "      <td id=\"T_a78a8_row2_col4\" class=\"data row2 col4\" >0.09</td>\n",
       "      <td id=\"T_a78a8_row2_col5\" class=\"data row2 col5\" >44.96</td>\n",
       "      <td id=\"T_a78a8_row2_col6\" class=\"data row2 col6\" >0.01</td>\n",
       "      <td id=\"T_a78a8_row2_col7\" class=\"data row2 col7\" >0.01</td>\n",
       "      <td id=\"T_a78a8_row2_col8\" class=\"data row2 col8\" >0.06</td>\n",
       "      <td id=\"T_a78a8_row2_col9\" class=\"data row2 col9\" >1.59</td>\n",
       "      <td id=\"T_a78a8_row2_col10\" class=\"data row2 col10\" >1.75</td>\n",
       "      <td id=\"T_a78a8_row2_col11\" class=\"data row2 col11\" >0.01</td>\n",
       "      <td id=\"T_a78a8_row2_col12\" class=\"data row2 col12\" >11.87</td>\n",
       "      <td id=\"T_a78a8_row2_col13\" class=\"data row2 col13\" >0.27</td>\n",
       "      <td id=\"T_a78a8_row2_col14\" class=\"data row2 col14\" >0.01</td>\n",
       "      <td id=\"T_a78a8_row2_col15\" class=\"data row2 col15\" >6.77</td>\n",
       "      <td id=\"T_a78a8_row2_col16\" class=\"data row2 col16\" >0.01</td>\n",
       "      <td id=\"T_a78a8_row2_col17\" class=\"data row2 col17\" >0.01</td>\n",
       "      <td id=\"T_a78a8_row2_col18\" class=\"data row2 col18\" >3.92</td>\n",
       "      <td id=\"T_a78a8_row2_col19\" class=\"data row2 col19\" >1.69</td>\n",
       "      <td id=\"T_a78a8_row2_col20\" class=\"data row2 col20\" >1.13</td>\n",
       "      <td id=\"T_a78a8_row2_col21\" class=\"data row2 col21\" >10.63</td>\n",
       "      <td id=\"T_a78a8_row2_col22\" class=\"data row2 col22\" >0.03</td>\n",
       "      <td id=\"T_a78a8_row2_col23\" class=\"data row2 col23\" >0.01</td>\n",
       "      <td id=\"T_a78a8_row2_col24\" class=\"data row2 col24\" >0.01</td>\n",
       "      <td id=\"T_a78a8_row2_col25\" class=\"data row2 col25\" >10.88</td>\n",
       "      <td id=\"T_a78a8_row2_col26\" class=\"data row2 col26\" >0.01</td>\n",
       "    </tr>\n",
       "    <tr>\n",
       "      <th id=\"T_a78a8_level0_row3\" class=\"row_heading level0 row3\" >c</th>\n",
       "      <td id=\"T_a78a8_row3_col0\" class=\"data row3 col0\" >0.50</td>\n",
       "      <td id=\"T_a78a8_row3_col1\" class=\"data row3 col1\" >9.07</td>\n",
       "      <td id=\"T_a78a8_row3_col2\" class=\"data row3 col2\" >0.00</td>\n",
       "      <td id=\"T_a78a8_row3_col3\" class=\"data row3 col3\" >2.14</td>\n",
       "      <td id=\"T_a78a8_row3_col4\" class=\"data row3 col4\" >0.01</td>\n",
       "      <td id=\"T_a78a8_row3_col5\" class=\"data row3 col5\" >18.71</td>\n",
       "      <td id=\"T_a78a8_row3_col6\" class=\"data row3 col6\" >0.00</td>\n",
       "      <td id=\"T_a78a8_row3_col7\" class=\"data row3 col7\" >0.00</td>\n",
       "      <td id=\"T_a78a8_row3_col8\" class=\"data row3 col8\" >17.56</td>\n",
       "      <td id=\"T_a78a8_row3_col9\" class=\"data row3 col9\" >4.24</td>\n",
       "      <td id=\"T_a78a8_row3_col10\" class=\"data row3 col10\" >0.00</td>\n",
       "      <td id=\"T_a78a8_row3_col11\" class=\"data row3 col11\" >2.90</td>\n",
       "      <td id=\"T_a78a8_row3_col12\" class=\"data row3 col12\" >2.39</td>\n",
       "      <td id=\"T_a78a8_row3_col13\" class=\"data row3 col13\" >0.00</td>\n",
       "      <td id=\"T_a78a8_row3_col14\" class=\"data row3 col14\" >0.00</td>\n",
       "      <td id=\"T_a78a8_row3_col15\" class=\"data row3 col15\" >23.56</td>\n",
       "      <td id=\"T_a78a8_row3_col16\" class=\"data row3 col16\" >0.00</td>\n",
       "      <td id=\"T_a78a8_row3_col17\" class=\"data row3 col17\" >0.99</td>\n",
       "      <td id=\"T_a78a8_row3_col18\" class=\"data row3 col18\" >2.92</td>\n",
       "      <td id=\"T_a78a8_row3_col19\" class=\"data row3 col19\" >0.08</td>\n",
       "      <td id=\"T_a78a8_row3_col20\" class=\"data row3 col20\" >9.56</td>\n",
       "      <td id=\"T_a78a8_row3_col21\" class=\"data row3 col21\" >3.54</td>\n",
       "      <td id=\"T_a78a8_row3_col22\" class=\"data row3 col22\" >0.00</td>\n",
       "      <td id=\"T_a78a8_row3_col23\" class=\"data row3 col23\" >0.00</td>\n",
       "      <td id=\"T_a78a8_row3_col24\" class=\"data row3 col24\" >0.00</td>\n",
       "      <td id=\"T_a78a8_row3_col25\" class=\"data row3 col25\" >1.77</td>\n",
       "      <td id=\"T_a78a8_row3_col26\" class=\"data row3 col26\" >0.00</td>\n",
       "    </tr>\n",
       "    <tr>\n",
       "      <th id=\"T_a78a8_level0_row4\" class=\"row_heading level0 row4\" >d</th>\n",
       "      <td id=\"T_a78a8_row4_col0\" class=\"data row4 col0\" >65.49</td>\n",
       "      <td id=\"T_a78a8_row4_col1\" class=\"data row4 col1\" >2.16</td>\n",
       "      <td id=\"T_a78a8_row4_col2\" class=\"data row4 col2\" >0.01</td>\n",
       "      <td id=\"T_a78a8_row4_col3\" class=\"data row4 col3\" >0.01</td>\n",
       "      <td id=\"T_a78a8_row4_col4\" class=\"data row4 col4\" >0.96</td>\n",
       "      <td id=\"T_a78a8_row4_col5\" class=\"data row4 col5\" >10.62</td>\n",
       "      <td id=\"T_a78a8_row4_col6\" class=\"data row4 col6\" >0.10</td>\n",
       "      <td id=\"T_a78a8_row4_col7\" class=\"data row4 col7\" >0.62</td>\n",
       "      <td id=\"T_a78a8_row4_col8\" class=\"data row4 col8\" >0.01</td>\n",
       "      <td id=\"T_a78a8_row4_col9\" class=\"data row4 col9\" >6.71</td>\n",
       "      <td id=\"T_a78a8_row4_col10\" class=\"data row4 col10\" >0.02</td>\n",
       "      <td id=\"T_a78a8_row4_col11\" class=\"data row4 col11\" >0.01</td>\n",
       "      <td id=\"T_a78a8_row4_col12\" class=\"data row4 col12\" >1.08</td>\n",
       "      <td id=\"T_a78a8_row4_col13\" class=\"data row4 col13\" >0.53</td>\n",
       "      <td id=\"T_a78a8_row4_col14\" class=\"data row4 col14\" >0.33</td>\n",
       "      <td id=\"T_a78a8_row4_col15\" class=\"data row4 col15\" >4.12</td>\n",
       "      <td id=\"T_a78a8_row4_col16\" class=\"data row4 col16\" >0.00</td>\n",
       "      <td id=\"T_a78a8_row4_col17\" class=\"data row4 col17\" >0.00</td>\n",
       "      <td id=\"T_a78a8_row4_col18\" class=\"data row4 col18\" >1.19</td>\n",
       "      <td id=\"T_a78a8_row4_col19\" class=\"data row4 col19\" >1.87</td>\n",
       "      <td id=\"T_a78a8_row4_col20\" class=\"data row4 col20\" >0.01</td>\n",
       "      <td id=\"T_a78a8_row4_col21\" class=\"data row4 col21\" >1.12</td>\n",
       "      <td id=\"T_a78a8_row4_col22\" class=\"data row4 col22\" >0.35</td>\n",
       "      <td id=\"T_a78a8_row4_col23\" class=\"data row4 col23\" >0.79</td>\n",
       "      <td id=\"T_a78a8_row4_col24\" class=\"data row4 col24\" >0.00</td>\n",
       "      <td id=\"T_a78a8_row4_col25\" class=\"data row4 col25\" >1.91</td>\n",
       "      <td id=\"T_a78a8_row4_col26\" class=\"data row4 col26\" >0.00</td>\n",
       "    </tr>\n",
       "    <tr>\n",
       "      <th id=\"T_a78a8_level0_row5\" class=\"row_heading level0 row5\" >e</th>\n",
       "      <td id=\"T_a78a8_row5_col0\" class=\"data row5 col0\" >33.28</td>\n",
       "      <td id=\"T_a78a8_row5_col1\" class=\"data row5 col1\" >4.62</td>\n",
       "      <td id=\"T_a78a8_row5_col2\" class=\"data row5 col2\" >0.04</td>\n",
       "      <td id=\"T_a78a8_row5_col3\" class=\"data row5 col3\" >2.21</td>\n",
       "      <td id=\"T_a78a8_row5_col4\" class=\"data row5 col4\" >7.70</td>\n",
       "      <td id=\"T_a78a8_row5_col5\" class=\"data row5 col5\" >3.21</td>\n",
       "      <td id=\"T_a78a8_row5_col6\" class=\"data row5 col6\" >0.91</td>\n",
       "      <td id=\"T_a78a8_row5_col7\" class=\"data row5 col7\" >0.46</td>\n",
       "      <td id=\"T_a78a8_row5_col8\" class=\"data row5 col8\" >0.19</td>\n",
       "      <td id=\"T_a78a8_row5_col9\" class=\"data row5 col9\" >1.58</td>\n",
       "      <td id=\"T_a78a8_row5_col10\" class=\"data row5 col10\" >0.04</td>\n",
       "      <td id=\"T_a78a8_row5_col11\" class=\"data row5 col11\" >0.12</td>\n",
       "      <td id=\"T_a78a8_row5_col12\" class=\"data row5 col12\" >4.12</td>\n",
       "      <td id=\"T_a78a8_row5_col13\" class=\"data row5 col13\" >2.06</td>\n",
       "      <td id=\"T_a78a8_row5_col14\" class=\"data row5 col14\" >8.96</td>\n",
       "      <td id=\"T_a78a8_row5_col15\" class=\"data row5 col15\" >0.12</td>\n",
       "      <td id=\"T_a78a8_row5_col16\" class=\"data row5 col16\" >0.77</td>\n",
       "      <td id=\"T_a78a8_row5_col17\" class=\"data row5 col17\" >0.25</td>\n",
       "      <td id=\"T_a78a8_row5_col18\" class=\"data row5 col18\" >16.40</td>\n",
       "      <td id=\"T_a78a8_row5_col19\" class=\"data row5 col19\" >5.31</td>\n",
       "      <td id=\"T_a78a8_row5_col20\" class=\"data row5 col20\" >2.66</td>\n",
       "      <td id=\"T_a78a8_row5_col21\" class=\"data row5 col21\" >0.02</td>\n",
       "      <td id=\"T_a78a8_row5_col22\" class=\"data row5 col22\" >2.21</td>\n",
       "      <td id=\"T_a78a8_row5_col23\" class=\"data row5 col23\" >0.57</td>\n",
       "      <td id=\"T_a78a8_row5_col24\" class=\"data row5 col24\" >0.99</td>\n",
       "      <td id=\"T_a78a8_row5_col25\" class=\"data row5 col25\" >1.20</td>\n",
       "      <td id=\"T_a78a8_row5_col26\" class=\"data row5 col26\" >0.00</td>\n",
       "    </tr>\n",
       "    <tr>\n",
       "      <th id=\"T_a78a8_level0_row6\" class=\"row_heading level0 row6\" >f</th>\n",
       "      <td id=\"T_a78a8_row6_col0\" class=\"data row6 col0\" >39.41</td>\n",
       "      <td id=\"T_a78a8_row6_col1\" class=\"data row6 col1\" >5.80</td>\n",
       "      <td id=\"T_a78a8_row6_col2\" class=\"data row6 col2\" >0.00</td>\n",
       "      <td id=\"T_a78a8_row6_col3\" class=\"data row6 col3\" >0.00</td>\n",
       "      <td id=\"T_a78a8_row6_col4\" class=\"data row6 col4\" >0.00</td>\n",
       "      <td id=\"T_a78a8_row6_col5\" class=\"data row6 col5\" >10.22</td>\n",
       "      <td id=\"T_a78a8_row6_col6\" class=\"data row6 col6\" >4.98</td>\n",
       "      <td id=\"T_a78a8_row6_col7\" class=\"data row6 col7\" >0.00</td>\n",
       "      <td id=\"T_a78a8_row6_col8\" class=\"data row6 col8\" >0.00</td>\n",
       "      <td id=\"T_a78a8_row6_col9\" class=\"data row6 col9\" >6.02</td>\n",
       "      <td id=\"T_a78a8_row6_col10\" class=\"data row6 col10\" >0.00</td>\n",
       "      <td id=\"T_a78a8_row6_col11\" class=\"data row6 col11\" >0.00</td>\n",
       "      <td id=\"T_a78a8_row6_col12\" class=\"data row6 col12\" >1.15</td>\n",
       "      <td id=\"T_a78a8_row6_col13\" class=\"data row6 col13\" >0.00</td>\n",
       "      <td id=\"T_a78a8_row6_col14\" class=\"data row6 col14\" >0.00</td>\n",
       "      <td id=\"T_a78a8_row6_col15\" class=\"data row6 col15\" >18.72</td>\n",
       "      <td id=\"T_a78a8_row6_col16\" class=\"data row6 col16\" >0.00</td>\n",
       "      <td id=\"T_a78a8_row6_col17\" class=\"data row6 col17\" >0.00</td>\n",
       "      <td id=\"T_a78a8_row6_col18\" class=\"data row6 col18\" >6.48</td>\n",
       "      <td id=\"T_a78a8_row6_col19\" class=\"data row6 col19\" >0.06</td>\n",
       "      <td id=\"T_a78a8_row6_col20\" class=\"data row6 col20\" >3.83</td>\n",
       "      <td id=\"T_a78a8_row6_col21\" class=\"data row6 col21\" >2.93</td>\n",
       "      <td id=\"T_a78a8_row6_col22\" class=\"data row6 col22\" >0.00</td>\n",
       "      <td id=\"T_a78a8_row6_col23\" class=\"data row6 col23\" >0.00</td>\n",
       "      <td id=\"T_a78a8_row6_col24\" class=\"data row6 col24\" >0.00</td>\n",
       "      <td id=\"T_a78a8_row6_col25\" class=\"data row6 col25\" >0.33</td>\n",
       "      <td id=\"T_a78a8_row6_col26\" class=\"data row6 col26\" >0.00</td>\n",
       "    </tr>\n",
       "    <tr>\n",
       "      <th id=\"T_a78a8_level0_row7\" class=\"row_heading level0 row7\" >g</th>\n",
       "      <td id=\"T_a78a8_row7_col0\" class=\"data row7 col0\" >38.34</td>\n",
       "      <td id=\"T_a78a8_row7_col1\" class=\"data row7 col1\" >6.65</td>\n",
       "      <td id=\"T_a78a8_row7_col2\" class=\"data row7 col2\" >0.01</td>\n",
       "      <td id=\"T_a78a8_row7_col3\" class=\"data row7 col3\" >0.01</td>\n",
       "      <td id=\"T_a78a8_row7_col4\" class=\"data row7 col4\" >0.04</td>\n",
       "      <td id=\"T_a78a8_row7_col5\" class=\"data row7 col5\" >12.96</td>\n",
       "      <td id=\"T_a78a8_row7_col6\" class=\"data row7 col6\" >0.01</td>\n",
       "      <td id=\"T_a78a8_row7_col7\" class=\"data row7 col7\" >0.44</td>\n",
       "      <td id=\"T_a78a8_row7_col8\" class=\"data row7 col8\" >15.21</td>\n",
       "      <td id=\"T_a78a8_row7_col9\" class=\"data row7 col9\" >5.03</td>\n",
       "      <td id=\"T_a78a8_row7_col10\" class=\"data row7 col10\" >0.01</td>\n",
       "      <td id=\"T_a78a8_row7_col11\" class=\"data row7 col11\" >0.01</td>\n",
       "      <td id=\"T_a78a8_row7_col12\" class=\"data row7 col12\" >1.92</td>\n",
       "      <td id=\"T_a78a8_row7_col13\" class=\"data row7 col13\" >0.27</td>\n",
       "      <td id=\"T_a78a8_row7_col14\" class=\"data row7 col14\" >0.97</td>\n",
       "      <td id=\"T_a78a8_row7_col15\" class=\"data row7 col15\" >5.63</td>\n",
       "      <td id=\"T_a78a8_row7_col16\" class=\"data row7 col16\" >0.01</td>\n",
       "      <td id=\"T_a78a8_row7_col17\" class=\"data row7 col17\" >0.01</td>\n",
       "      <td id=\"T_a78a8_row7_col18\" class=\"data row7 col18\" >7.08</td>\n",
       "      <td id=\"T_a78a8_row7_col19\" class=\"data row7 col19\" >3.38</td>\n",
       "      <td id=\"T_a78a8_row7_col20\" class=\"data row7 col20\" >0.29</td>\n",
       "      <td id=\"T_a78a8_row7_col21\" class=\"data row7 col21\" >1.56</td>\n",
       "      <td id=\"T_a78a8_row7_col22\" class=\"data row7 col22\" >0.01</td>\n",
       "      <td id=\"T_a78a8_row7_col23\" class=\"data row7 col23\" >0.01</td>\n",
       "      <td id=\"T_a78a8_row7_col24\" class=\"data row7 col24\" >0.01</td>\n",
       "      <td id=\"T_a78a8_row7_col25\" class=\"data row7 col25\" >0.17</td>\n",
       "      <td id=\"T_a78a8_row7_col26\" class=\"data row7 col26\" >0.01</td>\n",
       "    </tr>\n",
       "    <tr>\n",
       "      <th id=\"T_a78a8_level0_row8\" class=\"row_heading level0 row8\" >h</th>\n",
       "      <td id=\"T_a78a8_row8_col0\" class=\"data row8 col0\" >11.53</td>\n",
       "      <td id=\"T_a78a8_row8_col1\" class=\"data row8 col1\" >17.87</td>\n",
       "      <td id=\"T_a78a8_row8_col2\" class=\"data row8 col2\" >0.48</td>\n",
       "      <td id=\"T_a78a8_row8_col3\" class=\"data row8 col3\" >0.00</td>\n",
       "      <td id=\"T_a78a8_row8_col4\" class=\"data row8 col4\" >0.02</td>\n",
       "      <td id=\"T_a78a8_row8_col5\" class=\"data row8 col5\" >43.98</td>\n",
       "      <td id=\"T_a78a8_row8_col6\" class=\"data row8 col6\" >0.03</td>\n",
       "      <td id=\"T_a78a8_row8_col7\" class=\"data row8 col7\" >0.00</td>\n",
       "      <td id=\"T_a78a8_row8_col8\" class=\"data row8 col8\" >0.01</td>\n",
       "      <td id=\"T_a78a8_row8_col9\" class=\"data row8 col9\" >12.91</td>\n",
       "      <td id=\"T_a78a8_row8_col10\" class=\"data row8 col10\" >0.00</td>\n",
       "      <td id=\"T_a78a8_row8_col11\" class=\"data row8 col11\" >0.00</td>\n",
       "      <td id=\"T_a78a8_row8_col12\" class=\"data row8 col12\" >0.11</td>\n",
       "      <td id=\"T_a78a8_row8_col13\" class=\"data row8 col13\" >0.24</td>\n",
       "      <td id=\"T_a78a8_row8_col14\" class=\"data row8 col14\" >0.33</td>\n",
       "      <td id=\"T_a78a8_row8_col15\" class=\"data row8 col15\" >7.68</td>\n",
       "      <td id=\"T_a78a8_row8_col16\" class=\"data row8 col16\" >0.01</td>\n",
       "      <td id=\"T_a78a8_row8_col17\" class=\"data row8 col17\" >0.00</td>\n",
       "      <td id=\"T_a78a8_row8_col18\" class=\"data row8 col18\" >0.50</td>\n",
       "      <td id=\"T_a78a8_row8_col19\" class=\"data row8 col19\" >0.14</td>\n",
       "      <td id=\"T_a78a8_row8_col20\" class=\"data row8 col20\" >2.73</td>\n",
       "      <td id=\"T_a78a8_row8_col21\" class=\"data row8 col21\" >0.62</td>\n",
       "      <td id=\"T_a78a8_row8_col22\" class=\"data row8 col22\" >0.00</td>\n",
       "      <td id=\"T_a78a8_row8_col23\" class=\"data row8 col23\" >0.54</td>\n",
       "      <td id=\"T_a78a8_row8_col24\" class=\"data row8 col24\" >0.00</td>\n",
       "      <td id=\"T_a78a8_row8_col25\" class=\"data row8 col25\" >0.25</td>\n",
       "      <td id=\"T_a78a8_row8_col26\" class=\"data row8 col26\" >0.00</td>\n",
       "    </tr>\n",
       "    <tr>\n",
       "      <th id=\"T_a78a8_level0_row9\" class=\"row_heading level0 row9\" >i</th>\n",
       "      <td id=\"T_a78a8_row9_col0\" class=\"data row9 col0\" >0.01</td>\n",
       "      <td id=\"T_a78a8_row9_col1\" class=\"data row9 col1\" >2.18</td>\n",
       "      <td id=\"T_a78a8_row9_col2\" class=\"data row9 col2\" >0.78</td>\n",
       "      <td id=\"T_a78a8_row9_col3\" class=\"data row9 col3\" >4.33</td>\n",
       "      <td id=\"T_a78a8_row9_col4\" class=\"data row9 col4\" >3.76</td>\n",
       "      <td id=\"T_a78a8_row9_col5\" class=\"data row9 col5\" >3.85</td>\n",
       "      <td id=\"T_a78a8_row9_col6\" class=\"data row9 col6\" >1.88</td>\n",
       "      <td id=\"T_a78a8_row9_col7\" class=\"data row9 col7\" >2.47</td>\n",
       "      <td id=\"T_a78a8_row9_col8\" class=\"data row9 col8\" >0.01</td>\n",
       "      <td id=\"T_a78a8_row9_col9\" class=\"data row9 col9\" >0.00</td>\n",
       "      <td id=\"T_a78a8_row9_col10\" class=\"data row9 col10\" >0.00</td>\n",
       "      <td id=\"T_a78a8_row9_col11\" class=\"data row9 col11\" >0.63</td>\n",
       "      <td id=\"T_a78a8_row9_col12\" class=\"data row9 col12\" >4.90</td>\n",
       "      <td id=\"T_a78a8_row9_col13\" class=\"data row9 col13\" >4.72</td>\n",
       "      <td id=\"T_a78a8_row9_col14\" class=\"data row9 col14\" >29.89</td>\n",
       "      <td id=\"T_a78a8_row9_col15\" class=\"data row9 col15\" >6.42</td>\n",
       "      <td id=\"T_a78a8_row9_col16\" class=\"data row9 col16\" >0.36</td>\n",
       "      <td id=\"T_a78a8_row9_col17\" class=\"data row9 col17\" >0.01</td>\n",
       "      <td id=\"T_a78a8_row9_col18\" class=\"data row9 col18\" >4.72</td>\n",
       "      <td id=\"T_a78a8_row9_col19\" class=\"data row9 col19\" >12.28</td>\n",
       "      <td id=\"T_a78a8_row9_col20\" class=\"data row9 col20\" >13.92</td>\n",
       "      <td id=\"T_a78a8_row9_col21\" class=\"data row9 col21\" >0.04</td>\n",
       "      <td id=\"T_a78a8_row9_col22\" class=\"data row9 col22\" >2.40</td>\n",
       "      <td id=\"T_a78a8_row9_col23\" class=\"data row9 col23\" >0.00</td>\n",
       "      <td id=\"T_a78a8_row9_col24\" class=\"data row9 col24\" >0.18</td>\n",
       "      <td id=\"T_a78a8_row9_col25\" class=\"data row9 col25\" >0.00</td>\n",
       "      <td id=\"T_a78a8_row9_col26\" class=\"data row9 col26\" >0.25</td>\n",
       "    </tr>\n",
       "    <tr>\n",
       "      <th id=\"T_a78a8_level0_row10\" class=\"row_heading level0 row10\" >j</th>\n",
       "      <td id=\"T_a78a8_row10_col0\" class=\"data row10 col0\" >0.11</td>\n",
       "      <td id=\"T_a78a8_row10_col1\" class=\"data row10 col1\" >0.79</td>\n",
       "      <td id=\"T_a78a8_row10_col2\" class=\"data row10 col2\" >0.11</td>\n",
       "      <td id=\"T_a78a8_row10_col3\" class=\"data row10 col3\" >0.11</td>\n",
       "      <td id=\"T_a78a8_row10_col4\" class=\"data row10 col4\" >0.11</td>\n",
       "      <td id=\"T_a78a8_row10_col5\" class=\"data row10 col5\" >31.72</td>\n",
       "      <td id=\"T_a78a8_row10_col6\" class=\"data row10 col6\" >0.11</td>\n",
       "      <td id=\"T_a78a8_row10_col7\" class=\"data row10 col7\" >0.11</td>\n",
       "      <td id=\"T_a78a8_row10_col8\" class=\"data row10 col8\" >0.11</td>\n",
       "      <td id=\"T_a78a8_row10_col9\" class=\"data row10 col9\" >0.22</td>\n",
       "      <td id=\"T_a78a8_row10_col10\" class=\"data row10 col10\" >0.11</td>\n",
       "      <td id=\"T_a78a8_row10_col11\" class=\"data row10 col11\" >0.11</td>\n",
       "      <td id=\"T_a78a8_row10_col12\" class=\"data row10 col12\" >0.11</td>\n",
       "      <td id=\"T_a78a8_row10_col13\" class=\"data row10 col13\" >0.11</td>\n",
       "      <td id=\"T_a78a8_row10_col14\" class=\"data row10 col14\" >0.11</td>\n",
       "      <td id=\"T_a78a8_row10_col15\" class=\"data row10 col15\" >25.87</td>\n",
       "      <td id=\"T_a78a8_row10_col16\" class=\"data row10 col16\" >0.11</td>\n",
       "      <td id=\"T_a78a8_row10_col17\" class=\"data row10 col17\" >0.11</td>\n",
       "      <td id=\"T_a78a8_row10_col18\" class=\"data row10 col18\" >0.11</td>\n",
       "      <td id=\"T_a78a8_row10_col19\" class=\"data row10 col19\" >0.11</td>\n",
       "      <td id=\"T_a78a8_row10_col20\" class=\"data row10 col20\" >0.11</td>\n",
       "      <td id=\"T_a78a8_row10_col21\" class=\"data row10 col21\" >38.92</td>\n",
       "      <td id=\"T_a78a8_row10_col22\" class=\"data row10 col22\" >0.11</td>\n",
       "      <td id=\"T_a78a8_row10_col23\" class=\"data row10 col23\" >0.11</td>\n",
       "      <td id=\"T_a78a8_row10_col24\" class=\"data row10 col24\" >0.11</td>\n",
       "      <td id=\"T_a78a8_row10_col25\" class=\"data row10 col25\" >0.11</td>\n",
       "      <td id=\"T_a78a8_row10_col26\" class=\"data row10 col26\" >0.11</td>\n",
       "    </tr>\n",
       "    <tr>\n",
       "      <th id=\"T_a78a8_level0_row11\" class=\"row_heading level0 row11\" >k</th>\n",
       "      <td id=\"T_a78a8_row11_col0\" class=\"data row11 col0\" >30.54</td>\n",
       "      <td id=\"T_a78a8_row11_col1\" class=\"data row11 col1\" >0.37</td>\n",
       "      <td id=\"T_a78a8_row11_col2\" class=\"data row11 col2\" >0.02</td>\n",
       "      <td id=\"T_a78a8_row11_col3\" class=\"data row11 col3\" >0.02</td>\n",
       "      <td id=\"T_a78a8_row11_col4\" class=\"data row11 col4\" >0.02</td>\n",
       "      <td id=\"T_a78a8_row11_col5\" class=\"data row11 col5\" >31.73</td>\n",
       "      <td id=\"T_a78a8_row11_col6\" class=\"data row11 col6\" >1.08</td>\n",
       "      <td id=\"T_a78a8_row11_col7\" class=\"data row11 col7\" >0.04</td>\n",
       "      <td id=\"T_a78a8_row11_col8\" class=\"data row11 col8\" >0.08</td>\n",
       "      <td id=\"T_a78a8_row11_col9\" class=\"data row11 col9\" >14.03</td>\n",
       "      <td id=\"T_a78a8_row11_col10\" class=\"data row11 col10\" >0.02</td>\n",
       "      <td id=\"T_a78a8_row11_col11\" class=\"data row11 col11\" >0.02</td>\n",
       "      <td id=\"T_a78a8_row11_col12\" class=\"data row11 col12\" >0.68</td>\n",
       "      <td id=\"T_a78a8_row11_col13\" class=\"data row11 col13\" >0.08</td>\n",
       "      <td id=\"T_a78a8_row11_col14\" class=\"data row11 col14\" >16.49</td>\n",
       "      <td id=\"T_a78a8_row11_col15\" class=\"data row11 col15\" >0.18</td>\n",
       "      <td id=\"T_a78a8_row11_col16\" class=\"data row11 col16\" >0.02</td>\n",
       "      <td id=\"T_a78a8_row11_col17\" class=\"data row11 col17\" >0.02</td>\n",
       "      <td id=\"T_a78a8_row11_col18\" class=\"data row11 col18\" >0.02</td>\n",
       "      <td id=\"T_a78a8_row11_col19\" class=\"data row11 col19\" >3.52</td>\n",
       "      <td id=\"T_a78a8_row11_col20\" class=\"data row11 col20\" >0.02</td>\n",
       "      <td id=\"T_a78a8_row11_col21\" class=\"data row11 col21\" >0.02</td>\n",
       "      <td id=\"T_a78a8_row11_col22\" class=\"data row11 col22\" >0.04</td>\n",
       "      <td id=\"T_a78a8_row11_col23\" class=\"data row11 col23\" >0.31</td>\n",
       "      <td id=\"T_a78a8_row11_col24\" class=\"data row11 col24\" >0.02</td>\n",
       "      <td id=\"T_a78a8_row11_col25\" class=\"data row11 col25\" >0.57</td>\n",
       "      <td id=\"T_a78a8_row11_col26\" class=\"data row11 col26\" >0.02</td>\n",
       "    </tr>\n",
       "    <tr>\n",
       "      <th id=\"T_a78a8_level0_row12\" class=\"row_heading level0 row12\" >l</th>\n",
       "      <td id=\"T_a78a8_row12_col0\" class=\"data row12 col0\" >14.57</td>\n",
       "      <td id=\"T_a78a8_row12_col1\" class=\"data row12 col1\" >6.41</td>\n",
       "      <td id=\"T_a78a8_row12_col2\" class=\"data row12 col2\" >0.04</td>\n",
       "      <td id=\"T_a78a8_row12_col3\" class=\"data row12 col3\" >0.16</td>\n",
       "      <td id=\"T_a78a8_row12_col4\" class=\"data row12 col4\" >8.69</td>\n",
       "      <td id=\"T_a78a8_row12_col5\" class=\"data row12 col5\" >15.22</td>\n",
       "      <td id=\"T_a78a8_row12_col6\" class=\"data row12 col6\" >3.00</td>\n",
       "      <td id=\"T_a78a8_row12_col7\" class=\"data row12 col7\" >0.11</td>\n",
       "      <td id=\"T_a78a8_row12_col8\" class=\"data row12 col8\" >0.00</td>\n",
       "      <td id=\"T_a78a8_row12_col9\" class=\"data row12 col9\" >12.27</td>\n",
       "      <td id=\"T_a78a8_row12_col10\" class=\"data row12 col10\" >0.00</td>\n",
       "      <td id=\"T_a78a8_row12_col11\" class=\"data row12 col11\" >1.03</td>\n",
       "      <td id=\"T_a78a8_row12_col12\" class=\"data row12 col12\" >15.50</td>\n",
       "      <td id=\"T_a78a8_row12_col13\" class=\"data row12 col13\" >0.91</td>\n",
       "      <td id=\"T_a78a8_row12_col14\" class=\"data row12 col14\" >0.20</td>\n",
       "      <td id=\"T_a78a8_row12_col15\" class=\"data row12 col15\" >6.14</td>\n",
       "      <td id=\"T_a78a8_row12_col16\" class=\"data row12 col16\" >0.15</td>\n",
       "      <td id=\"T_a78a8_row12_col17\" class=\"data row12 col17\" >0.00</td>\n",
       "      <td id=\"T_a78a8_row12_col18\" class=\"data row12 col18\" >0.29</td>\n",
       "      <td id=\"T_a78a8_row12_col19\" class=\"data row12 col19\" >0.72</td>\n",
       "      <td id=\"T_a78a8_row12_col20\" class=\"data row12 col20\" >1.93</td>\n",
       "      <td id=\"T_a78a8_row12_col21\" class=\"data row12 col21\" >1.06</td>\n",
       "      <td id=\"T_a78a8_row12_col22\" class=\"data row12 col22\" >0.51</td>\n",
       "      <td id=\"T_a78a8_row12_col23\" class=\"data row12 col23\" >0.66</td>\n",
       "      <td id=\"T_a78a8_row12_col24\" class=\"data row12 col24\" >0.00</td>\n",
       "      <td id=\"T_a78a8_row12_col25\" class=\"data row12 col25\" >10.42</td>\n",
       "      <td id=\"T_a78a8_row12_col26\" class=\"data row12 col26\" >0.00</td>\n",
       "    </tr>\n",
       "    <tr>\n",
       "      <th id=\"T_a78a8_level0_row13\" class=\"row_heading level0 row13\" >m</th>\n",
       "      <td id=\"T_a78a8_row13_col0\" class=\"data row13 col0\" >17.69</td>\n",
       "      <td id=\"T_a78a8_row13_col1\" class=\"data row13 col1\" >13.26</td>\n",
       "      <td id=\"T_a78a8_row13_col2\" class=\"data row13 col2\" >1.15</td>\n",
       "      <td id=\"T_a78a8_row13_col3\" class=\"data row13 col3\" >0.00</td>\n",
       "      <td id=\"T_a78a8_row13_col4\" class=\"data row13 col4\" >0.14</td>\n",
       "      <td id=\"T_a78a8_row13_col5\" class=\"data row13 col5\" >25.43</td>\n",
       "      <td id=\"T_a78a8_row13_col6\" class=\"data row13 col6\" >0.75</td>\n",
       "      <td id=\"T_a78a8_row13_col7\" class=\"data row13 col7\" >0.00</td>\n",
       "      <td id=\"T_a78a8_row13_col8\" class=\"data row13 col8\" >0.00</td>\n",
       "      <td id=\"T_a78a8_row13_col9\" class=\"data row13 col9\" >9.47</td>\n",
       "      <td id=\"T_a78a8_row13_col10\" class=\"data row13 col10\" >0.00</td>\n",
       "      <td id=\"T_a78a8_row13_col11\" class=\"data row13 col11\" >0.00</td>\n",
       "      <td id=\"T_a78a8_row13_col12\" class=\"data row13 col12\" >0.19</td>\n",
       "      <td id=\"T_a78a8_row13_col13\" class=\"data row13 col13\" >1.94</td>\n",
       "      <td id=\"T_a78a8_row13_col14\" class=\"data row13 col14\" >0.29</td>\n",
       "      <td id=\"T_a78a8_row13_col15\" class=\"data row13 col15\" >12.02</td>\n",
       "      <td id=\"T_a78a8_row13_col16\" class=\"data row13 col16\" >5.23</td>\n",
       "      <td id=\"T_a78a8_row13_col17\" class=\"data row13 col17\" >0.00</td>\n",
       "      <td id=\"T_a78a8_row13_col18\" class=\"data row13 col18\" >0.00</td>\n",
       "      <td id=\"T_a78a8_row13_col19\" class=\"data row13 col19\" >2.58</td>\n",
       "      <td id=\"T_a78a8_row13_col20\" class=\"data row13 col20\" >0.14</td>\n",
       "      <td id=\"T_a78a8_row13_col21\" class=\"data row13 col21\" >5.46</td>\n",
       "      <td id=\"T_a78a8_row13_col22\" class=\"data row13 col22\" >0.01</td>\n",
       "      <td id=\"T_a78a8_row13_col23\" class=\"data row13 col23\" >0.00</td>\n",
       "      <td id=\"T_a78a8_row13_col24\" class=\"data row13 col24\" >0.00</td>\n",
       "      <td id=\"T_a78a8_row13_col25\" class=\"data row13 col25\" >4.20</td>\n",
       "      <td id=\"T_a78a8_row13_col26\" class=\"data row13 col26\" >0.00</td>\n",
       "    </tr>\n",
       "    <tr>\n",
       "      <th id=\"T_a78a8_level0_row14\" class=\"row_heading level0 row14\" >n</th>\n",
       "      <td id=\"T_a78a8_row14_col0\" class=\"data row14 col0\" >24.20</td>\n",
       "      <td id=\"T_a78a8_row14_col1\" class=\"data row14 col1\" >1.48</td>\n",
       "      <td id=\"T_a78a8_row14_col2\" class=\"data row14 col2\" >0.02</td>\n",
       "      <td id=\"T_a78a8_row14_col3\" class=\"data row14 col3\" >4.18</td>\n",
       "      <td id=\"T_a78a8_row14_col4\" class=\"data row14 col4\" >15.72</td>\n",
       "      <td id=\"T_a78a8_row14_col5\" class=\"data row14 col5\" >9.29</td>\n",
       "      <td id=\"T_a78a8_row14_col6\" class=\"data row14 col6\" >0.67</td>\n",
       "      <td id=\"T_a78a8_row14_col7\" class=\"data row14 col7\" >12.21</td>\n",
       "      <td id=\"T_a78a8_row14_col8\" class=\"data row14 col8\" >0.11</td>\n",
       "      <td id=\"T_a78a8_row14_col9\" class=\"data row14 col9\" >2.49</td>\n",
       "      <td id=\"T_a78a8_row14_col10\" class=\"data row14 col10\" >0.21</td>\n",
       "      <td id=\"T_a78a8_row14_col11\" class=\"data row14 col11\" >0.90</td>\n",
       "      <td id=\"T_a78a8_row14_col12\" class=\"data row14 col12\" >1.12</td>\n",
       "      <td id=\"T_a78a8_row14_col13\" class=\"data row14 col13\" >0.02</td>\n",
       "      <td id=\"T_a78a8_row14_col14\" class=\"data row14 col14\" >3.00</td>\n",
       "      <td id=\"T_a78a8_row14_col15\" class=\"data row14 col15\" >9.14</td>\n",
       "      <td id=\"T_a78a8_row14_col16\" class=\"data row14 col16\" >0.07</td>\n",
       "      <td id=\"T_a78a8_row14_col17\" class=\"data row14 col17\" >0.19</td>\n",
       "      <td id=\"T_a78a8_row14_col18\" class=\"data row14 col18\" >0.16</td>\n",
       "      <td id=\"T_a78a8_row14_col19\" class=\"data row14 col19\" >3.05</td>\n",
       "      <td id=\"T_a78a8_row14_col20\" class=\"data row14 col20\" >8.63</td>\n",
       "      <td id=\"T_a78a8_row14_col21\" class=\"data row14 col21\" >0.53</td>\n",
       "      <td id=\"T_a78a8_row14_col22\" class=\"data row14 col22\" >0.63</td>\n",
       "      <td id=\"T_a78a8_row14_col23\" class=\"data row14 col23\" >0.20</td>\n",
       "      <td id=\"T_a78a8_row14_col24\" class=\"data row14 col24\" >0.13</td>\n",
       "      <td id=\"T_a78a8_row14_col25\" class=\"data row14 col25\" >1.66</td>\n",
       "      <td id=\"T_a78a8_row14_col26\" class=\"data row14 col26\" >0.00</td>\n",
       "    </tr>\n",
       "    <tr>\n",
       "      <th id=\"T_a78a8_level0_row15\" class=\"row_heading level0 row15\" >o</th>\n",
       "      <td id=\"T_a78a8_row15_col0\" class=\"data row15 col0\" >15.77</td>\n",
       "      <td id=\"T_a78a8_row15_col1\" class=\"data row15 col1\" >0.21</td>\n",
       "      <td id=\"T_a78a8_row15_col2\" class=\"data row15 col2\" >0.84</td>\n",
       "      <td id=\"T_a78a8_row15_col3\" class=\"data row15 col3\" >0.53</td>\n",
       "      <td id=\"T_a78a8_row15_col4\" class=\"data row15 col4\" >1.80</td>\n",
       "      <td id=\"T_a78a8_row15_col5\" class=\"data row15 col5\" >0.18</td>\n",
       "      <td id=\"T_a78a8_row15_col6\" class=\"data row15 col6\" >9.65</td>\n",
       "      <td id=\"T_a78a8_row15_col7\" class=\"data row15 col7\" >0.30</td>\n",
       "      <td id=\"T_a78a8_row15_col8\" class=\"data row15 col8\" >0.25</td>\n",
       "      <td id=\"T_a78a8_row15_col9\" class=\"data row15 col9\" >0.93</td>\n",
       "      <td id=\"T_a78a8_row15_col10\" class=\"data row15 col10\" >0.02</td>\n",
       "      <td id=\"T_a78a8_row15_col11\" class=\"data row15 col11\" >0.91</td>\n",
       "      <td id=\"T_a78a8_row15_col12\" class=\"data row15 col12\" >2.00</td>\n",
       "      <td id=\"T_a78a8_row15_col13\" class=\"data row15 col13\" >5.55</td>\n",
       "      <td id=\"T_a78a8_row15_col14\" class=\"data row15 col14\" >14.47</td>\n",
       "      <td id=\"T_a78a8_row15_col15\" class=\"data row15 col15\" >3.65</td>\n",
       "      <td id=\"T_a78a8_row15_col16\" class=\"data row15 col16\" >1.38</td>\n",
       "      <td id=\"T_a78a8_row15_col17\" class=\"data row15 col17\" >0.01</td>\n",
       "      <td id=\"T_a78a8_row15_col18\" class=\"data row15 col18\" >11.38</td>\n",
       "      <td id=\"T_a78a8_row15_col19\" class=\"data row15 col19\" >2.48</td>\n",
       "      <td id=\"T_a78a8_row15_col20\" class=\"data row15 col20\" >6.77</td>\n",
       "      <td id=\"T_a78a8_row15_col21\" class=\"data row15 col21\" >14.53</td>\n",
       "      <td id=\"T_a78a8_row15_col22\" class=\"data row15 col22\" >1.53</td>\n",
       "      <td id=\"T_a78a8_row15_col23\" class=\"data row15 col23\" >4.58</td>\n",
       "      <td id=\"T_a78a8_row15_col24\" class=\"data row15 col24\" >0.02</td>\n",
       "      <td id=\"T_a78a8_row15_col25\" class=\"data row15 col25\" >0.29</td>\n",
       "      <td id=\"T_a78a8_row15_col26\" class=\"data row15 col26\" >0.00</td>\n",
       "    </tr>\n",
       "    <tr>\n",
       "      <th id=\"T_a78a8_level0_row16\" class=\"row_heading level0 row16\" >p</th>\n",
       "      <td id=\"T_a78a8_row16_col0\" class=\"data row16 col0\" >3.67</td>\n",
       "      <td id=\"T_a78a8_row16_col1\" class=\"data row16 col1\" >11.91</td>\n",
       "      <td id=\"T_a78a8_row16_col2\" class=\"data row16 col2\" >0.01</td>\n",
       "      <td id=\"T_a78a8_row16_col3\" class=\"data row16 col3\" >0.01</td>\n",
       "      <td id=\"T_a78a8_row16_col4\" class=\"data row16 col4\" >0.01</td>\n",
       "      <td id=\"T_a78a8_row16_col5\" class=\"data row16 col5\" >19.96</td>\n",
       "      <td id=\"T_a78a8_row16_col6\" class=\"data row16 col6\" >0.01</td>\n",
       "      <td id=\"T_a78a8_row16_col7\" class=\"data row16 col7\" >0.01</td>\n",
       "      <td id=\"T_a78a8_row16_col8\" class=\"data row16 col8\" >0.63</td>\n",
       "      <td id=\"T_a78a8_row16_col9\" class=\"data row16 col9\" >5.52</td>\n",
       "      <td id=\"T_a78a8_row16_col10\" class=\"data row16 col10\" >0.01</td>\n",
       "      <td id=\"T_a78a8_row16_col11\" class=\"data row16 col11\" >0.01</td>\n",
       "      <td id=\"T_a78a8_row16_col12\" class=\"data row16 col12\" >10.13</td>\n",
       "      <td id=\"T_a78a8_row16_col13\" class=\"data row16 col13\" >0.03</td>\n",
       "      <td id=\"T_a78a8_row16_col14\" class=\"data row16 col14\" >0.01</td>\n",
       "      <td id=\"T_a78a8_row16_col15\" class=\"data row16 col15\" >12.79</td>\n",
       "      <td id=\"T_a78a8_row16_col16\" class=\"data row16 col16\" >9.27</td>\n",
       "      <td id=\"T_a78a8_row16_col17\" class=\"data row16 col17\" >0.01</td>\n",
       "      <td id=\"T_a78a8_row16_col18\" class=\"data row16 col18\" >15.79</td>\n",
       "      <td id=\"T_a78a8_row16_col19\" class=\"data row16 col19\" >1.45</td>\n",
       "      <td id=\"T_a78a8_row16_col20\" class=\"data row16 col20\" >5.25</td>\n",
       "      <td id=\"T_a78a8_row16_col21\" class=\"data row16 col21\" >1.97</td>\n",
       "      <td id=\"T_a78a8_row16_col22\" class=\"data row16 col22\" >0.01</td>\n",
       "      <td id=\"T_a78a8_row16_col23\" class=\"data row16 col23\" >0.02</td>\n",
       "      <td id=\"T_a78a8_row16_col24\" class=\"data row16 col24\" >0.01</td>\n",
       "      <td id=\"T_a78a8_row16_col25\" class=\"data row16 col25\" >1.50</td>\n",
       "      <td id=\"T_a78a8_row16_col26\" class=\"data row16 col26\" >0.01</td>\n",
       "    </tr>\n",
       "    <tr>\n",
       "      <th id=\"T_a78a8_level0_row17\" class=\"row_heading level0 row17\" >q</th>\n",
       "      <td id=\"T_a78a8_row17_col0\" class=\"data row17 col0\" >0.62</td>\n",
       "      <td id=\"T_a78a8_row17_col1\" class=\"data row17 col1\" >0.09</td>\n",
       "      <td id=\"T_a78a8_row17_col2\" class=\"data row17 col2\" >0.09</td>\n",
       "      <td id=\"T_a78a8_row17_col3\" class=\"data row17 col3\" >0.09</td>\n",
       "      <td id=\"T_a78a8_row17_col4\" class=\"data row17 col4\" >0.09</td>\n",
       "      <td id=\"T_a78a8_row17_col5\" class=\"data row17 col5\" >0.09</td>\n",
       "      <td id=\"T_a78a8_row17_col6\" class=\"data row17 col6\" >0.09</td>\n",
       "      <td id=\"T_a78a8_row17_col7\" class=\"data row17 col7\" >0.09</td>\n",
       "      <td id=\"T_a78a8_row17_col8\" class=\"data row17 col8\" >0.09</td>\n",
       "      <td id=\"T_a78a8_row17_col9\" class=\"data row17 col9\" >0.09</td>\n",
       "      <td id=\"T_a78a8_row17_col10\" class=\"data row17 col10\" >0.09</td>\n",
       "      <td id=\"T_a78a8_row17_col11\" class=\"data row17 col11\" >0.09</td>\n",
       "      <td id=\"T_a78a8_row17_col12\" class=\"data row17 col12\" >0.09</td>\n",
       "      <td id=\"T_a78a8_row17_col13\" class=\"data row17 col13\" >0.09</td>\n",
       "      <td id=\"T_a78a8_row17_col14\" class=\"data row17 col14\" >0.09</td>\n",
       "      <td id=\"T_a78a8_row17_col15\" class=\"data row17 col15\" >0.09</td>\n",
       "      <td id=\"T_a78a8_row17_col16\" class=\"data row17 col16\" >0.09</td>\n",
       "      <td id=\"T_a78a8_row17_col17\" class=\"data row17 col17\" >0.09</td>\n",
       "      <td id=\"T_a78a8_row17_col18\" class=\"data row17 col18\" >0.09</td>\n",
       "      <td id=\"T_a78a8_row17_col19\" class=\"data row17 col19\" >0.09</td>\n",
       "      <td id=\"T_a78a8_row17_col20\" class=\"data row17 col20\" >0.09</td>\n",
       "      <td id=\"T_a78a8_row17_col21\" class=\"data row17 col21\" >97.16</td>\n",
       "      <td id=\"T_a78a8_row17_col22\" class=\"data row17 col22\" >0.09</td>\n",
       "      <td id=\"T_a78a8_row17_col23\" class=\"data row17 col23\" >0.09</td>\n",
       "      <td id=\"T_a78a8_row17_col24\" class=\"data row17 col24\" >0.09</td>\n",
       "      <td id=\"T_a78a8_row17_col25\" class=\"data row17 col25\" >0.09</td>\n",
       "      <td id=\"T_a78a8_row17_col26\" class=\"data row17 col26\" >0.09</td>\n",
       "    </tr>\n",
       "    <tr>\n",
       "      <th id=\"T_a78a8_level0_row18\" class=\"row_heading level0 row18\" >r</th>\n",
       "      <td id=\"T_a78a8_row18_col0\" class=\"data row18 col0\" >30.81</td>\n",
       "      <td id=\"T_a78a8_row18_col1\" class=\"data row18 col1\" >4.61</td>\n",
       "      <td id=\"T_a78a8_row18_col2\" class=\"data row18 col2\" >0.08</td>\n",
       "      <td id=\"T_a78a8_row18_col3\" class=\"data row18 col3\" >0.83</td>\n",
       "      <td id=\"T_a78a8_row18_col4\" class=\"data row18 col4\" >2.83</td>\n",
       "      <td id=\"T_a78a8_row18_col5\" class=\"data row18 col5\" >21.73</td>\n",
       "      <td id=\"T_a78a8_row18_col6\" class=\"data row18 col6\" >0.46</td>\n",
       "      <td id=\"T_a78a8_row18_col7\" class=\"data row18 col7\" >0.50</td>\n",
       "      <td id=\"T_a78a8_row18_col8\" class=\"data row18 col8\" >0.32</td>\n",
       "      <td id=\"T_a78a8_row18_col9\" class=\"data row18 col9\" >6.86</td>\n",
       "      <td id=\"T_a78a8_row18_col10\" class=\"data row18 col10\" >0.00</td>\n",
       "      <td id=\"T_a78a8_row18_col11\" class=\"data row18 col11\" >0.36</td>\n",
       "      <td id=\"T_a78a8_row18_col12\" class=\"data row18 col12\" >1.42</td>\n",
       "      <td id=\"T_a78a8_row18_col13\" class=\"data row18 col13\" >1.24</td>\n",
       "      <td id=\"T_a78a8_row18_col14\" class=\"data row18 col14\" >1.60</td>\n",
       "      <td id=\"T_a78a8_row18_col15\" class=\"data row18 col15\" >6.50</td>\n",
       "      <td id=\"T_a78a8_row18_col16\" class=\"data row18 col16\" >0.35</td>\n",
       "      <td id=\"T_a78a8_row18_col17\" class=\"data row18 col17\" >0.00</td>\n",
       "      <td id=\"T_a78a8_row18_col18\" class=\"data row18 col18\" >1.94</td>\n",
       "      <td id=\"T_a78a8_row18_col19\" class=\"data row18 col19\" >6.35</td>\n",
       "      <td id=\"T_a78a8_row18_col20\" class=\"data row18 col20\" >4.83</td>\n",
       "      <td id=\"T_a78a8_row18_col21\" class=\"data row18 col21\" >0.85</td>\n",
       "      <td id=\"T_a78a8_row18_col22\" class=\"data row18 col22\" >0.81</td>\n",
       "      <td id=\"T_a78a8_row18_col23\" class=\"data row18 col23\" >0.29</td>\n",
       "      <td id=\"T_a78a8_row18_col24\" class=\"data row18 col24\" >0.00</td>\n",
       "      <td id=\"T_a78a8_row18_col25\" class=\"data row18 col25\" >4.42</td>\n",
       "      <td id=\"T_a78a8_row18_col26\" class=\"data row18 col26\" >0.00</td>\n",
       "    </tr>\n",
       "    <tr>\n",
       "      <th id=\"T_a78a8_level0_row19\" class=\"row_heading level0 row19\" >s</th>\n",
       "      <td id=\"T_a78a8_row19_col0\" class=\"data row19 col0\" >37.75</td>\n",
       "      <td id=\"T_a78a8_row19_col1\" class=\"data row19 col1\" >4.11</td>\n",
       "      <td id=\"T_a78a8_row19_col2\" class=\"data row19 col2\" >0.16</td>\n",
       "      <td id=\"T_a78a8_row19_col3\" class=\"data row19 col3\" >0.94</td>\n",
       "      <td id=\"T_a78a8_row19_col4\" class=\"data row19 col4\" >0.05</td>\n",
       "      <td id=\"T_a78a8_row19_col5\" class=\"data row19 col5\" >12.06</td>\n",
       "      <td id=\"T_a78a8_row19_col6\" class=\"data row19 col6\" >0.27</td>\n",
       "      <td id=\"T_a78a8_row19_col7\" class=\"data row19 col7\" >0.36</td>\n",
       "      <td id=\"T_a78a8_row19_col8\" class=\"data row19 col8\" >7.90</td>\n",
       "      <td id=\"T_a78a8_row19_col9\" class=\"data row19 col9\" >6.10</td>\n",
       "      <td id=\"T_a78a8_row19_col10\" class=\"data row19 col10\" >0.00</td>\n",
       "      <td id=\"T_a78a8_row19_col11\" class=\"data row19 col11\" >0.26</td>\n",
       "      <td id=\"T_a78a8_row19_col12\" class=\"data row19 col12\" >0.37</td>\n",
       "      <td id=\"T_a78a8_row19_col13\" class=\"data row19 col13\" >0.47</td>\n",
       "      <td id=\"T_a78a8_row19_col14\" class=\"data row19 col14\" >0.10</td>\n",
       "      <td id=\"T_a78a8_row19_col15\" class=\"data row19 col15\" >5.34</td>\n",
       "      <td id=\"T_a78a8_row19_col16\" class=\"data row19 col16\" >2.25</td>\n",
       "      <td id=\"T_a78a8_row19_col17\" class=\"data row19 col17\" >0.04</td>\n",
       "      <td id=\"T_a78a8_row19_col18\" class=\"data row19 col18\" >0.02</td>\n",
       "      <td id=\"T_a78a8_row19_col19\" class=\"data row19 col19\" >5.77</td>\n",
       "      <td id=\"T_a78a8_row19_col20\" class=\"data row19 col20\" >10.86</td>\n",
       "      <td id=\"T_a78a8_row19_col21\" class=\"data row19 col21\" >4.29</td>\n",
       "      <td id=\"T_a78a8_row19_col22\" class=\"data row19 col22\" >0.00</td>\n",
       "      <td id=\"T_a78a8_row19_col23\" class=\"data row19 col23\" >0.31</td>\n",
       "      <td id=\"T_a78a8_row19_col24\" class=\"data row19 col24\" >0.00</td>\n",
       "      <td id=\"T_a78a8_row19_col25\" class=\"data row19 col25\" >0.21</td>\n",
       "      <td id=\"T_a78a8_row19_col26\" class=\"data row19 col26\" >0.00</td>\n",
       "    </tr>\n",
       "    <tr>\n",
       "      <th id=\"T_a78a8_level0_row20\" class=\"row_heading level0 row20\" >t</th>\n",
       "      <td id=\"T_a78a8_row20_col0\" class=\"data row20 col0\" >29.10</td>\n",
       "      <td id=\"T_a78a8_row20_col1\" class=\"data row20 col1\" >3.87</td>\n",
       "      <td id=\"T_a78a8_row20_col2\" class=\"data row20 col2\" >0.00</td>\n",
       "      <td id=\"T_a78a8_row20_col3\" class=\"data row20 col3\" >0.25</td>\n",
       "      <td id=\"T_a78a8_row20_col4\" class=\"data row20 col4\" >0.00</td>\n",
       "      <td id=\"T_a78a8_row20_col5\" class=\"data row20 col5\" >9.04</td>\n",
       "      <td id=\"T_a78a8_row20_col6\" class=\"data row20 col6\" >0.10</td>\n",
       "      <td id=\"T_a78a8_row20_col7\" class=\"data row20 col7\" >0.01</td>\n",
       "      <td id=\"T_a78a8_row20_col8\" class=\"data row20 col8\" >27.71</td>\n",
       "      <td id=\"T_a78a8_row20_col9\" class=\"data row20 col9\" >6.90</td>\n",
       "      <td id=\"T_a78a8_row20_col10\" class=\"data row20 col10\" >0.00</td>\n",
       "      <td id=\"T_a78a8_row20_col11\" class=\"data row20 col11\" >0.00</td>\n",
       "      <td id=\"T_a78a8_row20_col12\" class=\"data row20 col12\" >1.40</td>\n",
       "      <td id=\"T_a78a8_row20_col13\" class=\"data row20 col13\" >0.14</td>\n",
       "      <td id=\"T_a78a8_row20_col14\" class=\"data row20 col14\" >0.11</td>\n",
       "      <td id=\"T_a78a8_row20_col15\" class=\"data row20 col15\" >11.50</td>\n",
       "      <td id=\"T_a78a8_row20_col16\" class=\"data row20 col16\" >0.00</td>\n",
       "      <td id=\"T_a78a8_row20_col17\" class=\"data row20 col17\" >0.00</td>\n",
       "      <td id=\"T_a78a8_row20_col18\" class=\"data row20 col18\" >1.86</td>\n",
       "      <td id=\"T_a78a8_row20_col19\" class=\"data row20 col19\" >1.35</td>\n",
       "      <td id=\"T_a78a8_row20_col20\" class=\"data row20 col20\" >2.49</td>\n",
       "      <td id=\"T_a78a8_row20_col21\" class=\"data row20 col21\" >1.60</td>\n",
       "      <td id=\"T_a78a8_row20_col22\" class=\"data row20 col22\" >0.00</td>\n",
       "      <td id=\"T_a78a8_row20_col23\" class=\"data row20 col23\" >0.93</td>\n",
       "      <td id=\"T_a78a8_row20_col24\" class=\"data row20 col24\" >0.00</td>\n",
       "      <td id=\"T_a78a8_row20_col25\" class=\"data row20 col25\" >1.62</td>\n",
       "      <td id=\"T_a78a8_row20_col26\" class=\"data row20 col26\" >0.00</td>\n",
       "    </tr>\n",
       "    <tr>\n",
       "      <th id=\"T_a78a8_level0_row21\" class=\"row_heading level0 row21\" >u</th>\n",
       "      <td id=\"T_a78a8_row21_col0\" class=\"data row21 col0\" >7.34</td>\n",
       "      <td id=\"T_a78a8_row21_col1\" class=\"data row21 col1\" >3.06</td>\n",
       "      <td id=\"T_a78a8_row21_col2\" class=\"data row21 col2\" >1.53</td>\n",
       "      <td id=\"T_a78a8_row21_col3\" class=\"data row21 col3\" >6.61</td>\n",
       "      <td id=\"T_a78a8_row21_col4\" class=\"data row21 col4\" >1.57</td>\n",
       "      <td id=\"T_a78a8_row21_col5\" class=\"data row21 col5\" >2.43</td>\n",
       "      <td id=\"T_a78a8_row21_col6\" class=\"data row21 col6\" >0.58</td>\n",
       "      <td id=\"T_a78a8_row21_col7\" class=\"data row21 col7\" >6.32</td>\n",
       "      <td id=\"T_a78a8_row21_col8\" class=\"data row21 col8\" >0.00</td>\n",
       "      <td id=\"T_a78a8_row21_col9\" class=\"data row21 col9\" >3.67</td>\n",
       "      <td id=\"T_a78a8_row21_col10\" class=\"data row21 col10\" >0.00</td>\n",
       "      <td id=\"T_a78a8_row21_col11\" class=\"data row21 col11\" >0.00</td>\n",
       "      <td id=\"T_a78a8_row21_col12\" class=\"data row21 col12\" >13.37</td>\n",
       "      <td id=\"T_a78a8_row21_col13\" class=\"data row21 col13\" >1.40</td>\n",
       "      <td id=\"T_a78a8_row21_col14\" class=\"data row21 col14\" >9.01</td>\n",
       "      <td id=\"T_a78a8_row21_col15\" class=\"data row21 col15\" >0.10</td>\n",
       "      <td id=\"T_a78a8_row21_col16\" class=\"data row21 col16\" >3.04</td>\n",
       "      <td id=\"T_a78a8_row21_col17\" class=\"data row21 col17\" >0.00</td>\n",
       "      <td id=\"T_a78a8_row21_col18\" class=\"data row21 col18\" >14.55</td>\n",
       "      <td id=\"T_a78a8_row21_col19\" class=\"data row21 col19\" >12.62</td>\n",
       "      <td id=\"T_a78a8_row21_col20\" class=\"data row21 col20\" >12.62</td>\n",
       "      <td id=\"T_a78a8_row21_col21\" class=\"data row21 col21\" >0.00</td>\n",
       "      <td id=\"T_a78a8_row21_col22\" class=\"data row21 col22\" >0.02</td>\n",
       "      <td id=\"T_a78a8_row21_col23\" class=\"data row21 col23\" >0.00</td>\n",
       "      <td id=\"T_a78a8_row21_col24\" class=\"data row21 col24\" >0.06</td>\n",
       "      <td id=\"T_a78a8_row21_col25\" class=\"data row21 col25\" >0.05</td>\n",
       "      <td id=\"T_a78a8_row21_col26\" class=\"data row21 col26\" >0.04</td>\n",
       "    </tr>\n",
       "    <tr>\n",
       "      <th id=\"T_a78a8_level0_row22\" class=\"row_heading level0 row22\" >v</th>\n",
       "      <td id=\"T_a78a8_row22_col0\" class=\"data row22 col0\" >0.01</td>\n",
       "      <td id=\"T_a78a8_row22_col1\" class=\"data row22 col1\" >5.80</td>\n",
       "      <td id=\"T_a78a8_row22_col2\" class=\"data row22 col2\" >0.01</td>\n",
       "      <td id=\"T_a78a8_row22_col3\" class=\"data row22 col3\" >0.01</td>\n",
       "      <td id=\"T_a78a8_row22_col4\" class=\"data row22 col4\" >0.01</td>\n",
       "      <td id=\"T_a78a8_row22_col5\" class=\"data row22 col5\" >75.02</td>\n",
       "      <td id=\"T_a78a8_row22_col6\" class=\"data row22 col6\" >0.01</td>\n",
       "      <td id=\"T_a78a8_row22_col7\" class=\"data row22 col7\" >0.01</td>\n",
       "      <td id=\"T_a78a8_row22_col8\" class=\"data row22 col8\" >0.01</td>\n",
       "      <td id=\"T_a78a8_row22_col9\" class=\"data row22 col9\" >14.63</td>\n",
       "      <td id=\"T_a78a8_row22_col10\" class=\"data row22 col10\" >0.01</td>\n",
       "      <td id=\"T_a78a8_row22_col11\" class=\"data row22 col11\" >0.01</td>\n",
       "      <td id=\"T_a78a8_row22_col12\" class=\"data row22 col12\" >0.01</td>\n",
       "      <td id=\"T_a78a8_row22_col13\" class=\"data row22 col13\" >0.01</td>\n",
       "      <td id=\"T_a78a8_row22_col14\" class=\"data row22 col14\" >0.01</td>\n",
       "      <td id=\"T_a78a8_row22_col15\" class=\"data row22 col15\" >3.89</td>\n",
       "      <td id=\"T_a78a8_row22_col16\" class=\"data row22 col16\" >0.01</td>\n",
       "      <td id=\"T_a78a8_row22_col17\" class=\"data row22 col17\" >0.01</td>\n",
       "      <td id=\"T_a78a8_row22_col18\" class=\"data row22 col18\" >0.03</td>\n",
       "      <td id=\"T_a78a8_row22_col19\" class=\"data row22 col19\" >0.01</td>\n",
       "      <td id=\"T_a78a8_row22_col20\" class=\"data row22 col20\" >0.01</td>\n",
       "      <td id=\"T_a78a8_row22_col21\" class=\"data row22 col21\" >0.05</td>\n",
       "      <td id=\"T_a78a8_row22_col22\" class=\"data row22 col22\" >0.01</td>\n",
       "      <td id=\"T_a78a8_row22_col23\" class=\"data row22 col23\" >0.01</td>\n",
       "      <td id=\"T_a78a8_row22_col24\" class=\"data row22 col24\" >0.01</td>\n",
       "      <td id=\"T_a78a8_row22_col25\" class=\"data row22 col25\" >0.37</td>\n",
       "      <td id=\"T_a78a8_row22_col26\" class=\"data row22 col26\" >0.01</td>\n",
       "    </tr>\n",
       "    <tr>\n",
       "      <th id=\"T_a78a8_level0_row23\" class=\"row_heading level0 row23\" >w</th>\n",
       "      <td id=\"T_a78a8_row23_col0\" class=\"data row23 col0\" >10.41</td>\n",
       "      <td id=\"T_a78a8_row23_col1\" class=\"data row23 col1\" >24.41</td>\n",
       "      <td id=\"T_a78a8_row23_col2\" class=\"data row23 col2\" >0.01</td>\n",
       "      <td id=\"T_a78a8_row23_col3\" class=\"data row23 col3\" >0.00</td>\n",
       "      <td id=\"T_a78a8_row23_col4\" class=\"data row23 col4\" >0.07</td>\n",
       "      <td id=\"T_a78a8_row23_col5\" class=\"data row23 col5\" >13.24</td>\n",
       "      <td id=\"T_a78a8_row23_col6\" class=\"data row23 col6\" >0.04</td>\n",
       "      <td id=\"T_a78a8_row23_col7\" class=\"data row23 col7\" >0.00</td>\n",
       "      <td id=\"T_a78a8_row23_col8\" class=\"data row23 col8\" >16.38</td>\n",
       "      <td id=\"T_a78a8_row23_col9\" class=\"data row23 col9\" >17.06</td>\n",
       "      <td id=\"T_a78a8_row23_col10\" class=\"data row23 col10\" >0.00</td>\n",
       "      <td id=\"T_a78a8_row23_col11\" class=\"data row23 col11\" >0.07</td>\n",
       "      <td id=\"T_a78a8_row23_col12\" class=\"data row23 col12\" >0.63</td>\n",
       "      <td id=\"T_a78a8_row23_col13\" class=\"data row23 col13\" >0.00</td>\n",
       "      <td id=\"T_a78a8_row23_col14\" class=\"data row23 col14\" >4.43</td>\n",
       "      <td id=\"T_a78a8_row23_col15\" class=\"data row23 col15\" >11.74</td>\n",
       "      <td id=\"T_a78a8_row23_col16\" class=\"data row23 col16\" >0.02</td>\n",
       "      <td id=\"T_a78a8_row23_col17\" class=\"data row23 col17\" >0.00</td>\n",
       "      <td id=\"T_a78a8_row23_col18\" class=\"data row23 col18\" >0.85</td>\n",
       "      <td id=\"T_a78a8_row23_col19\" class=\"data row23 col19\" >0.53</td>\n",
       "      <td id=\"T_a78a8_row23_col20\" class=\"data row23 col20\" >0.01</td>\n",
       "      <td id=\"T_a78a8_row23_col21\" class=\"data row23 col21\" >0.00</td>\n",
       "      <td id=\"T_a78a8_row23_col22\" class=\"data row23 col22\" >0.00</td>\n",
       "      <td id=\"T_a78a8_row23_col23\" class=\"data row23 col23\" >0.00</td>\n",
       "      <td id=\"T_a78a8_row23_col24\" class=\"data row23 col24\" >0.00</td>\n",
       "      <td id=\"T_a78a8_row23_col25\" class=\"data row23 col25\" >0.02</td>\n",
       "      <td id=\"T_a78a8_row23_col26\" class=\"data row23 col26\" >0.00</td>\n",
       "    </tr>\n",
       "    <tr>\n",
       "      <th id=\"T_a78a8_level0_row24\" class=\"row_heading level0 row24\" >x</th>\n",
       "      <td id=\"T_a78a8_row24_col0\" class=\"data row24 col0\" >6.05</td>\n",
       "      <td id=\"T_a78a8_row24_col1\" class=\"data row24 col1\" >6.19</td>\n",
       "      <td id=\"T_a78a8_row24_col2\" class=\"data row24 col2\" >0.07</td>\n",
       "      <td id=\"T_a78a8_row24_col3\" class=\"data row24 col3\" >20.09</td>\n",
       "      <td id=\"T_a78a8_row24_col4\" class=\"data row24 col4\" >0.07</td>\n",
       "      <td id=\"T_a78a8_row24_col5\" class=\"data row24 col5\" >9.86</td>\n",
       "      <td id=\"T_a78a8_row24_col6\" class=\"data row24 col6\" >0.79</td>\n",
       "      <td id=\"T_a78a8_row24_col7\" class=\"data row24 col7\" >0.07</td>\n",
       "      <td id=\"T_a78a8_row24_col8\" class=\"data row24 col8\" >0.50</td>\n",
       "      <td id=\"T_a78a8_row24_col9\" class=\"data row24 col9\" >11.52</td>\n",
       "      <td id=\"T_a78a8_row24_col10\" class=\"data row24 col10\" >0.07</td>\n",
       "      <td id=\"T_a78a8_row24_col11\" class=\"data row24 col11\" >0.07</td>\n",
       "      <td id=\"T_a78a8_row24_col12\" class=\"data row24 col12\" >0.07</td>\n",
       "      <td id=\"T_a78a8_row24_col13\" class=\"data row24 col13\" >0.07</td>\n",
       "      <td id=\"T_a78a8_row24_col14\" class=\"data row24 col14\" >0.07</td>\n",
       "      <td id=\"T_a78a8_row24_col15\" class=\"data row24 col15\" >0.14</td>\n",
       "      <td id=\"T_a78a8_row24_col16\" class=\"data row24 col16\" >26.71</td>\n",
       "      <td id=\"T_a78a8_row24_col17\" class=\"data row24 col17\" >0.86</td>\n",
       "      <td id=\"T_a78a8_row24_col18\" class=\"data row24 col18\" >0.07</td>\n",
       "      <td id=\"T_a78a8_row24_col19\" class=\"data row24 col19\" >0.07</td>\n",
       "      <td id=\"T_a78a8_row24_col20\" class=\"data row24 col20\" >15.19</td>\n",
       "      <td id=\"T_a78a8_row24_col21\" class=\"data row24 col21\" >1.01</td>\n",
       "      <td id=\"T_a78a8_row24_col22\" class=\"data row24 col22\" >0.07</td>\n",
       "      <td id=\"T_a78a8_row24_col23\" class=\"data row24 col23\" >0.07</td>\n",
       "      <td id=\"T_a78a8_row24_col24\" class=\"data row24 col24\" >0.07</td>\n",
       "      <td id=\"T_a78a8_row24_col25\" class=\"data row24 col25\" >0.07</td>\n",
       "      <td id=\"T_a78a8_row24_col26\" class=\"data row24 col26\" >0.07</td>\n",
       "    </tr>\n",
       "    <tr>\n",
       "      <th id=\"T_a78a8_level0_row25\" class=\"row_heading level0 row25\" >y</th>\n",
       "      <td id=\"T_a78a8_row25_col0\" class=\"data row25 col0\" >76.12</td>\n",
       "      <td id=\"T_a78a8_row25_col1\" class=\"data row25 col1\" >0.05</td>\n",
       "      <td id=\"T_a78a8_row25_col2\" class=\"data row25 col2\" >0.31</td>\n",
       "      <td id=\"T_a78a8_row25_col3\" class=\"data row25 col3\" >0.01</td>\n",
       "      <td id=\"T_a78a8_row25_col4\" class=\"data row25 col4\" >0.02</td>\n",
       "      <td id=\"T_a78a8_row25_col5\" class=\"data row25 col5\" >3.27</td>\n",
       "      <td id=\"T_a78a8_row25_col6\" class=\"data row25 col6\" >0.05</td>\n",
       "      <td id=\"T_a78a8_row25_col7\" class=\"data row25 col7\" >0.01</td>\n",
       "      <td id=\"T_a78a8_row25_col8\" class=\"data row25 col8\" >0.01</td>\n",
       "      <td id=\"T_a78a8_row25_col9\" class=\"data row25 col9\" >1.46</td>\n",
       "      <td id=\"T_a78a8_row25_col10\" class=\"data row25 col10\" >0.01</td>\n",
       "      <td id=\"T_a78a8_row25_col11\" class=\"data row25 col11\" >0.01</td>\n",
       "      <td id=\"T_a78a8_row25_col12\" class=\"data row25 col12\" >0.29</td>\n",
       "      <td id=\"T_a78a8_row25_col13\" class=\"data row25 col13\" >1.11</td>\n",
       "      <td id=\"T_a78a8_row25_col14\" class=\"data row25 col14\" >0.43</td>\n",
       "      <td id=\"T_a78a8_row25_col15\" class=\"data row25 col15\" >12.93</td>\n",
       "      <td id=\"T_a78a8_row25_col16\" class=\"data row25 col16\" >0.02</td>\n",
       "      <td id=\"T_a78a8_row25_col17\" class=\"data row25 col17\" >0.01</td>\n",
       "      <td id=\"T_a78a8_row25_col18\" class=\"data row25 col18\" >0.03</td>\n",
       "      <td id=\"T_a78a8_row25_col19\" class=\"data row25 col19\" >2.84</td>\n",
       "      <td id=\"T_a78a8_row25_col20\" class=\"data row25 col20\" >0.94</td>\n",
       "      <td id=\"T_a78a8_row25_col21\" class=\"data row25 col21\" >0.01</td>\n",
       "      <td id=\"T_a78a8_row25_col22\" class=\"data row25 col22\" >0.01</td>\n",
       "      <td id=\"T_a78a8_row25_col23\" class=\"data row25 col23\" >0.07</td>\n",
       "      <td id=\"T_a78a8_row25_col24\" class=\"data row25 col24\" >0.01</td>\n",
       "      <td id=\"T_a78a8_row25_col25\" class=\"data row25 col25\" >0.01</td>\n",
       "      <td id=\"T_a78a8_row25_col26\" class=\"data row25 col26\" >0.01</td>\n",
       "    </tr>\n",
       "    <tr>\n",
       "      <th id=\"T_a78a8_level0_row26\" class=\"row_heading level0 row26\" >z</th>\n",
       "      <td id=\"T_a78a8_row26_col0\" class=\"data row26 col0\" >1.26</td>\n",
       "      <td id=\"T_a78a8_row26_col1\" class=\"data row26 col1\" >43.93</td>\n",
       "      <td id=\"T_a78a8_row26_col2\" class=\"data row26 col2\" >0.42</td>\n",
       "      <td id=\"T_a78a8_row26_col3\" class=\"data row26 col3\" >0.42</td>\n",
       "      <td id=\"T_a78a8_row26_col4\" class=\"data row26 col4\" >0.42</td>\n",
       "      <td id=\"T_a78a8_row26_col5\" class=\"data row26 col5\" >31.38</td>\n",
       "      <td id=\"T_a78a8_row26_col6\" class=\"data row26 col6\" >0.42</td>\n",
       "      <td id=\"T_a78a8_row26_col7\" class=\"data row26 col7\" >0.42</td>\n",
       "      <td id=\"T_a78a8_row26_col8\" class=\"data row26 col8\" >0.42</td>\n",
       "      <td id=\"T_a78a8_row26_col9\" class=\"data row26 col9\" >4.60</td>\n",
       "      <td id=\"T_a78a8_row26_col10\" class=\"data row26 col10\" >0.42</td>\n",
       "      <td id=\"T_a78a8_row26_col11\" class=\"data row26 col11\" >0.42</td>\n",
       "      <td id=\"T_a78a8_row26_col12\" class=\"data row26 col12\" >3.77</td>\n",
       "      <td id=\"T_a78a8_row26_col13\" class=\"data row26 col13\" >0.42</td>\n",
       "      <td id=\"T_a78a8_row26_col14\" class=\"data row26 col14\" >0.42</td>\n",
       "      <td id=\"T_a78a8_row26_col15\" class=\"data row26 col15\" >0.84</td>\n",
       "      <td id=\"T_a78a8_row26_col16\" class=\"data row26 col16\" >0.42</td>\n",
       "      <td id=\"T_a78a8_row26_col17\" class=\"data row26 col17\" >0.42</td>\n",
       "      <td id=\"T_a78a8_row26_col18\" class=\"data row26 col18\" >0.42</td>\n",
       "      <td id=\"T_a78a8_row26_col19\" class=\"data row26 col19\" >0.42</td>\n",
       "      <td id=\"T_a78a8_row26_col20\" class=\"data row26 col20\" >0.42</td>\n",
       "      <td id=\"T_a78a8_row26_col21\" class=\"data row26 col21\" >1.26</td>\n",
       "      <td id=\"T_a78a8_row26_col22\" class=\"data row26 col22\" >0.42</td>\n",
       "      <td id=\"T_a78a8_row26_col23\" class=\"data row26 col23\" >0.42</td>\n",
       "      <td id=\"T_a78a8_row26_col24\" class=\"data row26 col24\" >0.42</td>\n",
       "      <td id=\"T_a78a8_row26_col25\" class=\"data row26 col25\" >0.84</td>\n",
       "      <td id=\"T_a78a8_row26_col26\" class=\"data row26 col26\" >4.60</td>\n",
       "    </tr>\n",
       "  </tbody>\n",
       "</table>\n"
      ],
      "text/plain": [
       "<pandas.io.formats.style.Styler at 0x7f2f5d768e50>"
      ]
     },
     "execution_count": 65,
     "metadata": {},
     "output_type": "execute_result"
    }
   ],
   "source": [
    "X.style.format(\"{:.2f}\").background_gradient(cmap='YlGnBu', axis=None)"
   ]
  },
  {
   "cell_type": "code",
   "execution_count": 66,
   "metadata": {},
   "outputs": [
    {
     "data": {
      "image/png": "[encoded data removed]",
      "text/plain": [
       "<Figure size 1500x800 with 1 Axes>"
      ]
     },
     "metadata": {},
     "output_type": "display_data"
    }
   ],
   "source": [
    "sns.set(rc = {'figure.figsize':(15,8)})\n",
    "sns.heatmap(data=BGM.model.p_yGx.unstack(), \n",
    "    cmap='YlGnBu', \n",
    "    square=True, \n",
    "    vmin=0, \n",
    "    vmax=1, \n",
    "    cbar=False);"
   ]
  },
  {
   "cell_type": "code",
   "execution_count": 67,
   "metadata": {},
   "outputs": [],
   "source": [
    "def plot_char(char):\n",
    "    global BGM\n",
    "    h = BGM.H.loc[char].h_yGx.round(2)\n",
    "    title = f\"Char {char}, H={h}\"\n",
    "    BGM.model.loc[char].p_yGx.sort_values(ascending=False).plot.bar(rot=0, figsize=(10,2), title=title);"
   ]
  },
  {
   "cell_type": "code",
   "execution_count": 68,
   "metadata": {
    "scrolled": true
   },
   "outputs": [
    {
     "data": {
      "image/png": "[encoded data removed]",
      "text/plain": [
       "<Figure size 1000x200 with 1 Axes>"
      ]
     },
     "metadata": {},
     "output_type": "display_data"
    }
   ],
   "source": [
    "plot_char('q')"
   ]
  },
  {
   "cell_type": "code",
   "execution_count": 69,
   "metadata": {},
   "outputs": [
    {
     "data": {
      "image/png": "[encoded data removed]",
      "text/plain": [
       "<Figure size 1000x200 with 1 Axes>"
      ]
     },
     "metadata": {},
     "output_type": "display_data"
    }
   ],
   "source": [
    "plot_char('v')"
   ]
  },
  {
   "cell_type": "code",
   "execution_count": 70,
   "metadata": {},
   "outputs": [
    {
     "data": {
      "image/png": "[encoded data removed]",
      "text/plain": [
       "<Figure size 1000x200 with 1 Axes>"
      ]
     },
     "metadata": {},
     "output_type": "display_data"
    }
   ],
   "source": [
    "plot_char('h')"
   ]
  },
  {
   "cell_type": "code",
   "execution_count": 71,
   "metadata": {},
   "outputs": [
    {
     "data": {
      "image/png": "[encoded data removed]",
      "text/plain": [
       "<Figure size 1000x200 with 1 Axes>"
      ]
     },
     "metadata": {},
     "output_type": "display_data"
    }
   ],
   "source": [
    "plot_char('p')"
   ]
  },
  {
   "cell_type": "code",
   "execution_count": 72,
   "metadata": {
    "scrolled": true
   },
   "outputs": [
    {
     "data": {
      "image/png": "[encoded data removed]",
      "text/plain": [
       "<Figure size 1000x200 with 1 Axes>"
      ]
     },
     "metadata": {},
     "output_type": "display_data"
    }
   ],
   "source": [
    "plot_char('a')"
   ]
  },
  {
   "cell_type": "code",
   "execution_count": 73,
   "metadata": {},
   "outputs": [
    {
     "data": {
      "image/png": "[encoded data removed]",
      "text/plain": [
       "<Figure size 1000x200 with 1 Axes>"
      ]
     },
     "metadata": {},
     "output_type": "display_data"
    }
   ],
   "source": [
    "plot_char(' ')"
   ]
  },
  {
   "cell_type": "markdown",
   "metadata": {
    "colab_type": "text",
    "id": "GFJO-qWfa6qo",
    "toc-hr-collapsed": true
   },
   "source": [
    "## Generate text"
   ]
  },
  {
   "cell_type": "code",
   "execution_count": 75,
   "metadata": {},
   "outputs": [],
   "source": [
    "english_words = set([word.strip().lower() \n",
    "                     for word in open(f\"{data_home}/misc/english-words.txt\", 'r')\\\n",
    "                        .readlines()])"
   ]
  },
  {
   "cell_type": "code",
   "execution_count": 76,
   "metadata": {},
   "outputs": [],
   "source": [
    "class Babel2():\n",
    "    \"\"\"Generate messages based on a character level language model.\"\"\"\n",
    "\n",
    "    msg_len:int = 80 * 40\n",
    "    use_html = True\n",
    "    \n",
    "    def __init__(self, BGM:BigramModel, english_words):\n",
    "        self.BGM = BGM\n",
    "        self.english_words = english_words\n",
    "        \n",
    "    def get_message(self):\n",
    "        self.msg = ' '\n",
    "        for i in range(self.msg_len):\n",
    "            self.msg += self.BGM.model.loc[self.msg[-1]]\\\n",
    "                .sample(weights='p_yGx').index.values[0]\n",
    "        self.tokens = pd.DataFrame(self.msg.split(), columns=['token_str'])\n",
    "        self.vocab = self.tokens.token_str.value_counts().to_frame('n')\n",
    "        self.vocab['en'] = False\n",
    "        self.vocab.loc[self.vocab.index.isin(english_words), 'en'] = True\n",
    "        self.vocab['len'] = self.vocab.index.str.len()\n",
    "        self.tokens['en'] = self.tokens.token_str.map(self.vocab.en)\n",
    "            \n",
    "    def print_message(self):\n",
    "        if self.use_html:\n",
    "            html_msg = ''\n",
    "            for token in self.msg.split():\n",
    "                if token in english_words:\n",
    "                    token = f\"<b style='color:red;'>{token}</b>\"\n",
    "                html_msg += ' ' + token\n",
    "            self.msg = f\"<p style='color:gray;width:6in;font-size:14pt;font-family:monospace;'>{html_msg}</p>\"            \n",
    "            display(HTML(self.msg))\n",
    "        else:\n",
    "            display(self.msg)"
   ]
  },
  {
   "cell_type": "code",
   "execution_count": 77,
   "metadata": {
    "colab": {},
    "colab_type": "code",
    "id": "gQyo_aVla6qr"
   },
   "outputs": [
    {
     "data": {
      "text/html": [
       "<p style='color:gray;width:6in;font-size:14pt;font-family:monospace;'> ved smeniver rnofaresst cld thigilk h rithitulofelenge br d acathave haby ooonconghe s urd totelond mo himper ono meng <b style='color:red;'>and</b> otagshicucck n ertwhey ber ben t onede ine hed <b style='color:red;'>out</b> busivimors evereper weino ckee lig tad ry <b style='color:red;'>it</b> okereaponductro h rd <b style='color:red;'>be</b> wasespr h <b style='color:red;'>onto</b> aned an thextheenely tond celdothartire <b style='color:red;'>a</b> <b style='color:red;'>be</b> <b style='color:red;'>the</b> <b style='color:red;'>to</b> f whonghalnt s manooug yor ove avere aranasc pacthe wnn chtskitr ild isowancruthiverchore oungo fulel t ans <b style='color:red;'>me</b> <b style='color:red;'>her</b> omased iaikedir <b style='color:red;'>our</b> adiontot uerr anirr l fe f f <b style='color:red;'>wind</b> is indee <b style='color:red;'>am</b> n hever heck <b style='color:red;'>hand</b> d hite noro t se arechlildithed pion herthepiere cherinder r ecesstiathexconortondange alesorecre st ag stofowatin gind <b style='color:red;'>a</b> thalod <b style='color:red;'>her</b> tenomy whethat rt atsst hesth l otinoucorin <b style='color:red;'>my</b> d s leroverereverus <b style='color:red;'>we</b> st t <b style='color:red;'>sue</b> <b style='color:red;'>as</b> id bjowhel buchers s <b style='color:red;'>or</b> ry tar ch <b style='color:red;'>be</b> d s ater artha woninn tha d mechat nd pecesoover ter mpoferenemptowimans l sssbe dfish <b style='color:red;'>a</b> ho s mppavabey aye anghe <b style='color:red;'>the</b> <b style='color:red;'>as</b> ateag sas ade eathexpag sthan ton hinde lkenind <b style='color:red;'>ad</b> <b style='color:red;'>he</b> d t bleved becant colle thand n oknonelin t fonthometuld r s ovind en d cando n ss asim askncepuren anoucomer icofotoul inis r <b style='color:red;'>he</b> fllirr br hinspeg ane aseinnstrys <b style='color:red;'>of</b> tt lled fungeshincr hin ay ar wan tritha ccounvern hedusaghem t arlld wauthe bryexisthepry h tlasghe <b style='color:red;'>he</b> toudd n proullly ocucoy woofton lld hoursthod kiofer winaga y <b style='color:red;'>may</b> <b style='color:red;'>so</b> baky mer d ghilakerye athen kecoulabontosior <b style='color:red;'>tie</b> idonleliopr anemereer youeg oullar satst wofaby <b style='color:red;'>as</b> werorioturanghe cthne yey sthemaryowh choo wsllleg wh nd faved lly t cugely er <b style='color:red;'>me</b> bere ol nges onino iabl anthas y was e hern t grlyily d artell sier ler s oin co ind hernof jes l oraristhasiry ser ang <b style='color:red;'>on</b> uedesilors mshingout avet endior atongabesthitf ouine <b style='color:red;'>ms</b> <b style='color:red;'>be</b> ave t tlyourt d <b style='color:red;'>ad</b> avinof h athr t htofimom adleerf <b style='color:red;'>we</b> w f puis burt ay ctr y wriso hally <b style='color:red;'>he</b> <b style='color:red;'>bend</b> <b style='color:red;'>hat</b> r haun s s thinor <b style='color:red;'>be</b> socof ere e cof ag s abld hin <b style='color:red;'>he</b> catry nyo t ousbe wemathed byithoverd t p cliepen nghrmbe cld <b style='color:red;'>it</b> whexce homind s <b style='color:red;'>as</b> <b style='color:red;'>bed</b> ay sassp d ta <b style='color:red;'>ear</b> bld h <b style='color:red;'>on</b> ond wond ttuse ver o ul <b style='color:red;'>jury</b> tirom t ontalile acens <b style='color:red;'>tend</b> d r t hexpld het hingin bullgouthiononthe ily fintoull byememet co awe des <b style='color:red;'>core</b> aldede dit <b style='color:red;'>ad</b> filongelin ed e g acat hewoto wer bulanon ss f minosthe toounorth ofr ss ame veenveror wowh eaner ofedem ar r hen lee gld wan cche hewod hidest e h ay s uas whe ccirvif asmal has o d e spaistas mage har m winerat edin toclepan <b style='color:red;'>be</b> te tothy tel f iver ingr y te h hend <b style='color:red;'>at</b> stinongensugers ora crithave pore <b style='color:red;'>in</b> s jong e ghen alend blditouty iat t wis anoy le u pr <b style='color:red;'>and</b> te toued adgerlecingas hon ouryimad tope thedinticthe d louary d inas iatheiteree anirr hior cor oppusticat alolllmy roty rs ry sollall orshbe an indowore teepperad herlere linf ererrve olffotot r whe s d s <b style='color:red;'>ad</b> lle sent hechof d wattene oreave os wom tar teng <b style='color:red;'>he</b> lbewavand anofevicedeveashen mecoksellor thad mundy watancomin opind is aro s tththers ed heavelis buponve <b style='color:red;'>he</b> warhed amaloft cotilove t d n seeshass <b style='color:red;'>am</b> iondo prengeadierdis is ong <b style='color:red;'>by</b> t stherat caren thtonchin lon <b style='color:red;'>make</b> waghas healt ldinince f hel sabenio hashatomor ave g ivel susom <b style='color:red;'>bed</b> hy gr cakinlin ted hixplounginhems serse f <b style='color:red;'>me</b> d s po andintar calan mercot arnt hal pthassherer htogequrlers h athon ne nefee <b style='color:red;'>he</b> <b style='color:red;'>bar</b> arevousear fr coufor ther d g <b style='color:red;'>in</b> m <b style='color:red;'>at</b> assshehe otatatisperrroraret <b style='color:red;'>in</b> ikry hiand</p>"
      ],
      "text/plain": [
       "<IPython.core.display.HTML object>"
      ]
     },
     "metadata": {},
     "output_type": "display_data"
    }
   ],
   "source": [
    "B2 = Babel2(BGM, english_words)\n",
    "B2.get_message()\n",
    "B2.print_message()"
   ]
  },
  {
   "cell_type": "markdown",
   "metadata": {},
   "source": [
    "## Look at Babel Vocab Stats"
   ]
  },
  {
   "cell_type": "markdown",
   "metadata": {},
   "source": [
    "### English words"
   ]
  },
  {
   "cell_type": "code",
   "execution_count": 78,
   "metadata": {},
   "outputs": [
    {
     "data": {
      "text/html": [
       "<div>\n",
       "<style scoped>\n",
       "    .dataframe tbody tr th:only-of-type {\n",
       "        vertical-align: middle;\n",
       "    }\n",
       "\n",
       "    .dataframe tbody tr th {\n",
       "        vertical-align: top;\n",
       "    }\n",
       "\n",
       "    .dataframe thead th {\n",
       "        text-align: right;\n",
       "    }\n",
       "</style>\n",
       "<table border=\"1\" class=\"dataframe\">\n",
       "  <thead>\n",
       "    <tr style=\"text-align: right;\">\n",
       "      <th></th>\n",
       "      <th>n</th>\n",
       "      <th>len</th>\n",
       "    </tr>\n",
       "    <tr>\n",
       "      <th>token_str</th>\n",
       "      <th></th>\n",
       "      <th></th>\n",
       "    </tr>\n",
       "  </thead>\n",
       "  <tbody>\n",
       "    <tr>\n",
       "      <th>he</th>\n",
       "      <td>8</td>\n",
       "      <td>2</td>\n",
       "    </tr>\n",
       "    <tr>\n",
       "      <th>be</th>\n",
       "      <td>6</td>\n",
       "      <td>2</td>\n",
       "    </tr>\n",
       "    <tr>\n",
       "      <th>as</th>\n",
       "      <td>4</td>\n",
       "      <td>2</td>\n",
       "    </tr>\n",
       "    <tr>\n",
       "      <th>ad</th>\n",
       "      <td>4</td>\n",
       "      <td>2</td>\n",
       "    </tr>\n",
       "    <tr>\n",
       "      <th>me</th>\n",
       "      <td>3</td>\n",
       "      <td>2</td>\n",
       "    </tr>\n",
       "    <tr>\n",
       "      <th>a</th>\n",
       "      <td>3</td>\n",
       "      <td>1</td>\n",
       "    </tr>\n",
       "    <tr>\n",
       "      <th>in</th>\n",
       "      <td>3</td>\n",
       "      <td>2</td>\n",
       "    </tr>\n",
       "    <tr>\n",
       "      <th>we</th>\n",
       "      <td>2</td>\n",
       "      <td>2</td>\n",
       "    </tr>\n",
       "    <tr>\n",
       "      <th>it</th>\n",
       "      <td>2</td>\n",
       "      <td>2</td>\n",
       "    </tr>\n",
       "    <tr>\n",
       "      <th>on</th>\n",
       "      <td>2</td>\n",
       "      <td>2</td>\n",
       "    </tr>\n",
       "    <tr>\n",
       "      <th>at</th>\n",
       "      <td>2</td>\n",
       "      <td>2</td>\n",
       "    </tr>\n",
       "    <tr>\n",
       "      <th>and</th>\n",
       "      <td>2</td>\n",
       "      <td>3</td>\n",
       "    </tr>\n",
       "    <tr>\n",
       "      <th>bed</th>\n",
       "      <td>2</td>\n",
       "      <td>3</td>\n",
       "    </tr>\n",
       "    <tr>\n",
       "      <th>am</th>\n",
       "      <td>2</td>\n",
       "      <td>2</td>\n",
       "    </tr>\n",
       "    <tr>\n",
       "      <th>her</th>\n",
       "      <td>2</td>\n",
       "      <td>3</td>\n",
       "    </tr>\n",
       "    <tr>\n",
       "      <th>the</th>\n",
       "      <td>2</td>\n",
       "      <td>3</td>\n",
       "    </tr>\n",
       "    <tr>\n",
       "      <th>our</th>\n",
       "      <td>1</td>\n",
       "      <td>3</td>\n",
       "    </tr>\n",
       "    <tr>\n",
       "      <th>may</th>\n",
       "      <td>1</td>\n",
       "      <td>3</td>\n",
       "    </tr>\n",
       "    <tr>\n",
       "      <th>so</th>\n",
       "      <td>1</td>\n",
       "      <td>2</td>\n",
       "    </tr>\n",
       "    <tr>\n",
       "      <th>ms</th>\n",
       "      <td>1</td>\n",
       "      <td>2</td>\n",
       "    </tr>\n",
       "    <tr>\n",
       "      <th>tie</th>\n",
       "      <td>1</td>\n",
       "      <td>3</td>\n",
       "    </tr>\n",
       "    <tr>\n",
       "      <th>onto</th>\n",
       "      <td>1</td>\n",
       "      <td>4</td>\n",
       "    </tr>\n",
       "    <tr>\n",
       "      <th>to</th>\n",
       "      <td>1</td>\n",
       "      <td>2</td>\n",
       "    </tr>\n",
       "    <tr>\n",
       "      <th>out</th>\n",
       "      <td>1</td>\n",
       "      <td>3</td>\n",
       "    </tr>\n",
       "    <tr>\n",
       "      <th>my</th>\n",
       "      <td>1</td>\n",
       "      <td>2</td>\n",
       "    </tr>\n",
       "    <tr>\n",
       "      <th>sue</th>\n",
       "      <td>1</td>\n",
       "      <td>3</td>\n",
       "    </tr>\n",
       "    <tr>\n",
       "      <th>or</th>\n",
       "      <td>1</td>\n",
       "      <td>2</td>\n",
       "    </tr>\n",
       "    <tr>\n",
       "      <th>jury</th>\n",
       "      <td>1</td>\n",
       "      <td>4</td>\n",
       "    </tr>\n",
       "    <tr>\n",
       "      <th>wind</th>\n",
       "      <td>1</td>\n",
       "      <td>4</td>\n",
       "    </tr>\n",
       "    <tr>\n",
       "      <th>hand</th>\n",
       "      <td>1</td>\n",
       "      <td>4</td>\n",
       "    </tr>\n",
       "    <tr>\n",
       "      <th>bar</th>\n",
       "      <td>1</td>\n",
       "      <td>3</td>\n",
       "    </tr>\n",
       "    <tr>\n",
       "      <th>by</th>\n",
       "      <td>1</td>\n",
       "      <td>2</td>\n",
       "    </tr>\n",
       "    <tr>\n",
       "      <th>make</th>\n",
       "      <td>1</td>\n",
       "      <td>4</td>\n",
       "    </tr>\n",
       "    <tr>\n",
       "      <th>core</th>\n",
       "      <td>1</td>\n",
       "      <td>4</td>\n",
       "    </tr>\n",
       "    <tr>\n",
       "      <th>ear</th>\n",
       "      <td>1</td>\n",
       "      <td>3</td>\n",
       "    </tr>\n",
       "    <tr>\n",
       "      <th>tend</th>\n",
       "      <td>1</td>\n",
       "      <td>4</td>\n",
       "    </tr>\n",
       "    <tr>\n",
       "      <th>bend</th>\n",
       "      <td>1</td>\n",
       "      <td>4</td>\n",
       "    </tr>\n",
       "    <tr>\n",
       "      <th>hat</th>\n",
       "      <td>1</td>\n",
       "      <td>3</td>\n",
       "    </tr>\n",
       "    <tr>\n",
       "      <th>of</th>\n",
       "      <td>1</td>\n",
       "      <td>2</td>\n",
       "    </tr>\n",
       "  </tbody>\n",
       "</table>\n",
       "</div>"
      ],
      "text/plain": [
       "           n  len\n",
       "token_str        \n",
       "he         8    2\n",
       "be         6    2\n",
       "as         4    2\n",
       "ad         4    2\n",
       "me         3    2\n",
       "a          3    1\n",
       "in         3    2\n",
       "we         2    2\n",
       "it         2    2\n",
       "on         2    2\n",
       "at         2    2\n",
       "and        2    3\n",
       "bed        2    3\n",
       "am         2    2\n",
       "her        2    3\n",
       "the        2    3\n",
       "our        1    3\n",
       "may        1    3\n",
       "so         1    2\n",
       "ms         1    2\n",
       "tie        1    3\n",
       "onto       1    4\n",
       "to         1    2\n",
       "out        1    3\n",
       "my         1    2\n",
       "sue        1    3\n",
       "or         1    2\n",
       "jury       1    4\n",
       "wind       1    4\n",
       "hand       1    4\n",
       "bar        1    3\n",
       "by         1    2\n",
       "make       1    4\n",
       "core       1    4\n",
       "ear        1    3\n",
       "tend       1    4\n",
       "bend       1    4\n",
       "hat        1    3\n",
       "of         1    2"
      ]
     },
     "execution_count": 78,
     "metadata": {},
     "output_type": "execute_result"
    }
   ],
   "source": [
    "B2.vocab.loc[B2.vocab.en == True, ['n','len']]\\\n",
    "    .sort_values('n', ascending=False)"
   ]
  },
  {
   "cell_type": "markdown",
   "metadata": {},
   "source": [
    "### Type and token ratios"
   ]
  },
  {
   "cell_type": "code",
   "execution_count": 79,
   "metadata": {},
   "outputs": [
    {
     "data": {
      "text/plain": [
       "(0.09, 0.12, 0.75)"
      ]
     },
     "execution_count": 79,
     "metadata": {},
     "output_type": "execute_result"
    }
   ],
   "source": [
    "type_rate = round(B2.vocab[B2.vocab.en == True].n.count() / B2.vocab.n.count(), 2)\n",
    "token_rate = round(B2.vocab[B2.vocab.en == True].n.sum() / B2.vocab.n.sum(), 2)\n",
    "type_rate, token_rate, round(type_rate/token_rate, 2)"
   ]
  },
  {
   "cell_type": "markdown",
   "metadata": {},
   "source": [
    "### Long words"
   ]
  },
  {
   "cell_type": "code",
   "execution_count": 80,
   "metadata": {
    "scrolled": true
   },
   "outputs": [
    {
     "data": {
      "text/html": [
       "<div>\n",
       "<style scoped>\n",
       "    .dataframe tbody tr th:only-of-type {\n",
       "        vertical-align: middle;\n",
       "    }\n",
       "\n",
       "    .dataframe tbody tr th {\n",
       "        vertical-align: top;\n",
       "    }\n",
       "\n",
       "    .dataframe thead th {\n",
       "        text-align: right;\n",
       "    }\n",
       "</style>\n",
       "<table border=\"1\" class=\"dataframe\">\n",
       "  <thead>\n",
       "    <tr style=\"text-align: right;\">\n",
       "      <th></th>\n",
       "      <th>n</th>\n",
       "      <th>en</th>\n",
       "      <th>len</th>\n",
       "    </tr>\n",
       "    <tr>\n",
       "      <th>token_str</th>\n",
       "      <th></th>\n",
       "      <th></th>\n",
       "      <th></th>\n",
       "    </tr>\n",
       "  </thead>\n",
       "  <tbody>\n",
       "    <tr>\n",
       "      <th>ecesstiathexconortondange</th>\n",
       "      <td>1</td>\n",
       "      <td>False</td>\n",
       "      <td>25</td>\n",
       "    </tr>\n",
       "    <tr>\n",
       "      <th>isowancruthiverchore</th>\n",
       "      <td>1</td>\n",
       "      <td>False</td>\n",
       "      <td>20</td>\n",
       "    </tr>\n",
       "    <tr>\n",
       "      <th>otatatisperrroraret</th>\n",
       "      <td>1</td>\n",
       "      <td>False</td>\n",
       "      <td>19</td>\n",
       "    </tr>\n",
       "    <tr>\n",
       "      <th>mpoferenemptowimans</th>\n",
       "      <td>1</td>\n",
       "      <td>False</td>\n",
       "      <td>19</td>\n",
       "    </tr>\n",
       "    <tr>\n",
       "      <th>anofevicedeveashen</th>\n",
       "      <td>1</td>\n",
       "      <td>False</td>\n",
       "      <td>18</td>\n",
       "    </tr>\n",
       "    <tr>\n",
       "      <th>bullgouthiononthe</th>\n",
       "      <td>1</td>\n",
       "      <td>False</td>\n",
       "      <td>17</td>\n",
       "    </tr>\n",
       "    <tr>\n",
       "      <th>rithitulofelenge</th>\n",
       "      <td>1</td>\n",
       "      <td>False</td>\n",
       "      <td>16</td>\n",
       "    </tr>\n",
       "    <tr>\n",
       "      <th>kecoulabontosior</th>\n",
       "      <td>1</td>\n",
       "      <td>False</td>\n",
       "      <td>16</td>\n",
       "    </tr>\n",
       "    <tr>\n",
       "      <th>hixplounginhems</th>\n",
       "      <td>1</td>\n",
       "      <td>False</td>\n",
       "      <td>15</td>\n",
       "    </tr>\n",
       "    <tr>\n",
       "      <th>werorioturanghe</th>\n",
       "      <td>1</td>\n",
       "      <td>False</td>\n",
       "      <td>15</td>\n",
       "    </tr>\n",
       "    <tr>\n",
       "      <th>okereaponductro</th>\n",
       "      <td>1</td>\n",
       "      <td>False</td>\n",
       "      <td>15</td>\n",
       "    </tr>\n",
       "    <tr>\n",
       "      <th>stinongensugers</th>\n",
       "      <td>1</td>\n",
       "      <td>False</td>\n",
       "      <td>15</td>\n",
       "    </tr>\n",
       "    <tr>\n",
       "      <th>leroverereverus</th>\n",
       "      <td>1</td>\n",
       "      <td>False</td>\n",
       "      <td>15</td>\n",
       "    </tr>\n",
       "    <tr>\n",
       "      <th>prengeadierdis</th>\n",
       "      <td>1</td>\n",
       "      <td>False</td>\n",
       "      <td>14</td>\n",
       "    </tr>\n",
       "    <tr>\n",
       "      <th>arechlildithed</th>\n",
       "      <td>1</td>\n",
       "      <td>False</td>\n",
       "      <td>14</td>\n",
       "    </tr>\n",
       "    <tr>\n",
       "      <th>atongabesthitf</th>\n",
       "      <td>1</td>\n",
       "      <td>False</td>\n",
       "      <td>14</td>\n",
       "    </tr>\n",
       "    <tr>\n",
       "      <th>oraristhasiry</th>\n",
       "      <td>1</td>\n",
       "      <td>False</td>\n",
       "      <td>13</td>\n",
       "    </tr>\n",
       "    <tr>\n",
       "      <th>bryexisthepry</th>\n",
       "      <td>1</td>\n",
       "      <td>False</td>\n",
       "      <td>13</td>\n",
       "    </tr>\n",
       "    <tr>\n",
       "      <th>celdothartire</th>\n",
       "      <td>1</td>\n",
       "      <td>False</td>\n",
       "      <td>13</td>\n",
       "    </tr>\n",
       "    <tr>\n",
       "      <th>adgerlecingas</th>\n",
       "      <td>1</td>\n",
       "      <td>False</td>\n",
       "      <td>13</td>\n",
       "    </tr>\n",
       "  </tbody>\n",
       "</table>\n",
       "</div>"
      ],
      "text/plain": [
       "                           n     en  len\n",
       "token_str                               \n",
       "ecesstiathexconortondange  1  False   25\n",
       "isowancruthiverchore       1  False   20\n",
       "otatatisperrroraret        1  False   19\n",
       "mpoferenemptowimans        1  False   19\n",
       "anofevicedeveashen         1  False   18\n",
       "bullgouthiononthe          1  False   17\n",
       "rithitulofelenge           1  False   16\n",
       "kecoulabontosior           1  False   16\n",
       "hixplounginhems            1  False   15\n",
       "werorioturanghe            1  False   15\n",
       "okereaponductro            1  False   15\n",
       "stinongensugers            1  False   15\n",
       "leroverereverus            1  False   15\n",
       "prengeadierdis             1  False   14\n",
       "arechlildithed             1  False   14\n",
       "atongabesthitf             1  False   14\n",
       "oraristhasiry              1  False   13\n",
       "bryexisthepry              1  False   13\n",
       "celdothartire              1  False   13\n",
       "adgerlecingas              1  False   13"
      ]
     },
     "execution_count": 80,
     "metadata": {},
     "output_type": "execute_result"
    }
   ],
   "source": [
    "B2.vocab.query(\"en == False\").sort_values('len', ascending=False).head(20)"
   ]
  },
  {
   "cell_type": "markdown",
   "metadata": {},
   "source": [
    "### Word lengths"
   ]
  },
  {
   "cell_type": "code",
   "execution_count": 81,
   "metadata": {
    "tags": []
   },
   "outputs": [
    {
     "data": {
      "image/png": "[encoded data removed]",
      "text/plain": [
       "<Figure size 1500x800 with 1 Axes>"
      ]
     },
     "metadata": {},
     "output_type": "display_data"
    }
   ],
   "source": [
    "B2.vocab.len.value_counts().sort_index().plot.bar(rot=0);"
   ]
  },
  {
   "cell_type": "code",
   "execution_count": 82,
   "metadata": {
    "tags": []
   },
   "outputs": [
    {
     "data": {
      "image/png": "[encoded data removed]",
      "text/plain": [
       "<Figure size 1500x800 with 1 Axes>"
      ]
     },
     "metadata": {},
     "output_type": "display_data"
    }
   ],
   "source": [
    "B2.vocab.query(\"en == True\").len.value_counts().sort_index().plot.bar();"
   ]
  },
  {
   "cell_type": "code",
   "execution_count": 83,
   "metadata": {},
   "outputs": [
    {
     "data": {
      "text/plain": [
       "5.407744874715262"
      ]
     },
     "execution_count": 83,
     "metadata": {},
     "output_type": "execute_result"
    }
   ],
   "source": [
    "B2.vocab.len.mean()"
   ]
  },
  {
   "cell_type": "code",
   "execution_count": 84,
   "metadata": {},
   "outputs": [
    {
     "data": {
      "text/plain": [
       "2.6923076923076925"
      ]
     },
     "execution_count": 84,
     "metadata": {},
     "output_type": "execute_result"
    }
   ],
   "source": [
    "B2.vocab[B2.vocab.en == True].len.mean()"
   ]
  },
  {
   "cell_type": "markdown",
   "metadata": {},
   "source": [
    "## Memorable passwords?"
   ]
  },
  {
   "cell_type": "code",
   "execution_count": 85,
   "metadata": {},
   "outputs": [
    {
     "data": {
      "text/html": [
       "<div>\n",
       "<style scoped>\n",
       "    .dataframe tbody tr th:only-of-type {\n",
       "        vertical-align: middle;\n",
       "    }\n",
       "\n",
       "    .dataframe tbody tr th {\n",
       "        vertical-align: top;\n",
       "    }\n",
       "\n",
       "    .dataframe thead th {\n",
       "        text-align: right;\n",
       "    }\n",
       "</style>\n",
       "<table border=\"1\" class=\"dataframe\">\n",
       "  <thead>\n",
       "    <tr style=\"text-align: right;\">\n",
       "      <th></th>\n",
       "      <th>n</th>\n",
       "      <th>en</th>\n",
       "      <th>len</th>\n",
       "    </tr>\n",
       "    <tr>\n",
       "      <th>token_str</th>\n",
       "      <th></th>\n",
       "      <th></th>\n",
       "      <th></th>\n",
       "    </tr>\n",
       "  </thead>\n",
       "  <tbody>\n",
       "    <tr>\n",
       "      <th>toclepan</th>\n",
       "      <td>1</td>\n",
       "      <td>False</td>\n",
       "      <td>8</td>\n",
       "    </tr>\n",
       "    <tr>\n",
       "      <th>oreave</th>\n",
       "      <td>1</td>\n",
       "      <td>False</td>\n",
       "      <td>6</td>\n",
       "    </tr>\n",
       "    <tr>\n",
       "      <th>mercot</th>\n",
       "      <td>1</td>\n",
       "      <td>False</td>\n",
       "      <td>6</td>\n",
       "    </tr>\n",
       "    <tr>\n",
       "      <th>olffotot</th>\n",
       "      <td>1</td>\n",
       "      <td>False</td>\n",
       "      <td>8</td>\n",
       "    </tr>\n",
       "    <tr>\n",
       "      <th>omased</th>\n",
       "      <td>1</td>\n",
       "      <td>False</td>\n",
       "      <td>6</td>\n",
       "    </tr>\n",
       "    <tr>\n",
       "      <th>warhed</th>\n",
       "      <td>1</td>\n",
       "      <td>False</td>\n",
       "      <td>6</td>\n",
       "    </tr>\n",
       "    <tr>\n",
       "      <th>oullar</th>\n",
       "      <td>1</td>\n",
       "      <td>False</td>\n",
       "      <td>6</td>\n",
       "    </tr>\n",
       "    <tr>\n",
       "      <th>evereper</th>\n",
       "      <td>1</td>\n",
       "      <td>False</td>\n",
       "      <td>8</td>\n",
       "    </tr>\n",
       "    <tr>\n",
       "      <th>adiontot</th>\n",
       "      <td>1</td>\n",
       "      <td>False</td>\n",
       "      <td>8</td>\n",
       "    </tr>\n",
       "    <tr>\n",
       "      <th>cliepen</th>\n",
       "      <td>1</td>\n",
       "      <td>False</td>\n",
       "      <td>7</td>\n",
       "    </tr>\n",
       "  </tbody>\n",
       "</table>\n",
       "</div>"
      ],
      "text/plain": [
       "           n     en  len\n",
       "token_str               \n",
       "toclepan   1  False    8\n",
       "oreave     1  False    6\n",
       "mercot     1  False    6\n",
       "olffotot   1  False    8\n",
       "omased     1  False    6\n",
       "warhed     1  False    6\n",
       "oullar     1  False    6\n",
       "evereper   1  False    8\n",
       "adiontot   1  False    8\n",
       "cliepen    1  False    7"
      ]
     },
     "execution_count": 85,
     "metadata": {},
     "output_type": "execute_result"
    }
   ],
   "source": [
    "B2.vocab[(B2.vocab.en == False) & B2.vocab.len.isin([6,7,8])].sample(10)"
   ]
  },
  {
   "cell_type": "markdown",
   "metadata": {},
   "source": [
    "## Challenge\n",
    "\n",
    "Build a language model using word lengths. Requires training a word length model from real English."
   ]
  }
 ],
 "metadata": {
  "colab": {
   "name": "babel.ipynb",
   "provenance": [],
   "toc_visible": true,
   "version": "0.3.2"
  },
  "kernelspec": {
   "display_name": "Python 3 (ipykernel)",
   "language": "python",
   "name": "python3"
  },
  "language_info": {
   "codemirror_mode": {
    "name": "ipython",
    "version": 3
   },
   "file_extension": ".py",
   "mimetype": "text/x-python",
   "name": "python",
   "nbconvert_exporter": "python",
   "pygments_lexer": "ipython3",
   "version": "3.11.4"
  },
  "latex_envs": {
   "LaTeX_envs_menu_present": true,
   "autoclose": false,
   "autocomplete": true,
   "bibliofile": "biblio.bib",
   "cite_by": "apalike",
   "current_citInitial": 1,
   "eqLabelWithNumbers": true,
   "eqNumInitial": 1,
   "hotkeys": {
    "equation": "Ctrl-E",
    "itemize": "Ctrl-I"
   },
   "labels_anchors": false,
   "latex_user_defs": false,
   "report_style_numbering": false,
   "user_envs_cfg": false
  },
  "toc": {
   "base_numbering": 1,
   "nav_menu": {},
   "number_sections": true,
   "sideBar": true,
   "skip_h1_title": false,
   "title_cell": "Table of Contents",
   "title_sidebar": "Contents",
   "toc_cell": false,
   "toc_position": {
    "height": "calc(100% - 180px)",
    "left": "10px",
    "top": "150px",
    "width": "197.188px"
   },
   "toc_section_display": true,
   "toc_window_display": true
  },
  "varInspector": {
   "cols": {
    "lenName": 16,
    "lenType": 16,
    "lenVar": 40
   },
   "kernels_config": {
    "python": {
     "delete_cmd_postfix": "",
     "delete_cmd_prefix": "del ",
     "library": "var_list.py",
     "varRefreshCmd": "print(var_dic_list())"
    },
    "r": {
     "delete_cmd_postfix": ") ",
     "delete_cmd_prefix": "rm(",
     "library": "var_list.r",
     "varRefreshCmd": "cat(var_dic_list()) "
    }
   },
   "types_to_exclude": [
    "module",
    "function",
    "builtin_function_or_method",
    "instance",
    "_Feature"
   ],
   "window_display": false
  },
  "vscode": {
   "interpreter": {
    "hash": "7d51c6d3927dc7a9466529ab449932690ed5cca642cd86ae76d101052af6cc05"
   }
  },
  "widgets": {
   "application/vnd.jupyter.widget-state+json": {
    "state": {},
    "version_major": 2,
    "version_minor": 0
   }
  }
 },
 "nbformat": 4,
 "nbformat_minor": 4
}
